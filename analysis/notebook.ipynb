{
 "cells": [
  {
   "cell_type": "code",
   "execution_count": 66,
   "metadata": {},
   "outputs": [],
   "source": [
    "from datetime import datetime\n",
    "import time\n",
    "\n",
    "import pandas as pd\n",
    "from sklearn.model_selection import train_test_split\n",
    "\n",
    "from sklearn.preprocessing import RobustScaler\n",
    "\n",
    "from statsmodels.stats.outliers_influence import variance_inflation_factor\n",
    "from imblearn.over_sampling import SMOTE\n",
    "\n",
    "import autosklearn.classification\n",
    "\n",
    "from sklearn.neural_network import MLPClassifier\n",
    "from sklearn.tree import DecisionTreeClassifier\n",
    "from sklearn.neighbors import KNeighborsRegressor\n",
    "\n",
    "from sklearn.metrics import plot_confusion_matrix, f1_score, accuracy_score, precision_score, recall_score\n",
    "from sklearn.metrics import mean_squared_error\n",
    "from math import sqrt\n",
    "\n",
    "import matplotlib.pyplot as plt\n",
    "import seaborn as sns\n"
   ]
  },
  {
   "cell_type": "markdown",
   "metadata": {},
   "source": [
    "## EDA"
   ]
  },
  {
   "cell_type": "code",
   "execution_count": 67,
   "metadata": {},
   "outputs": [],
   "source": [
    "df = pd.read_csv('../data/ordens_case_dnc_.csv', index_col='id')\n"
   ]
  },
  {
   "cell_type": "code",
   "execution_count": 68,
   "metadata": {},
   "outputs": [
    {
     "data": {
      "text/html": [
       "<div>\n",
       "<style scoped>\n",
       "    .dataframe tbody tr th:only-of-type {\n",
       "        vertical-align: middle;\n",
       "    }\n",
       "\n",
       "    .dataframe tbody tr th {\n",
       "        vertical-align: top;\n",
       "    }\n",
       "\n",
       "    .dataframe thead th {\n",
       "        text-align: right;\n",
       "    }\n",
       "</style>\n",
       "<table border=\"1\" class=\"dataframe\">\n",
       "  <thead>\n",
       "    <tr style=\"text-align: right;\">\n",
       "      <th></th>\n",
       "      <th>price</th>\n",
       "      <th>order_date</th>\n",
       "      <th>due_date</th>\n",
       "      <th>opt_date</th>\n",
       "      <th>delivery_date</th>\n",
       "      <th>cidade_origem_id</th>\n",
       "      <th>regiao_origem_id</th>\n",
       "      <th>cidade_destino_id</th>\n",
       "      <th>regiao_destino_id</th>\n",
       "      <th>peso</th>\n",
       "    </tr>\n",
       "    <tr>\n",
       "      <th>id</th>\n",
       "      <th></th>\n",
       "      <th></th>\n",
       "      <th></th>\n",
       "      <th></th>\n",
       "      <th></th>\n",
       "      <th></th>\n",
       "      <th></th>\n",
       "      <th></th>\n",
       "      <th></th>\n",
       "      <th></th>\n",
       "    </tr>\n",
       "  </thead>\n",
       "  <tbody>\n",
       "    <tr>\n",
       "      <th>0</th>\n",
       "      <td>107.78</td>\n",
       "      <td>2022-02-25 20:46:25+00:00</td>\n",
       "      <td>2022-03-02 00:00:00</td>\n",
       "      <td>2022-02-28 20:35:20</td>\n",
       "      <td>2022-03-02 18:03:33</td>\n",
       "      <td>2</td>\n",
       "      <td>1</td>\n",
       "      <td>25</td>\n",
       "      <td>1</td>\n",
       "      <td>23.8</td>\n",
       "    </tr>\n",
       "    <tr>\n",
       "      <th>1</th>\n",
       "      <td>7.47</td>\n",
       "      <td>2022-02-23 20:34:59+00:00</td>\n",
       "      <td>2022-02-24 00:00:00</td>\n",
       "      <td>2022-02-24 09:56:23</td>\n",
       "      <td>2022-02-24 15:52:40</td>\n",
       "      <td>2</td>\n",
       "      <td>1</td>\n",
       "      <td>16</td>\n",
       "      <td>4</td>\n",
       "      <td>536.0</td>\n",
       "    </tr>\n",
       "  </tbody>\n",
       "</table>\n",
       "</div>"
      ],
      "text/plain": [
       "     price                 order_date             due_date  \\\n",
       "id                                                           \n",
       "0   107.78  2022-02-25 20:46:25+00:00  2022-03-02 00:00:00   \n",
       "1     7.47  2022-02-23 20:34:59+00:00  2022-02-24 00:00:00   \n",
       "\n",
       "               opt_date        delivery_date  cidade_origem_id  \\\n",
       "id                                                               \n",
       "0   2022-02-28 20:35:20  2022-03-02 18:03:33                 2   \n",
       "1   2022-02-24 09:56:23  2022-02-24 15:52:40                 2   \n",
       "\n",
       "    regiao_origem_id  cidade_destino_id  regiao_destino_id   peso  \n",
       "id                                                                 \n",
       "0                  1                 25                  1   23.8  \n",
       "1                  1                 16                  4  536.0  "
      ]
     },
     "execution_count": 68,
     "metadata": {},
     "output_type": "execute_result"
    }
   ],
   "source": [
    "df.head(2)"
   ]
  },
  {
   "cell_type": "markdown",
   "metadata": {},
   "source": [
    "Correção da data do campo \"order_date\""
   ]
  },
  {
   "cell_type": "code",
   "execution_count": 69,
   "metadata": {},
   "outputs": [],
   "source": [
    "df['order_date'] = df['order_date'].str[:-6]"
   ]
  },
  {
   "cell_type": "code",
   "execution_count": 70,
   "metadata": {},
   "outputs": [
    {
     "data": {
      "text/html": [
       "<div>\n",
       "<style scoped>\n",
       "    .dataframe tbody tr th:only-of-type {\n",
       "        vertical-align: middle;\n",
       "    }\n",
       "\n",
       "    .dataframe tbody tr th {\n",
       "        vertical-align: top;\n",
       "    }\n",
       "\n",
       "    .dataframe thead th {\n",
       "        text-align: right;\n",
       "    }\n",
       "</style>\n",
       "<table border=\"1\" class=\"dataframe\">\n",
       "  <thead>\n",
       "    <tr style=\"text-align: right;\">\n",
       "      <th></th>\n",
       "      <th>price</th>\n",
       "      <th>order_date</th>\n",
       "      <th>due_date</th>\n",
       "      <th>opt_date</th>\n",
       "      <th>delivery_date</th>\n",
       "      <th>cidade_origem_id</th>\n",
       "      <th>regiao_origem_id</th>\n",
       "      <th>cidade_destino_id</th>\n",
       "      <th>regiao_destino_id</th>\n",
       "      <th>peso</th>\n",
       "    </tr>\n",
       "    <tr>\n",
       "      <th>id</th>\n",
       "      <th></th>\n",
       "      <th></th>\n",
       "      <th></th>\n",
       "      <th></th>\n",
       "      <th></th>\n",
       "      <th></th>\n",
       "      <th></th>\n",
       "      <th></th>\n",
       "      <th></th>\n",
       "      <th></th>\n",
       "    </tr>\n",
       "  </thead>\n",
       "  <tbody>\n",
       "    <tr>\n",
       "      <th>0</th>\n",
       "      <td>107.78</td>\n",
       "      <td>2022-02-25 20:46:25</td>\n",
       "      <td>2022-03-02 00:00:00</td>\n",
       "      <td>2022-02-28 20:35:20</td>\n",
       "      <td>2022-03-02 18:03:33</td>\n",
       "      <td>2</td>\n",
       "      <td>1</td>\n",
       "      <td>25</td>\n",
       "      <td>1</td>\n",
       "      <td>23.8</td>\n",
       "    </tr>\n",
       "    <tr>\n",
       "      <th>1</th>\n",
       "      <td>7.47</td>\n",
       "      <td>2022-02-23 20:34:59</td>\n",
       "      <td>2022-02-24 00:00:00</td>\n",
       "      <td>2022-02-24 09:56:23</td>\n",
       "      <td>2022-02-24 15:52:40</td>\n",
       "      <td>2</td>\n",
       "      <td>1</td>\n",
       "      <td>16</td>\n",
       "      <td>4</td>\n",
       "      <td>536.0</td>\n",
       "    </tr>\n",
       "  </tbody>\n",
       "</table>\n",
       "</div>"
      ],
      "text/plain": [
       "     price           order_date             due_date             opt_date  \\\n",
       "id                                                                          \n",
       "0   107.78  2022-02-25 20:46:25  2022-03-02 00:00:00  2022-02-28 20:35:20   \n",
       "1     7.47  2022-02-23 20:34:59  2022-02-24 00:00:00  2022-02-24 09:56:23   \n",
       "\n",
       "          delivery_date  cidade_origem_id  regiao_origem_id  \\\n",
       "id                                                            \n",
       "0   2022-03-02 18:03:33                 2                 1   \n",
       "1   2022-02-24 15:52:40                 2                 1   \n",
       "\n",
       "    cidade_destino_id  regiao_destino_id   peso  \n",
       "id                                               \n",
       "0                  25                  1   23.8  \n",
       "1                  16                  4  536.0  "
      ]
     },
     "execution_count": 70,
     "metadata": {},
     "output_type": "execute_result"
    }
   ],
   "source": [
    "df.head(2)\n"
   ]
  },
  {
   "cell_type": "markdown",
   "metadata": {},
   "source": [
    "Transformação de todas as datas para segundos"
   ]
  },
  {
   "cell_type": "code",
   "execution_count": 71,
   "metadata": {},
   "outputs": [],
   "source": [
    "def getTimeSeconds(x):\n",
    "    d = datetime.strptime(x, \"%Y-%m-%d %H:%M:%S\")\n",
    "    return int(time.mktime(d.timetuple()))\n",
    "\n",
    "\n",
    "df['order_date'] = df['order_date'].apply(getTimeSeconds)\n",
    "df['due_date'] = df['due_date'].apply(getTimeSeconds)\n",
    "df['opt_date'] = df['opt_date'].apply(getTimeSeconds)\n",
    "df['delivery_date'] = df['delivery_date'].apply(getTimeSeconds)\n"
   ]
  },
  {
   "cell_type": "code",
   "execution_count": 72,
   "metadata": {},
   "outputs": [
    {
     "data": {
      "text/plain": [
       "24"
      ]
     },
     "execution_count": 72,
     "metadata": {},
     "output_type": "execute_result"
    }
   ],
   "source": [
    "len(df[df['opt_date'] < df['order_date']])\n"
   ]
  },
  {
   "cell_type": "markdown",
   "metadata": {},
   "source": [
    "Remoção dos valores cujo a data de postagem é menor do que a data de compra"
   ]
  },
  {
   "cell_type": "code",
   "execution_count": 73,
   "metadata": {},
   "outputs": [],
   "source": [
    "df = df[df['opt_date'] >= df['order_date']]\n"
   ]
  },
  {
   "cell_type": "code",
   "execution_count": 74,
   "metadata": {},
   "outputs": [
    {
     "data": {
      "text/plain": [
       "0"
      ]
     },
     "execution_count": 74,
     "metadata": {},
     "output_type": "execute_result"
    }
   ],
   "source": [
    "len(df[df['opt_date'] < df['order_date']])\n"
   ]
  },
  {
   "cell_type": "markdown",
   "metadata": {},
   "source": [
    "Criação das colunas \"post_time\" (tempo de postagem) e \"elapsed_time\" (tempo de entrega)"
   ]
  },
  {
   "cell_type": "code",
   "execution_count": 75,
   "metadata": {},
   "outputs": [],
   "source": [
    "df['post_time'] = df['opt_date'] - df['order_date']\n",
    "df['elapsed_time'] = df['delivery_date'] - df['opt_date']\n"
   ]
  },
  {
   "cell_type": "code",
   "execution_count": 76,
   "metadata": {},
   "outputs": [
    {
     "data": {
      "text/html": [
       "<div>\n",
       "<style scoped>\n",
       "    .dataframe tbody tr th:only-of-type {\n",
       "        vertical-align: middle;\n",
       "    }\n",
       "\n",
       "    .dataframe tbody tr th {\n",
       "        vertical-align: top;\n",
       "    }\n",
       "\n",
       "    .dataframe thead th {\n",
       "        text-align: right;\n",
       "    }\n",
       "</style>\n",
       "<table border=\"1\" class=\"dataframe\">\n",
       "  <thead>\n",
       "    <tr style=\"text-align: right;\">\n",
       "      <th></th>\n",
       "      <th>price</th>\n",
       "      <th>order_date</th>\n",
       "      <th>due_date</th>\n",
       "      <th>opt_date</th>\n",
       "      <th>delivery_date</th>\n",
       "      <th>cidade_origem_id</th>\n",
       "      <th>regiao_origem_id</th>\n",
       "      <th>cidade_destino_id</th>\n",
       "      <th>regiao_destino_id</th>\n",
       "      <th>peso</th>\n",
       "      <th>post_time</th>\n",
       "      <th>elapsed_time</th>\n",
       "    </tr>\n",
       "    <tr>\n",
       "      <th>id</th>\n",
       "      <th></th>\n",
       "      <th></th>\n",
       "      <th></th>\n",
       "      <th></th>\n",
       "      <th></th>\n",
       "      <th></th>\n",
       "      <th></th>\n",
       "      <th></th>\n",
       "      <th></th>\n",
       "      <th></th>\n",
       "      <th></th>\n",
       "      <th></th>\n",
       "    </tr>\n",
       "  </thead>\n",
       "  <tbody>\n",
       "    <tr>\n",
       "      <th>0</th>\n",
       "      <td>107.78</td>\n",
       "      <td>1645832785</td>\n",
       "      <td>1646190000</td>\n",
       "      <td>1646091320</td>\n",
       "      <td>1646255013</td>\n",
       "      <td>2</td>\n",
       "      <td>1</td>\n",
       "      <td>25</td>\n",
       "      <td>1</td>\n",
       "      <td>23.8</td>\n",
       "      <td>258535</td>\n",
       "      <td>163693</td>\n",
       "    </tr>\n",
       "    <tr>\n",
       "      <th>1</th>\n",
       "      <td>7.47</td>\n",
       "      <td>1645659299</td>\n",
       "      <td>1645671600</td>\n",
       "      <td>1645707383</td>\n",
       "      <td>1645728760</td>\n",
       "      <td>2</td>\n",
       "      <td>1</td>\n",
       "      <td>16</td>\n",
       "      <td>4</td>\n",
       "      <td>536.0</td>\n",
       "      <td>48084</td>\n",
       "      <td>21377</td>\n",
       "    </tr>\n",
       "    <tr>\n",
       "      <th>3</th>\n",
       "      <td>5.98</td>\n",
       "      <td>1644514477</td>\n",
       "      <td>1645066800</td>\n",
       "      <td>1645094869</td>\n",
       "      <td>1645118592</td>\n",
       "      <td>2</td>\n",
       "      <td>1</td>\n",
       "      <td>21</td>\n",
       "      <td>1</td>\n",
       "      <td>441.0</td>\n",
       "      <td>580392</td>\n",
       "      <td>23723</td>\n",
       "    </tr>\n",
       "  </tbody>\n",
       "</table>\n",
       "</div>"
      ],
      "text/plain": [
       "     price  order_date    due_date    opt_date  delivery_date  \\\n",
       "id                                                              \n",
       "0   107.78  1645832785  1646190000  1646091320     1646255013   \n",
       "1     7.47  1645659299  1645671600  1645707383     1645728760   \n",
       "3     5.98  1644514477  1645066800  1645094869     1645118592   \n",
       "\n",
       "    cidade_origem_id  regiao_origem_id  cidade_destino_id  regiao_destino_id  \\\n",
       "id                                                                             \n",
       "0                  2                 1                 25                  1   \n",
       "1                  2                 1                 16                  4   \n",
       "3                  2                 1                 21                  1   \n",
       "\n",
       "     peso  post_time  elapsed_time  \n",
       "id                                  \n",
       "0    23.8     258535        163693  \n",
       "1   536.0      48084         21377  \n",
       "3   441.0     580392         23723  "
      ]
     },
     "execution_count": 76,
     "metadata": {},
     "output_type": "execute_result"
    }
   ],
   "source": [
    "df.head(3)\n"
   ]
  },
  {
   "cell_type": "markdown",
   "metadata": {},
   "source": [
    "Criação da coluna \"outcome\" (resultado da entrega. 1 = correta, 0 = atraso)"
   ]
  },
  {
   "cell_type": "code",
   "execution_count": 77,
   "metadata": {},
   "outputs": [
    {
     "name": "stderr",
     "output_type": "stream",
     "text": [
      "/tmp/ipykernel_22310/1026693437.py:2: SettingWithCopyWarning: \n",
      "A value is trying to be set on a copy of a slice from a DataFrame\n",
      "\n",
      "See the caveats in the documentation: https://pandas.pydata.org/pandas-docs/stable/user_guide/indexing.html#returning-a-view-versus-a-copy\n",
      "  df['outcome'].iloc[df['due_date'] <= df['delivery_date']] = 1\n"
     ]
    }
   ],
   "source": [
    "df['outcome'] = 0\n",
    "df['outcome'].iloc[df['due_date'] <= df['delivery_date']] = 1\n"
   ]
  },
  {
   "cell_type": "code",
   "execution_count": 78,
   "metadata": {},
   "outputs": [
    {
     "data": {
      "text/plain": [
       "1    1234\n",
       "0     537\n",
       "Name: outcome, dtype: int64"
      ]
     },
     "execution_count": 78,
     "metadata": {},
     "output_type": "execute_result"
    }
   ],
   "source": [
    "df['outcome'].value_counts()"
   ]
  },
  {
   "cell_type": "code",
   "execution_count": 79,
   "metadata": {},
   "outputs": [
    {
     "data": {
      "text/html": [
       "<div>\n",
       "<style scoped>\n",
       "    .dataframe tbody tr th:only-of-type {\n",
       "        vertical-align: middle;\n",
       "    }\n",
       "\n",
       "    .dataframe tbody tr th {\n",
       "        vertical-align: top;\n",
       "    }\n",
       "\n",
       "    .dataframe thead th {\n",
       "        text-align: right;\n",
       "    }\n",
       "</style>\n",
       "<table border=\"1\" class=\"dataframe\">\n",
       "  <thead>\n",
       "    <tr style=\"text-align: right;\">\n",
       "      <th></th>\n",
       "      <th>price</th>\n",
       "      <th>order_date</th>\n",
       "      <th>due_date</th>\n",
       "      <th>opt_date</th>\n",
       "      <th>delivery_date</th>\n",
       "      <th>cidade_origem_id</th>\n",
       "      <th>regiao_origem_id</th>\n",
       "      <th>cidade_destino_id</th>\n",
       "      <th>regiao_destino_id</th>\n",
       "      <th>peso</th>\n",
       "      <th>post_time</th>\n",
       "      <th>elapsed_time</th>\n",
       "      <th>outcome</th>\n",
       "    </tr>\n",
       "    <tr>\n",
       "      <th>id</th>\n",
       "      <th></th>\n",
       "      <th></th>\n",
       "      <th></th>\n",
       "      <th></th>\n",
       "      <th></th>\n",
       "      <th></th>\n",
       "      <th></th>\n",
       "      <th></th>\n",
       "      <th></th>\n",
       "      <th></th>\n",
       "      <th></th>\n",
       "      <th></th>\n",
       "      <th></th>\n",
       "    </tr>\n",
       "  </thead>\n",
       "  <tbody>\n",
       "    <tr>\n",
       "      <th>0</th>\n",
       "      <td>107.78</td>\n",
       "      <td>1645832785</td>\n",
       "      <td>1646190000</td>\n",
       "      <td>1646091320</td>\n",
       "      <td>1646255013</td>\n",
       "      <td>2</td>\n",
       "      <td>1</td>\n",
       "      <td>25</td>\n",
       "      <td>1</td>\n",
       "      <td>23.8</td>\n",
       "      <td>258535</td>\n",
       "      <td>163693</td>\n",
       "      <td>1</td>\n",
       "    </tr>\n",
       "    <tr>\n",
       "      <th>1</th>\n",
       "      <td>7.47</td>\n",
       "      <td>1645659299</td>\n",
       "      <td>1645671600</td>\n",
       "      <td>1645707383</td>\n",
       "      <td>1645728760</td>\n",
       "      <td>2</td>\n",
       "      <td>1</td>\n",
       "      <td>16</td>\n",
       "      <td>4</td>\n",
       "      <td>536.0</td>\n",
       "      <td>48084</td>\n",
       "      <td>21377</td>\n",
       "      <td>1</td>\n",
       "    </tr>\n",
       "    <tr>\n",
       "      <th>3</th>\n",
       "      <td>5.98</td>\n",
       "      <td>1644514477</td>\n",
       "      <td>1645066800</td>\n",
       "      <td>1645094869</td>\n",
       "      <td>1645118592</td>\n",
       "      <td>2</td>\n",
       "      <td>1</td>\n",
       "      <td>21</td>\n",
       "      <td>1</td>\n",
       "      <td>441.0</td>\n",
       "      <td>580392</td>\n",
       "      <td>23723</td>\n",
       "      <td>1</td>\n",
       "    </tr>\n",
       "  </tbody>\n",
       "</table>\n",
       "</div>"
      ],
      "text/plain": [
       "     price  order_date    due_date    opt_date  delivery_date  \\\n",
       "id                                                              \n",
       "0   107.78  1645832785  1646190000  1646091320     1646255013   \n",
       "1     7.47  1645659299  1645671600  1645707383     1645728760   \n",
       "3     5.98  1644514477  1645066800  1645094869     1645118592   \n",
       "\n",
       "    cidade_origem_id  regiao_origem_id  cidade_destino_id  regiao_destino_id  \\\n",
       "id                                                                             \n",
       "0                  2                 1                 25                  1   \n",
       "1                  2                 1                 16                  4   \n",
       "3                  2                 1                 21                  1   \n",
       "\n",
       "     peso  post_time  elapsed_time  outcome  \n",
       "id                                           \n",
       "0    23.8     258535        163693        1  \n",
       "1   536.0      48084         21377        1  \n",
       "3   441.0     580392         23723        1  "
      ]
     },
     "execution_count": 79,
     "metadata": {},
     "output_type": "execute_result"
    }
   ],
   "source": [
    "df.head(3)"
   ]
  },
  {
   "cell_type": "markdown",
   "metadata": {},
   "source": [
    "Conversão da tipagem de todas as variáveis categóricas para o tipo \"category\""
   ]
  },
  {
   "cell_type": "code",
   "execution_count": 80,
   "metadata": {},
   "outputs": [],
   "source": [
    "df[\"cidade_origem_id\"] = df[\"cidade_origem_id\"].astype(\"category\")\n",
    "df[\"regiao_origem_id\"] = df[\"regiao_origem_id\"].astype(\"category\")\n",
    "df[\"cidade_destino_id\"] = df[\"cidade_destino_id\"].astype(\"category\")\n",
    "df[\"regiao_destino_id\"] = df[\"regiao_destino_id\"].astype(\"category\")\n"
   ]
  },
  {
   "cell_type": "code",
   "execution_count": 81,
   "metadata": {},
   "outputs": [
    {
     "data": {
      "text/plain": [
       "price                 float64\n",
       "order_date              int64\n",
       "due_date                int64\n",
       "opt_date                int64\n",
       "delivery_date           int64\n",
       "cidade_origem_id     category\n",
       "regiao_origem_id     category\n",
       "cidade_destino_id    category\n",
       "regiao_destino_id    category\n",
       "peso                  float64\n",
       "post_time               int64\n",
       "elapsed_time            int64\n",
       "outcome                 int64\n",
       "dtype: object"
      ]
     },
     "execution_count": 81,
     "metadata": {},
     "output_type": "execute_result"
    }
   ],
   "source": [
    "df.dtypes"
   ]
  },
  {
   "cell_type": "markdown",
   "metadata": {},
   "source": [
    "Plot de frequência de entregues atrasados ou não (indica que os dados precisam ser balanceados)"
   ]
  },
  {
   "cell_type": "code",
   "execution_count": 82,
   "metadata": {},
   "outputs": [
    {
     "data": {
      "text/plain": [
       "<AxesSubplot:ylabel='Frequency'>"
      ]
     },
     "execution_count": 82,
     "metadata": {},
     "output_type": "execute_result"
    },
    {
     "data": {
      "image/png": "[encoded data removed]",
      "text/plain": [
       "<Figure size 432x288 with 1 Axes>"
      ]
     },
     "metadata": {
      "needs_background": "light"
     },
     "output_type": "display_data"
    }
   ],
   "source": [
    "df['outcome'].plot.hist(bins=2)\n"
   ]
  },
  {
   "cell_type": "markdown",
   "metadata": {},
   "source": [
    "Plot do gráfico de correlação entre variáveis preditoras (indica que algumas variáveis são extremamente correlacionadas)"
   ]
  },
  {
   "cell_type": "code",
   "execution_count": 83,
   "metadata": {},
   "outputs": [
    {
     "data": {
      "text/plain": [
       "<AxesSubplot:>"
      ]
     },
     "execution_count": 83,
     "metadata": {},
     "output_type": "execute_result"
    },
    {
     "data": {
      "image/png": "[encoded data removed]",
      "text/plain": [
       "<Figure size 432x360 with 2 Axes>"
      ]
     },
     "metadata": {
      "needs_background": "light"
     },
     "output_type": "display_data"
    }
   ],
   "source": [
    "corr = df.corr()\n",
    "\n",
    "plt.subplots(figsize=(6, 5))\n",
    "sns.heatmap(corr, cmap='YlGnBu', annot=True, fmt=\".1f\",\n",
    "            linecolor=\"black\", linewidths=\"0.1\", )\n"
   ]
  },
  {
   "cell_type": "markdown",
   "metadata": {},
   "source": [
    "VIF (Verifica a significancia estatística das colunas. Maior ou igual a 5 indica menor significância)"
   ]
  },
  {
   "cell_type": "code",
   "execution_count": 84,
   "metadata": {},
   "outputs": [
    {
     "name": "stderr",
     "output_type": "stream",
     "text": [
      "/home/felipe/dev/predicao-falha-entrega-logistica/venv/lib/python3.8/site-packages/statsmodels/stats/outliers_influence.py:195: RuntimeWarning: divide by zero encountered in double_scalars\n",
      "  vif = 1. / (1. - r_squared_i)\n"
     ]
    },
    {
     "data": {
      "text/html": [
       "<div>\n",
       "<style scoped>\n",
       "    .dataframe tbody tr th:only-of-type {\n",
       "        vertical-align: middle;\n",
       "    }\n",
       "\n",
       "    .dataframe tbody tr th {\n",
       "        vertical-align: top;\n",
       "    }\n",
       "\n",
       "    .dataframe thead th {\n",
       "        text-align: right;\n",
       "    }\n",
       "</style>\n",
       "<table border=\"1\" class=\"dataframe\">\n",
       "  <thead>\n",
       "    <tr style=\"text-align: right;\">\n",
       "      <th></th>\n",
       "      <th>feature</th>\n",
       "      <th>VIF</th>\n",
       "    </tr>\n",
       "  </thead>\n",
       "  <tbody>\n",
       "    <tr>\n",
       "      <th>0</th>\n",
       "      <td>price</td>\n",
       "      <td>1.139275</td>\n",
       "    </tr>\n",
       "    <tr>\n",
       "      <th>1</th>\n",
       "      <td>order_date</td>\n",
       "      <td>inf</td>\n",
       "    </tr>\n",
       "    <tr>\n",
       "      <th>2</th>\n",
       "      <td>due_date</td>\n",
       "      <td>21.946690</td>\n",
       "    </tr>\n",
       "    <tr>\n",
       "      <th>3</th>\n",
       "      <td>opt_date</td>\n",
       "      <td>inf</td>\n",
       "    </tr>\n",
       "    <tr>\n",
       "      <th>4</th>\n",
       "      <td>delivery_date</td>\n",
       "      <td>inf</td>\n",
       "    </tr>\n",
       "    <tr>\n",
       "      <th>5</th>\n",
       "      <td>cidade_origem_id</td>\n",
       "      <td>9.550134</td>\n",
       "    </tr>\n",
       "    <tr>\n",
       "      <th>6</th>\n",
       "      <td>regiao_origem_id</td>\n",
       "      <td>11.665396</td>\n",
       "    </tr>\n",
       "    <tr>\n",
       "      <th>7</th>\n",
       "      <td>cidade_destino_id</td>\n",
       "      <td>1.193633</td>\n",
       "    </tr>\n",
       "    <tr>\n",
       "      <th>8</th>\n",
       "      <td>regiao_destino_id</td>\n",
       "      <td>1.133119</td>\n",
       "    </tr>\n",
       "    <tr>\n",
       "      <th>9</th>\n",
       "      <td>peso</td>\n",
       "      <td>1.054088</td>\n",
       "    </tr>\n",
       "    <tr>\n",
       "      <th>10</th>\n",
       "      <td>post_time</td>\n",
       "      <td>inf</td>\n",
       "    </tr>\n",
       "    <tr>\n",
       "      <th>11</th>\n",
       "      <td>elapsed_time</td>\n",
       "      <td>inf</td>\n",
       "    </tr>\n",
       "    <tr>\n",
       "      <th>12</th>\n",
       "      <td>outcome</td>\n",
       "      <td>1.775992</td>\n",
       "    </tr>\n",
       "  </tbody>\n",
       "</table>\n",
       "</div>"
      ],
      "text/plain": [
       "              feature        VIF\n",
       "0               price   1.139275\n",
       "1          order_date        inf\n",
       "2            due_date  21.946690\n",
       "3            opt_date        inf\n",
       "4       delivery_date        inf\n",
       "5    cidade_origem_id   9.550134\n",
       "6    regiao_origem_id  11.665396\n",
       "7   cidade_destino_id   1.193633\n",
       "8   regiao_destino_id   1.133119\n",
       "9                peso   1.054088\n",
       "10          post_time        inf\n",
       "11       elapsed_time        inf\n",
       "12            outcome   1.775992"
      ]
     },
     "execution_count": 84,
     "metadata": {},
     "output_type": "execute_result"
    }
   ],
   "source": [
    "vif_data = pd.DataFrame()\n",
    "vif_data[\"feature\"] = df.columns\n",
    "\n",
    "# calculating VIF for each feature\n",
    "vif_data[\"VIF\"] = [variance_inflation_factor(df.values, i)\n",
    "                   for i in range(len(df.columns))]\n",
    "\n",
    "vif_data"
   ]
  },
  {
   "cell_type": "markdown",
   "metadata": {},
   "source": [
    "Eliminação de variáveis altamente correlacionadas"
   ]
  },
  {
   "cell_type": "code",
   "execution_count": 85,
   "metadata": {},
   "outputs": [],
   "source": [
    "df.drop(columns=['order_date', 'due_date', 'opt_date', 'delivery_date', 'regiao_origem_id',\n",
    "        'regiao_destino_id'], inplace=True)\n"
   ]
  },
  {
   "cell_type": "code",
   "execution_count": 86,
   "metadata": {},
   "outputs": [
    {
     "data": {
      "text/plain": [
       "<AxesSubplot:>"
      ]
     },
     "execution_count": 86,
     "metadata": {},
     "output_type": "execute_result"
    },
    {
     "data": {
      "image/png": "[encoded data removed]",
      "text/plain": [
       "<Figure size 432x360 with 2 Axes>"
      ]
     },
     "metadata": {
      "needs_background": "light"
     },
     "output_type": "display_data"
    }
   ],
   "source": [
    "corr = df.corr()\n",
    "\n",
    "plt.subplots(figsize=(6, 5))\n",
    "sns.heatmap(corr, cmap='YlGnBu', annot=True, fmt=\".1f\",\n",
    "            linecolor=\"black\", linewidths=\"0.1\", )\n"
   ]
  },
  {
   "cell_type": "markdown",
   "metadata": {},
   "source": [
    "Significância estatistica do modelo revisada e corrigida"
   ]
  },
  {
   "cell_type": "code",
   "execution_count": 87,
   "metadata": {},
   "outputs": [
    {
     "data": {
      "text/html": [
       "<div>\n",
       "<style scoped>\n",
       "    .dataframe tbody tr th:only-of-type {\n",
       "        vertical-align: middle;\n",
       "    }\n",
       "\n",
       "    .dataframe tbody tr th {\n",
       "        vertical-align: top;\n",
       "    }\n",
       "\n",
       "    .dataframe thead th {\n",
       "        text-align: right;\n",
       "    }\n",
       "</style>\n",
       "<table border=\"1\" class=\"dataframe\">\n",
       "  <thead>\n",
       "    <tr style=\"text-align: right;\">\n",
       "      <th></th>\n",
       "      <th>feature</th>\n",
       "      <th>VIF</th>\n",
       "    </tr>\n",
       "  </thead>\n",
       "  <tbody>\n",
       "    <tr>\n",
       "      <th>0</th>\n",
       "      <td>price</td>\n",
       "      <td>1.446526</td>\n",
       "    </tr>\n",
       "    <tr>\n",
       "      <th>1</th>\n",
       "      <td>cidade_origem_id</td>\n",
       "      <td>3.203289</td>\n",
       "    </tr>\n",
       "    <tr>\n",
       "      <th>2</th>\n",
       "      <td>cidade_destino_id</td>\n",
       "      <td>2.085958</td>\n",
       "    </tr>\n",
       "    <tr>\n",
       "      <th>3</th>\n",
       "      <td>peso</td>\n",
       "      <td>1.090828</td>\n",
       "    </tr>\n",
       "    <tr>\n",
       "      <th>4</th>\n",
       "      <td>post_time</td>\n",
       "      <td>2.223420</td>\n",
       "    </tr>\n",
       "    <tr>\n",
       "      <th>5</th>\n",
       "      <td>elapsed_time</td>\n",
       "      <td>1.393292</td>\n",
       "    </tr>\n",
       "    <tr>\n",
       "      <th>6</th>\n",
       "      <td>outcome</td>\n",
       "      <td>2.869556</td>\n",
       "    </tr>\n",
       "  </tbody>\n",
       "</table>\n",
       "</div>"
      ],
      "text/plain": [
       "             feature       VIF\n",
       "0              price  1.446526\n",
       "1   cidade_origem_id  3.203289\n",
       "2  cidade_destino_id  2.085958\n",
       "3               peso  1.090828\n",
       "4          post_time  2.223420\n",
       "5       elapsed_time  1.393292\n",
       "6            outcome  2.869556"
      ]
     },
     "execution_count": 87,
     "metadata": {},
     "output_type": "execute_result"
    }
   ],
   "source": [
    "vif_data = pd.DataFrame()\n",
    "vif_data[\"feature\"] = df.columns\n",
    "\n",
    "# calculating VIF for each feature\n",
    "vif_data[\"VIF\"] = [variance_inflation_factor(df.values, i)\n",
    "                   for i in range(len(df.columns))]\n",
    "\n",
    "vif_data\n"
   ]
  },
  {
   "cell_type": "markdown",
   "metadata": {},
   "source": [
    "## Preprocessor"
   ]
  },
  {
   "cell_type": "markdown",
   "metadata": {},
   "source": [
    "Dummyficação de variáveis categóricas"
   ]
  },
  {
   "cell_type": "code",
   "execution_count": 88,
   "metadata": {},
   "outputs": [],
   "source": [
    "dummy_df = pd.get_dummies(df[['cidade_origem_id',\n",
    "                          'cidade_destino_id']], drop_first=True)\n",
    "df = df.join(dummy_df)\n",
    "df.drop(columns=['cidade_origem_id', 'cidade_destino_id'], inplace=True)\n"
   ]
  },
  {
   "cell_type": "code",
   "execution_count": 89,
   "metadata": {},
   "outputs": [
    {
     "data": {
      "text/html": [
       "<div>\n",
       "<style scoped>\n",
       "    .dataframe tbody tr th:only-of-type {\n",
       "        vertical-align: middle;\n",
       "    }\n",
       "\n",
       "    .dataframe tbody tr th {\n",
       "        vertical-align: top;\n",
       "    }\n",
       "\n",
       "    .dataframe thead th {\n",
       "        text-align: right;\n",
       "    }\n",
       "</style>\n",
       "<table border=\"1\" class=\"dataframe\">\n",
       "  <thead>\n",
       "    <tr style=\"text-align: right;\">\n",
       "      <th></th>\n",
       "      <th>price</th>\n",
       "      <th>peso</th>\n",
       "      <th>post_time</th>\n",
       "      <th>elapsed_time</th>\n",
       "      <th>outcome</th>\n",
       "      <th>cidade_origem_id_2</th>\n",
       "      <th>cidade_origem_id_3</th>\n",
       "      <th>cidade_origem_id_4</th>\n",
       "      <th>cidade_origem_id_5</th>\n",
       "      <th>cidade_destino_id_2</th>\n",
       "      <th>...</th>\n",
       "      <th>cidade_destino_id_118</th>\n",
       "      <th>cidade_destino_id_119</th>\n",
       "      <th>cidade_destino_id_120</th>\n",
       "      <th>cidade_destino_id_121</th>\n",
       "      <th>cidade_destino_id_122</th>\n",
       "      <th>cidade_destino_id_123</th>\n",
       "      <th>cidade_destino_id_124</th>\n",
       "      <th>cidade_destino_id_125</th>\n",
       "      <th>cidade_destino_id_126</th>\n",
       "      <th>cidade_destino_id_127</th>\n",
       "    </tr>\n",
       "    <tr>\n",
       "      <th>id</th>\n",
       "      <th></th>\n",
       "      <th></th>\n",
       "      <th></th>\n",
       "      <th></th>\n",
       "      <th></th>\n",
       "      <th></th>\n",
       "      <th></th>\n",
       "      <th></th>\n",
       "      <th></th>\n",
       "      <th></th>\n",
       "      <th></th>\n",
       "      <th></th>\n",
       "      <th></th>\n",
       "      <th></th>\n",
       "      <th></th>\n",
       "      <th></th>\n",
       "      <th></th>\n",
       "      <th></th>\n",
       "      <th></th>\n",
       "      <th></th>\n",
       "      <th></th>\n",
       "    </tr>\n",
       "  </thead>\n",
       "  <tbody>\n",
       "    <tr>\n",
       "      <th>0</th>\n",
       "      <td>107.78</td>\n",
       "      <td>23.80</td>\n",
       "      <td>258535</td>\n",
       "      <td>163693</td>\n",
       "      <td>1</td>\n",
       "      <td>1</td>\n",
       "      <td>0</td>\n",
       "      <td>0</td>\n",
       "      <td>0</td>\n",
       "      <td>0</td>\n",
       "      <td>...</td>\n",
       "      <td>0</td>\n",
       "      <td>0</td>\n",
       "      <td>0</td>\n",
       "      <td>0</td>\n",
       "      <td>0</td>\n",
       "      <td>0</td>\n",
       "      <td>0</td>\n",
       "      <td>0</td>\n",
       "      <td>0</td>\n",
       "      <td>0</td>\n",
       "    </tr>\n",
       "    <tr>\n",
       "      <th>1</th>\n",
       "      <td>7.47</td>\n",
       "      <td>536.00</td>\n",
       "      <td>48084</td>\n",
       "      <td>21377</td>\n",
       "      <td>1</td>\n",
       "      <td>1</td>\n",
       "      <td>0</td>\n",
       "      <td>0</td>\n",
       "      <td>0</td>\n",
       "      <td>0</td>\n",
       "      <td>...</td>\n",
       "      <td>0</td>\n",
       "      <td>0</td>\n",
       "      <td>0</td>\n",
       "      <td>0</td>\n",
       "      <td>0</td>\n",
       "      <td>0</td>\n",
       "      <td>0</td>\n",
       "      <td>0</td>\n",
       "      <td>0</td>\n",
       "      <td>0</td>\n",
       "    </tr>\n",
       "    <tr>\n",
       "      <th>3</th>\n",
       "      <td>5.98</td>\n",
       "      <td>441.00</td>\n",
       "      <td>580392</td>\n",
       "      <td>23723</td>\n",
       "      <td>1</td>\n",
       "      <td>1</td>\n",
       "      <td>0</td>\n",
       "      <td>0</td>\n",
       "      <td>0</td>\n",
       "      <td>0</td>\n",
       "      <td>...</td>\n",
       "      <td>0</td>\n",
       "      <td>0</td>\n",
       "      <td>0</td>\n",
       "      <td>0</td>\n",
       "      <td>0</td>\n",
       "      <td>0</td>\n",
       "      <td>0</td>\n",
       "      <td>0</td>\n",
       "      <td>0</td>\n",
       "      <td>0</td>\n",
       "    </tr>\n",
       "    <tr>\n",
       "      <th>5</th>\n",
       "      <td>5.37</td>\n",
       "      <td>0.73</td>\n",
       "      <td>39753</td>\n",
       "      <td>21553</td>\n",
       "      <td>0</td>\n",
       "      <td>1</td>\n",
       "      <td>0</td>\n",
       "      <td>0</td>\n",
       "      <td>0</td>\n",
       "      <td>0</td>\n",
       "      <td>...</td>\n",
       "      <td>0</td>\n",
       "      <td>0</td>\n",
       "      <td>0</td>\n",
       "      <td>0</td>\n",
       "      <td>0</td>\n",
       "      <td>0</td>\n",
       "      <td>0</td>\n",
       "      <td>0</td>\n",
       "      <td>0</td>\n",
       "      <td>0</td>\n",
       "    </tr>\n",
       "    <tr>\n",
       "      <th>6</th>\n",
       "      <td>7.47</td>\n",
       "      <td>875.00</td>\n",
       "      <td>45465</td>\n",
       "      <td>26751</td>\n",
       "      <td>1</td>\n",
       "      <td>1</td>\n",
       "      <td>0</td>\n",
       "      <td>0</td>\n",
       "      <td>0</td>\n",
       "      <td>0</td>\n",
       "      <td>...</td>\n",
       "      <td>0</td>\n",
       "      <td>0</td>\n",
       "      <td>0</td>\n",
       "      <td>0</td>\n",
       "      <td>0</td>\n",
       "      <td>0</td>\n",
       "      <td>0</td>\n",
       "      <td>0</td>\n",
       "      <td>0</td>\n",
       "      <td>0</td>\n",
       "    </tr>\n",
       "  </tbody>\n",
       "</table>\n",
       "<p>5 rows × 132 columns</p>\n",
       "</div>"
      ],
      "text/plain": [
       "     price    peso  post_time  elapsed_time  outcome  cidade_origem_id_2  \\\n",
       "id                                                                         \n",
       "0   107.78   23.80     258535        163693        1                   1   \n",
       "1     7.47  536.00      48084         21377        1                   1   \n",
       "3     5.98  441.00     580392         23723        1                   1   \n",
       "5     5.37    0.73      39753         21553        0                   1   \n",
       "6     7.47  875.00      45465         26751        1                   1   \n",
       "\n",
       "    cidade_origem_id_3  cidade_origem_id_4  cidade_origem_id_5  \\\n",
       "id                                                               \n",
       "0                    0                   0                   0   \n",
       "1                    0                   0                   0   \n",
       "3                    0                   0                   0   \n",
       "5                    0                   0                   0   \n",
       "6                    0                   0                   0   \n",
       "\n",
       "    cidade_destino_id_2  ...  cidade_destino_id_118  cidade_destino_id_119  \\\n",
       "id                       ...                                                 \n",
       "0                     0  ...                      0                      0   \n",
       "1                     0  ...                      0                      0   \n",
       "3                     0  ...                      0                      0   \n",
       "5                     0  ...                      0                      0   \n",
       "6                     0  ...                      0                      0   \n",
       "\n",
       "    cidade_destino_id_120  cidade_destino_id_121  cidade_destino_id_122  \\\n",
       "id                                                                        \n",
       "0                       0                      0                      0   \n",
       "1                       0                      0                      0   \n",
       "3                       0                      0                      0   \n",
       "5                       0                      0                      0   \n",
       "6                       0                      0                      0   \n",
       "\n",
       "    cidade_destino_id_123  cidade_destino_id_124  cidade_destino_id_125  \\\n",
       "id                                                                        \n",
       "0                       0                      0                      0   \n",
       "1                       0                      0                      0   \n",
       "3                       0                      0                      0   \n",
       "5                       0                      0                      0   \n",
       "6                       0                      0                      0   \n",
       "\n",
       "    cidade_destino_id_126  cidade_destino_id_127  \n",
       "id                                                \n",
       "0                       0                      0  \n",
       "1                       0                      0  \n",
       "3                       0                      0  \n",
       "5                       0                      0  \n",
       "6                       0                      0  \n",
       "\n",
       "[5 rows x 132 columns]"
      ]
     },
     "execution_count": 89,
     "metadata": {},
     "output_type": "execute_result"
    }
   ],
   "source": [
    "df.head()"
   ]
  },
  {
   "cell_type": "markdown",
   "metadata": {},
   "source": [
    "Divisão do dataset em treino, validação e teste"
   ]
  },
  {
   "cell_type": "code",
   "execution_count": 90,
   "metadata": {},
   "outputs": [],
   "source": [
    "X = df.drop(['outcome'], axis=1)\n",
    "y = df['outcome']\n",
    "\n",
    "X_train, X_test, y_train, y_test = train_test_split(\n",
    "    X, y, test_size=0.2, random_state=42)\n",
    "\n",
    "X_train = pd.DataFrame(X_train, columns=X_train.columns)\n",
    "y_train = pd.Series(y_train)\n",
    "\n",
    "X_train, X_val, y_train, y_val = train_test_split(\n",
    "    X_train, y_train, test_size=0.25, random_state=42)  # 0.25 x\n"
   ]
  },
  {
   "cell_type": "markdown",
   "metadata": {},
   "source": [
    "Tratamento dos dados por dataset dividido (eliminação da possibilidade de vazamento de dados). Tratamentos:\n",
    "\n",
    "1. Balanceamento de dados\n",
    "2. Normalização de dados"
   ]
  },
  {
   "cell_type": "code",
   "execution_count": 91,
   "metadata": {},
   "outputs": [],
   "source": [
    "def trataDados(df_dados, target):\n",
    "    # Balanceamento dos dados\n",
    "    sm = SMOTE(sampling_strategy='minority', random_state=7)\n",
    "    df_dados, target = sm.fit_resample(df_dados, target)\n",
    "\n",
    "    # Normalização dos dados\n",
    "    df_dados[['price', 'peso', 'post_time', 'elapsed_time']] = RobustScaler(\n",
    "    ).fit_transform(df_dados[['price', 'peso', 'post_time', 'elapsed_time']]).copy()\n",
    "\n",
    "    return df_dados, target\n",
    "\n",
    "\n",
    "X_train, y_train = trataDados(X_train, y_train)\n",
    "X_val, y_val = trataDados(X_val, y_val)\n",
    "X_test, y_test = trataDados(X_test, y_test)\n"
   ]
  },
  {
   "cell_type": "code",
   "execution_count": 92,
   "metadata": {},
   "outputs": [
    {
     "data": {
      "text/html": [
       "<div>\n",
       "<style scoped>\n",
       "    .dataframe tbody tr th:only-of-type {\n",
       "        vertical-align: middle;\n",
       "    }\n",
       "\n",
       "    .dataframe tbody tr th {\n",
       "        vertical-align: top;\n",
       "    }\n",
       "\n",
       "    .dataframe thead th {\n",
       "        text-align: right;\n",
       "    }\n",
       "</style>\n",
       "<table border=\"1\" class=\"dataframe\">\n",
       "  <thead>\n",
       "    <tr style=\"text-align: right;\">\n",
       "      <th></th>\n",
       "      <th>price</th>\n",
       "      <th>peso</th>\n",
       "      <th>post_time</th>\n",
       "      <th>elapsed_time</th>\n",
       "      <th>cidade_origem_id_2</th>\n",
       "      <th>cidade_origem_id_3</th>\n",
       "      <th>cidade_origem_id_4</th>\n",
       "      <th>cidade_origem_id_5</th>\n",
       "      <th>cidade_destino_id_2</th>\n",
       "      <th>cidade_destino_id_3</th>\n",
       "      <th>...</th>\n",
       "      <th>cidade_destino_id_118</th>\n",
       "      <th>cidade_destino_id_119</th>\n",
       "      <th>cidade_destino_id_120</th>\n",
       "      <th>cidade_destino_id_121</th>\n",
       "      <th>cidade_destino_id_122</th>\n",
       "      <th>cidade_destino_id_123</th>\n",
       "      <th>cidade_destino_id_124</th>\n",
       "      <th>cidade_destino_id_125</th>\n",
       "      <th>cidade_destino_id_126</th>\n",
       "      <th>cidade_destino_id_127</th>\n",
       "    </tr>\n",
       "  </thead>\n",
       "  <tbody>\n",
       "    <tr>\n",
       "      <th>0</th>\n",
       "      <td>-0.575758</td>\n",
       "      <td>0.813647</td>\n",
       "      <td>-0.367710</td>\n",
       "      <td>0.453470</td>\n",
       "      <td>0</td>\n",
       "      <td>0</td>\n",
       "      <td>1</td>\n",
       "      <td>0</td>\n",
       "      <td>0</td>\n",
       "      <td>0</td>\n",
       "      <td>...</td>\n",
       "      <td>0</td>\n",
       "      <td>0</td>\n",
       "      <td>0</td>\n",
       "      <td>0</td>\n",
       "      <td>0</td>\n",
       "      <td>0</td>\n",
       "      <td>0</td>\n",
       "      <td>0</td>\n",
       "      <td>0</td>\n",
       "      <td>0</td>\n",
       "    </tr>\n",
       "    <tr>\n",
       "      <th>1</th>\n",
       "      <td>-0.357576</td>\n",
       "      <td>-0.019408</td>\n",
       "      <td>-0.082900</td>\n",
       "      <td>-2.116727</td>\n",
       "      <td>0</td>\n",
       "      <td>0</td>\n",
       "      <td>1</td>\n",
       "      <td>0</td>\n",
       "      <td>0</td>\n",
       "      <td>0</td>\n",
       "      <td>...</td>\n",
       "      <td>0</td>\n",
       "      <td>0</td>\n",
       "      <td>0</td>\n",
       "      <td>0</td>\n",
       "      <td>0</td>\n",
       "      <td>0</td>\n",
       "      <td>0</td>\n",
       "      <td>0</td>\n",
       "      <td>0</td>\n",
       "      <td>0</td>\n",
       "    </tr>\n",
       "    <tr>\n",
       "      <th>2</th>\n",
       "      <td>-0.357576</td>\n",
       "      <td>0.743955</td>\n",
       "      <td>-0.129859</td>\n",
       "      <td>-1.657634</td>\n",
       "      <td>0</td>\n",
       "      <td>0</td>\n",
       "      <td>1</td>\n",
       "      <td>0</td>\n",
       "      <td>0</td>\n",
       "      <td>0</td>\n",
       "      <td>...</td>\n",
       "      <td>0</td>\n",
       "      <td>0</td>\n",
       "      <td>0</td>\n",
       "      <td>0</td>\n",
       "      <td>0</td>\n",
       "      <td>0</td>\n",
       "      <td>0</td>\n",
       "      <td>0</td>\n",
       "      <td>0</td>\n",
       "      <td>0</td>\n",
       "    </tr>\n",
       "    <tr>\n",
       "      <th>3</th>\n",
       "      <td>-0.575758</td>\n",
       "      <td>0.837887</td>\n",
       "      <td>0.202454</td>\n",
       "      <td>-0.286182</td>\n",
       "      <td>0</td>\n",
       "      <td>0</td>\n",
       "      <td>1</td>\n",
       "      <td>0</td>\n",
       "      <td>1</td>\n",
       "      <td>0</td>\n",
       "      <td>...</td>\n",
       "      <td>0</td>\n",
       "      <td>0</td>\n",
       "      <td>0</td>\n",
       "      <td>0</td>\n",
       "      <td>0</td>\n",
       "      <td>0</td>\n",
       "      <td>0</td>\n",
       "      <td>0</td>\n",
       "      <td>0</td>\n",
       "      <td>0</td>\n",
       "    </tr>\n",
       "    <tr>\n",
       "      <th>4</th>\n",
       "      <td>-0.357576</td>\n",
       "      <td>-0.018923</td>\n",
       "      <td>1.878039</td>\n",
       "      <td>-1.290676</td>\n",
       "      <td>0</td>\n",
       "      <td>0</td>\n",
       "      <td>1</td>\n",
       "      <td>0</td>\n",
       "      <td>0</td>\n",
       "      <td>0</td>\n",
       "      <td>...</td>\n",
       "      <td>0</td>\n",
       "      <td>0</td>\n",
       "      <td>0</td>\n",
       "      <td>0</td>\n",
       "      <td>0</td>\n",
       "      <td>0</td>\n",
       "      <td>0</td>\n",
       "      <td>0</td>\n",
       "      <td>0</td>\n",
       "      <td>0</td>\n",
       "    </tr>\n",
       "  </tbody>\n",
       "</table>\n",
       "<p>5 rows × 131 columns</p>\n",
       "</div>"
      ],
      "text/plain": [
       "      price      peso  post_time  elapsed_time  cidade_origem_id_2  \\\n",
       "0 -0.575758  0.813647  -0.367710      0.453470                   0   \n",
       "1 -0.357576 -0.019408  -0.082900     -2.116727                   0   \n",
       "2 -0.357576  0.743955  -0.129859     -1.657634                   0   \n",
       "3 -0.575758  0.837887   0.202454     -0.286182                   0   \n",
       "4 -0.357576 -0.018923   1.878039     -1.290676                   0   \n",
       "\n",
       "   cidade_origem_id_3  cidade_origem_id_4  cidade_origem_id_5  \\\n",
       "0                   0                   1                   0   \n",
       "1                   0                   1                   0   \n",
       "2                   0                   1                   0   \n",
       "3                   0                   1                   0   \n",
       "4                   0                   1                   0   \n",
       "\n",
       "   cidade_destino_id_2  cidade_destino_id_3  ...  cidade_destino_id_118  \\\n",
       "0                    0                    0  ...                      0   \n",
       "1                    0                    0  ...                      0   \n",
       "2                    0                    0  ...                      0   \n",
       "3                    1                    0  ...                      0   \n",
       "4                    0                    0  ...                      0   \n",
       "\n",
       "   cidade_destino_id_119  cidade_destino_id_120  cidade_destino_id_121  \\\n",
       "0                      0                      0                      0   \n",
       "1                      0                      0                      0   \n",
       "2                      0                      0                      0   \n",
       "3                      0                      0                      0   \n",
       "4                      0                      0                      0   \n",
       "\n",
       "   cidade_destino_id_122  cidade_destino_id_123  cidade_destino_id_124  \\\n",
       "0                      0                      0                      0   \n",
       "1                      0                      0                      0   \n",
       "2                      0                      0                      0   \n",
       "3                      0                      0                      0   \n",
       "4                      0                      0                      0   \n",
       "\n",
       "   cidade_destino_id_125  cidade_destino_id_126  cidade_destino_id_127  \n",
       "0                      0                      0                      0  \n",
       "1                      0                      0                      0  \n",
       "2                      0                      0                      0  \n",
       "3                      0                      0                      0  \n",
       "4                      0                      0                      0  \n",
       "\n",
       "[5 rows x 131 columns]"
      ]
     },
     "execution_count": 92,
     "metadata": {},
     "output_type": "execute_result"
    }
   ],
   "source": [
    "X_train.head()\n"
   ]
  },
  {
   "cell_type": "markdown",
   "metadata": {},
   "source": [
    "## AutoML (testes)"
   ]
  },
  {
   "cell_type": "code",
   "execution_count": 93,
   "metadata": {},
   "outputs": [],
   "source": [
    "automl = autosklearn.classification.AutoSklearnClassifier(\n",
    "    time_left_for_this_task=100,\n",
    "    per_run_time_limit=20)\n"
   ]
  },
  {
   "cell_type": "code",
   "execution_count": 94,
   "metadata": {},
   "outputs": [
    {
     "name": "stderr",
     "output_type": "stream",
     "text": [
      "/home/felipe/dev/predicao-falha-entrega-logistica/venv/lib/python3.8/site-packages/autosklearn/metalearning/metalearning/meta_base.py:68: FutureWarning: The frame.append method is deprecated and will be removed from pandas in a future version. Use pandas.concat instead.\n",
      "  self.metafeatures = self.metafeatures.append(metafeatures)\n",
      "/home/felipe/dev/predicao-falha-entrega-logistica/venv/lib/python3.8/site-packages/autosklearn/metalearning/metalearning/meta_base.py:72: FutureWarning: The frame.append method is deprecated and will be removed from pandas in a future version. Use pandas.concat instead.\n",
      "  self.algorithm_runs[metric].append(runs)\n"
     ]
    },
    {
     "data": {
      "text/html": [
       "<style>#sk-container-id-4 {color: black;background-color: white;}#sk-container-id-4 pre{padding: 0;}#sk-container-id-4 div.sk-toggleable {background-color: white;}#sk-container-id-4 label.sk-toggleable__label {cursor: pointer;display: block;width: 100%;margin-bottom: 0;padding: 0.3em;box-sizing: border-box;text-align: center;}#sk-container-id-4 label.sk-toggleable__label-arrow:before {content: \"▸\";float: left;margin-right: 0.25em;color: #696969;}#sk-container-id-4 label.sk-toggleable__label-arrow:hover:before {color: black;}#sk-container-id-4 div.sk-estimator:hover label.sk-toggleable__label-arrow:before {color: black;}#sk-container-id-4 div.sk-toggleable__content {max-height: 0;max-width: 0;overflow: hidden;text-align: left;background-color: #f0f8ff;}#sk-container-id-4 div.sk-toggleable__content pre {margin: 0.2em;color: black;border-radius: 0.25em;background-color: #f0f8ff;}#sk-container-id-4 input.sk-toggleable__control:checked~div.sk-toggleable__content {max-height: 200px;max-width: 100%;overflow: auto;}#sk-container-id-4 input.sk-toggleable__control:checked~label.sk-toggleable__label-arrow:before {content: \"▾\";}#sk-container-id-4 div.sk-estimator input.sk-toggleable__control:checked~label.sk-toggleable__label {background-color: #d4ebff;}#sk-container-id-4 div.sk-label input.sk-toggleable__control:checked~label.sk-toggleable__label {background-color: #d4ebff;}#sk-container-id-4 input.sk-hidden--visually {border: 0;clip: rect(1px 1px 1px 1px);clip: rect(1px, 1px, 1px, 1px);height: 1px;margin: -1px;overflow: hidden;padding: 0;position: absolute;width: 1px;}#sk-container-id-4 div.sk-estimator {font-family: monospace;background-color: #f0f8ff;border: 1px dotted black;border-radius: 0.25em;box-sizing: border-box;margin-bottom: 0.5em;}#sk-container-id-4 div.sk-estimator:hover {background-color: #d4ebff;}#sk-container-id-4 div.sk-parallel-item::after {content: \"\";width: 100%;border-bottom: 1px solid gray;flex-grow: 1;}#sk-container-id-4 div.sk-label:hover label.sk-toggleable__label {background-color: #d4ebff;}#sk-container-id-4 div.sk-serial::before {content: \"\";position: absolute;border-left: 1px solid gray;box-sizing: border-box;top: 0;bottom: 0;left: 50%;z-index: 0;}#sk-container-id-4 div.sk-serial {display: flex;flex-direction: column;align-items: center;background-color: white;padding-right: 0.2em;padding-left: 0.2em;position: relative;}#sk-container-id-4 div.sk-item {position: relative;z-index: 1;}#sk-container-id-4 div.sk-parallel {display: flex;align-items: stretch;justify-content: center;background-color: white;position: relative;}#sk-container-id-4 div.sk-item::before, #sk-container-id-4 div.sk-parallel-item::before {content: \"\";position: absolute;border-left: 1px solid gray;box-sizing: border-box;top: 0;bottom: 0;left: 50%;z-index: -1;}#sk-container-id-4 div.sk-parallel-item {display: flex;flex-direction: column;z-index: 1;position: relative;background-color: white;}#sk-container-id-4 div.sk-parallel-item:first-child::after {align-self: flex-end;width: 50%;}#sk-container-id-4 div.sk-parallel-item:last-child::after {align-self: flex-start;width: 50%;}#sk-container-id-4 div.sk-parallel-item:only-child::after {width: 0;}#sk-container-id-4 div.sk-dashed-wrapped {border: 1px dashed gray;margin: 0 0.4em 0.5em 0.4em;box-sizing: border-box;padding-bottom: 0.4em;background-color: white;}#sk-container-id-4 div.sk-label label {font-family: monospace;font-weight: bold;display: inline-block;line-height: 1.2em;}#sk-container-id-4 div.sk-label-container {text-align: center;}#sk-container-id-4 div.sk-container {/* jupyter's `normalize.less` sets `[hidden] { display: none; }` but bootstrap.min.css set `[hidden] { display: none !important; }` so we also need the `!important` here to be able to override the default hidden behavior on the sphinx rendered scikit-learn.org. See: https://github.com/scikit-learn/scikit-learn/issues/21755 */display: inline-block !important;position: relative;}#sk-container-id-4 div.sk-text-repr-fallback {display: none;}</style><div id=\"sk-container-id-4\" class=\"sk-top-container\"><div class=\"sk-text-repr-fallback\"><pre>AutoSklearnClassifier(per_run_time_limit=20, time_left_for_this_task=100)</pre><b>In a Jupyter environment, please rerun this cell to show the HTML representation or trust the notebook. <br />On GitHub, the HTML representation is unable to render, please try loading this page with nbviewer.org.</b></div><div class=\"sk-container\" hidden><div class=\"sk-item\"><div class=\"sk-estimator sk-toggleable\"><input class=\"sk-toggleable__control sk-hidden--visually\" id=\"sk-estimator-id-4\" type=\"checkbox\" checked><label for=\"sk-estimator-id-4\" class=\"sk-toggleable__label sk-toggleable__label-arrow\">AutoSklearnClassifier</label><div class=\"sk-toggleable__content\"><pre>AutoSklearnClassifier(per_run_time_limit=20, time_left_for_this_task=100)</pre></div></div></div></div></div>"
      ],
      "text/plain": [
       "AutoSklearnClassifier(per_run_time_limit=20, time_left_for_this_task=100)"
      ]
     },
     "execution_count": 94,
     "metadata": {},
     "output_type": "execute_result"
    }
   ],
   "source": [
    "automl.fit(X_train, y_train)\n"
   ]
  },
  {
   "cell_type": "code",
   "execution_count": 95,
   "metadata": {},
   "outputs": [
    {
     "name": "stdout",
     "output_type": "stream",
     "text": [
      "F1 Score: 85.8%\n",
      "Accuracy Score: 85.83%\n",
      "Precision Score: 82.66%\n",
      "Recall Score: 90.69%\n"
     ]
    },
    {
     "name": "stderr",
     "output_type": "stream",
     "text": [
      "/home/felipe/dev/predicao-falha-entrega-logistica/venv/lib/python3.8/site-packages/sklearn/utils/deprecation.py:87: FutureWarning: Function plot_confusion_matrix is deprecated; Function `plot_confusion_matrix` is deprecated in 1.0 and will be removed in 1.2. Use one of the class methods: ConfusionMatrixDisplay.from_predictions or ConfusionMatrixDisplay.from_estimator.\n",
      "  warnings.warn(msg, category=FutureWarning)\n"
     ]
    },
    {
     "data": {
      "image/png": "[encoded data removed]",
      "text/plain": [
       "<Figure size 432x288 with 2 Axes>"
      ]
     },
     "metadata": {
      "needs_background": "light"
     },
     "output_type": "display_data"
    }
   ],
   "source": [
    "predictAutoML = automl.predict(X_val)\n",
    "\n",
    "f1 = round(f1_score(y_val, predictAutoML, average='macro')*100, 2)\n",
    "accuracy = round(accuracy_score(y_val, predictAutoML)*100, 2)\n",
    "precision = round(precision_score(y_val, predictAutoML)*100, 2)\n",
    "recall = round(recall_score(y_val, predictAutoML)*100, 2)\n",
    "\n",
    "print(f\"F1 Score: {f1}%\")\n",
    "print(f\"Accuracy Score: {accuracy}%\")\n",
    "print(f\"Precision Score: {precision}%\")\n",
    "print(f\"Recall Score: {recall}%\")\n",
    "\n",
    "plot_confusion_matrix(automl, X_val, y_val, display_labels=[\n",
    "                      \"positive\", \"negative\"], values_format=\"d\")\n",
    "plt.grid(False)\n",
    "plt.show()\n"
   ]
  },
  {
   "cell_type": "code",
   "execution_count": 96,
   "metadata": {},
   "outputs": [
    {
     "name": "stdout",
     "output_type": "stream",
     "text": [
      "F1 Score: 89.07%\n",
      "Accuracy Score: 89.09%\n",
      "Precision Score: 85.98%\n",
      "Recall Score: 93.42%\n"
     ]
    },
    {
     "name": "stderr",
     "output_type": "stream",
     "text": [
      "/home/felipe/dev/predicao-falha-entrega-logistica/venv/lib/python3.8/site-packages/sklearn/utils/deprecation.py:87: FutureWarning: Function plot_confusion_matrix is deprecated; Function `plot_confusion_matrix` is deprecated in 1.0 and will be removed in 1.2. Use one of the class methods: ConfusionMatrixDisplay.from_predictions or ConfusionMatrixDisplay.from_estimator.\n",
      "  warnings.warn(msg, category=FutureWarning)\n"
     ]
    },
    {
     "data": {
      "image/png": "[encoded data removed]",
      "text/plain": [
       "<Figure size 432x288 with 2 Axes>"
      ]
     },
     "metadata": {
      "needs_background": "light"
     },
     "output_type": "display_data"
    },
    {
     "name": "stderr",
     "output_type": "stream",
     "text": [
      "/home/felipe/dev/predicao-falha-entrega-logistica/venv/lib/python3.8/site-packages/sklearn/utils/deprecation.py:87: FutureWarning: Function plot_roc_curve is deprecated; Function :func:`plot_roc_curve` is deprecated in 1.0 and will be removed in 1.2. Use one of the class methods: :meth:`sklearn.metric.RocCurveDisplay.from_predictions` or :meth:`sklearn.metric.RocCurveDisplay.from_estimator`.\n",
      "  warnings.warn(msg, category=FutureWarning)\n"
     ]
    },
    {
     "data": {
      "image/png": "[encoded data removed]",
      "text/plain": [
       "<Figure size 432x288 with 1 Axes>"
      ]
     },
     "metadata": {
      "needs_background": "light"
     },
     "output_type": "display_data"
    }
   ],
   "source": [
    "predictAutoML = automl.predict(X_test)\n",
    "\n",
    "f1 = round(f1_score(y_test, predictAutoML, average='macro')*100, 2)\n",
    "accuracy = round(accuracy_score(y_test, predictAutoML)*100, 2)\n",
    "precision = round(precision_score(y_test, predictAutoML)*100, 2)\n",
    "recall = round(recall_score(y_test, predictAutoML)*100, 2)\n",
    "\n",
    "print(f\"F1 Score: {f1}%\")\n",
    "print(f\"Accuracy Score: {accuracy}%\")\n",
    "print(f\"Precision Score: {precision}%\")\n",
    "print(f\"Recall Score: {recall}%\")\n",
    "\n",
    "plot_confusion_matrix(automl, X_test, y_test, display_labels=[\n",
    "                      \"positive\", \"negative\"], values_format=\"d\")\n",
    "plt.grid(False)\n",
    "plt.show()\n",
    "\n",
    "metrics.plot_roc_curve(automl, X_test, y_test)\n",
    "plt.show()\n"
   ]
  },
  {
   "cell_type": "code",
   "execution_count": 97,
   "metadata": {},
   "outputs": [
    {
     "data": {
      "text/html": [
       "<div>\n",
       "<style scoped>\n",
       "    .dataframe tbody tr th:only-of-type {\n",
       "        vertical-align: middle;\n",
       "    }\n",
       "\n",
       "    .dataframe tbody tr th {\n",
       "        vertical-align: top;\n",
       "    }\n",
       "\n",
       "    .dataframe thead th {\n",
       "        text-align: right;\n",
       "    }\n",
       "</style>\n",
       "<table border=\"1\" class=\"dataframe\">\n",
       "  <thead>\n",
       "    <tr style=\"text-align: right;\">\n",
       "      <th></th>\n",
       "      <th>model_id</th>\n",
       "      <th>rank</th>\n",
       "      <th>cost</th>\n",
       "      <th>ensemble_weight</th>\n",
       "      <th>data_preprocessor</th>\n",
       "      <th>balancing</th>\n",
       "      <th>feature_preprocessor</th>\n",
       "      <th>classifier</th>\n",
       "      <th>sklearn_classifier</th>\n",
       "    </tr>\n",
       "  </thead>\n",
       "  <tbody>\n",
       "    <tr>\n",
       "      <th>2</th>\n",
       "      <td>2</td>\n",
       "      <td>1</td>\n",
       "      <td>0.067073</td>\n",
       "      <td>0.36</td>\n",
       "      <td>&lt;autosklearn.pipeline.components.data_preproce...</td>\n",
       "      <td>autosklearn.pipeline Balancing Imbalanced Clas...</td>\n",
       "      <td>&lt;autosklearn.pipeline.components.feature_prepr...</td>\n",
       "      <td>&lt;autosklearn.pipeline.components.classificatio...</td>\n",
       "      <td>(DecisionTreeClassifier(max_features=10, rando...</td>\n",
       "    </tr>\n",
       "    <tr>\n",
       "      <th>3</th>\n",
       "      <td>3</td>\n",
       "      <td>2</td>\n",
       "      <td>0.077236</td>\n",
       "      <td>0.08</td>\n",
       "      <td>&lt;autosklearn.pipeline.components.data_preproce...</td>\n",
       "      <td>autosklearn.pipeline Balancing Imbalanced Clas...</td>\n",
       "      <td>&lt;autosklearn.pipeline.components.feature_prepr...</td>\n",
       "      <td>&lt;autosklearn.pipeline.components.classificatio...</td>\n",
       "      <td>(DecisionTreeClassifier(criterion='entropy', m...</td>\n",
       "    </tr>\n",
       "    <tr>\n",
       "      <th>10</th>\n",
       "      <td>10</td>\n",
       "      <td>3</td>\n",
       "      <td>0.081301</td>\n",
       "      <td>0.04</td>\n",
       "      <td>&lt;autosklearn.pipeline.components.data_preproce...</td>\n",
       "      <td>autosklearn.pipeline Balancing Imbalanced Clas...</td>\n",
       "      <td>&lt;autosklearn.pipeline.components.feature_prepr...</td>\n",
       "      <td>&lt;autosklearn.pipeline.components.classificatio...</td>\n",
       "      <td>(DecisionTreeClassifier(max_features=2, random...</td>\n",
       "    </tr>\n",
       "    <tr>\n",
       "      <th>13</th>\n",
       "      <td>13</td>\n",
       "      <td>4</td>\n",
       "      <td>0.087398</td>\n",
       "      <td>0.02</td>\n",
       "      <td>&lt;autosklearn.pipeline.components.data_preproce...</td>\n",
       "      <td>autosklearn.pipeline Balancing Imbalanced Clas...</td>\n",
       "      <td>&lt;autosklearn.pipeline.components.feature_prepr...</td>\n",
       "      <td>&lt;autosklearn.pipeline.components.classificatio...</td>\n",
       "      <td>(DecisionTreeClassifier(max_features=2, min_sa...</td>\n",
       "    </tr>\n",
       "    <tr>\n",
       "      <th>18</th>\n",
       "      <td>18</td>\n",
       "      <td>5</td>\n",
       "      <td>0.087398</td>\n",
       "      <td>0.02</td>\n",
       "      <td>&lt;autosklearn.pipeline.components.data_preproce...</td>\n",
       "      <td>autosklearn.pipeline Balancing Imbalanced Clas...</td>\n",
       "      <td>&lt;autosklearn.pipeline.components.feature_prepr...</td>\n",
       "      <td>&lt;autosklearn.pipeline.components.classificatio...</td>\n",
       "      <td>HistGradientBoostingClassifier(early_stopping=...</td>\n",
       "    </tr>\n",
       "    <tr>\n",
       "      <th>16</th>\n",
       "      <td>16</td>\n",
       "      <td>6</td>\n",
       "      <td>0.093496</td>\n",
       "      <td>0.1</td>\n",
       "      <td>&lt;autosklearn.pipeline.components.data_preproce...</td>\n",
       "      <td>autosklearn.pipeline Balancing Imbalanced Clas...</td>\n",
       "      <td>&lt;autosklearn.pipeline.components.feature_prepr...</td>\n",
       "      <td>&lt;autosklearn.pipeline.components.classificatio...</td>\n",
       "      <td>(ExtraTreeClassifier(max_features=10, min_samp...</td>\n",
       "    </tr>\n",
       "    <tr>\n",
       "      <th>17</th>\n",
       "      <td>17</td>\n",
       "      <td>7</td>\n",
       "      <td>0.097561</td>\n",
       "      <td>0.02</td>\n",
       "      <td>&lt;autosklearn.pipeline.components.data_preproce...</td>\n",
       "      <td>autosklearn.pipeline Balancing Imbalanced Clas...</td>\n",
       "      <td>&lt;autosklearn.pipeline.components.feature_prepr...</td>\n",
       "      <td>&lt;autosklearn.pipeline.components.classificatio...</td>\n",
       "      <td>HistGradientBoostingClassifier(early_stopping=...</td>\n",
       "    </tr>\n",
       "    <tr>\n",
       "      <th>7</th>\n",
       "      <td>7</td>\n",
       "      <td>8</td>\n",
       "      <td>0.117886</td>\n",
       "      <td>0.04</td>\n",
       "      <td>&lt;autosklearn.pipeline.components.data_preproce...</td>\n",
       "      <td>autosklearn.pipeline Balancing Imbalanced Clas...</td>\n",
       "      <td>&lt;autosklearn.pipeline.components.feature_prepr...</td>\n",
       "      <td>&lt;autosklearn.pipeline.components.classificatio...</td>\n",
       "      <td>MLPClassifier(alpha=0.003989533567739603, beta...</td>\n",
       "    </tr>\n",
       "    <tr>\n",
       "      <th>15</th>\n",
       "      <td>15</td>\n",
       "      <td>9</td>\n",
       "      <td>0.130081</td>\n",
       "      <td>0.04</td>\n",
       "      <td>&lt;autosklearn.pipeline.components.data_preproce...</td>\n",
       "      <td>autosklearn.pipeline Balancing Imbalanced Clas...</td>\n",
       "      <td>&lt;autosklearn.pipeline.components.feature_prepr...</td>\n",
       "      <td>&lt;autosklearn.pipeline.components.classificatio...</td>\n",
       "      <td>HistGradientBoostingClassifier(early_stopping=...</td>\n",
       "    </tr>\n",
       "    <tr>\n",
       "      <th>6</th>\n",
       "      <td>6</td>\n",
       "      <td>10</td>\n",
       "      <td>0.138211</td>\n",
       "      <td>0.1</td>\n",
       "      <td>&lt;autosklearn.pipeline.components.data_preproce...</td>\n",
       "      <td>autosklearn.pipeline Balancing Imbalanced Clas...</td>\n",
       "      <td>&lt;autosklearn.pipeline.components.feature_prepr...</td>\n",
       "      <td>&lt;autosklearn.pipeline.components.classificatio...</td>\n",
       "      <td>(DecisionTreeClassifier(max_depth=2, random_st...</td>\n",
       "    </tr>\n",
       "    <tr>\n",
       "      <th>4</th>\n",
       "      <td>4</td>\n",
       "      <td>11</td>\n",
       "      <td>0.176829</td>\n",
       "      <td>0.18</td>\n",
       "      <td>&lt;autosklearn.pipeline.components.data_preproce...</td>\n",
       "      <td>autosklearn.pipeline Balancing Imbalanced Clas...</td>\n",
       "      <td>&lt;autosklearn.pipeline.components.feature_prepr...</td>\n",
       "      <td>&lt;autosklearn.pipeline.components.classificatio...</td>\n",
       "      <td>KNeighborsClassifier(n_neighbors=1, p=1)</td>\n",
       "    </tr>\n",
       "  </tbody>\n",
       "</table>\n",
       "</div>"
      ],
      "text/plain": [
       "   model_id rank      cost ensemble_weight  \\\n",
       "2         2    1  0.067073            0.36   \n",
       "3         3    2  0.077236            0.08   \n",
       "10       10    3  0.081301            0.04   \n",
       "13       13    4  0.087398            0.02   \n",
       "18       18    5  0.087398            0.02   \n",
       "16       16    6  0.093496             0.1   \n",
       "17       17    7  0.097561            0.02   \n",
       "7         7    8  0.117886            0.04   \n",
       "15       15    9  0.130081            0.04   \n",
       "6         6   10  0.138211             0.1   \n",
       "4         4   11  0.176829            0.18   \n",
       "\n",
       "                                    data_preprocessor  \\\n",
       "2   <autosklearn.pipeline.components.data_preproce...   \n",
       "3   <autosklearn.pipeline.components.data_preproce...   \n",
       "10  <autosklearn.pipeline.components.data_preproce...   \n",
       "13  <autosklearn.pipeline.components.data_preproce...   \n",
       "18  <autosklearn.pipeline.components.data_preproce...   \n",
       "16  <autosklearn.pipeline.components.data_preproce...   \n",
       "17  <autosklearn.pipeline.components.data_preproce...   \n",
       "7   <autosklearn.pipeline.components.data_preproce...   \n",
       "15  <autosklearn.pipeline.components.data_preproce...   \n",
       "6   <autosklearn.pipeline.components.data_preproce...   \n",
       "4   <autosklearn.pipeline.components.data_preproce...   \n",
       "\n",
       "                                            balancing  \\\n",
       "2   autosklearn.pipeline Balancing Imbalanced Clas...   \n",
       "3   autosklearn.pipeline Balancing Imbalanced Clas...   \n",
       "10  autosklearn.pipeline Balancing Imbalanced Clas...   \n",
       "13  autosklearn.pipeline Balancing Imbalanced Clas...   \n",
       "18  autosklearn.pipeline Balancing Imbalanced Clas...   \n",
       "16  autosklearn.pipeline Balancing Imbalanced Clas...   \n",
       "17  autosklearn.pipeline Balancing Imbalanced Clas...   \n",
       "7   autosklearn.pipeline Balancing Imbalanced Clas...   \n",
       "15  autosklearn.pipeline Balancing Imbalanced Clas...   \n",
       "6   autosklearn.pipeline Balancing Imbalanced Clas...   \n",
       "4   autosklearn.pipeline Balancing Imbalanced Clas...   \n",
       "\n",
       "                                 feature_preprocessor  \\\n",
       "2   <autosklearn.pipeline.components.feature_prepr...   \n",
       "3   <autosklearn.pipeline.components.feature_prepr...   \n",
       "10  <autosklearn.pipeline.components.feature_prepr...   \n",
       "13  <autosklearn.pipeline.components.feature_prepr...   \n",
       "18  <autosklearn.pipeline.components.feature_prepr...   \n",
       "16  <autosklearn.pipeline.components.feature_prepr...   \n",
       "17  <autosklearn.pipeline.components.feature_prepr...   \n",
       "7   <autosklearn.pipeline.components.feature_prepr...   \n",
       "15  <autosklearn.pipeline.components.feature_prepr...   \n",
       "6   <autosklearn.pipeline.components.feature_prepr...   \n",
       "4   <autosklearn.pipeline.components.feature_prepr...   \n",
       "\n",
       "                                           classifier  \\\n",
       "2   <autosklearn.pipeline.components.classificatio...   \n",
       "3   <autosklearn.pipeline.components.classificatio...   \n",
       "10  <autosklearn.pipeline.components.classificatio...   \n",
       "13  <autosklearn.pipeline.components.classificatio...   \n",
       "18  <autosklearn.pipeline.components.classificatio...   \n",
       "16  <autosklearn.pipeline.components.classificatio...   \n",
       "17  <autosklearn.pipeline.components.classificatio...   \n",
       "7   <autosklearn.pipeline.components.classificatio...   \n",
       "15  <autosklearn.pipeline.components.classificatio...   \n",
       "6   <autosklearn.pipeline.components.classificatio...   \n",
       "4   <autosklearn.pipeline.components.classificatio...   \n",
       "\n",
       "                                   sklearn_classifier  \n",
       "2   (DecisionTreeClassifier(max_features=10, rando...  \n",
       "3   (DecisionTreeClassifier(criterion='entropy', m...  \n",
       "10  (DecisionTreeClassifier(max_features=2, random...  \n",
       "13  (DecisionTreeClassifier(max_features=2, min_sa...  \n",
       "18  HistGradientBoostingClassifier(early_stopping=...  \n",
       "16  (ExtraTreeClassifier(max_features=10, min_samp...  \n",
       "17  HistGradientBoostingClassifier(early_stopping=...  \n",
       "7   MLPClassifier(alpha=0.003989533567739603, beta...  \n",
       "15  HistGradientBoostingClassifier(early_stopping=...  \n",
       "6   (DecisionTreeClassifier(max_depth=2, random_st...  \n",
       "4            KNeighborsClassifier(n_neighbors=1, p=1)  "
      ]
     },
     "execution_count": 97,
     "metadata": {},
     "output_type": "execute_result"
    }
   ],
   "source": [
    "pd.DataFrame(automl.show_models()).transpose()\n"
   ]
  },
  {
   "cell_type": "markdown",
   "metadata": {},
   "source": [
    "## Modeling"
   ]
  },
  {
   "cell_type": "markdown",
   "metadata": {},
   "source": [
    "### Decision Tree"
   ]
  },
  {
   "cell_type": "markdown",
   "metadata": {},
   "source": [
    "Treino"
   ]
  },
  {
   "cell_type": "code",
   "execution_count": 98,
   "metadata": {},
   "outputs": [
    {
     "data": {
      "text/html": [
       "<style>#sk-container-id-5 {color: black;background-color: white;}#sk-container-id-5 pre{padding: 0;}#sk-container-id-5 div.sk-toggleable {background-color: white;}#sk-container-id-5 label.sk-toggleable__label {cursor: pointer;display: block;width: 100%;margin-bottom: 0;padding: 0.3em;box-sizing: border-box;text-align: center;}#sk-container-id-5 label.sk-toggleable__label-arrow:before {content: \"▸\";float: left;margin-right: 0.25em;color: #696969;}#sk-container-id-5 label.sk-toggleable__label-arrow:hover:before {color: black;}#sk-container-id-5 div.sk-estimator:hover label.sk-toggleable__label-arrow:before {color: black;}#sk-container-id-5 div.sk-toggleable__content {max-height: 0;max-width: 0;overflow: hidden;text-align: left;background-color: #f0f8ff;}#sk-container-id-5 div.sk-toggleable__content pre {margin: 0.2em;color: black;border-radius: 0.25em;background-color: #f0f8ff;}#sk-container-id-5 input.sk-toggleable__control:checked~div.sk-toggleable__content {max-height: 200px;max-width: 100%;overflow: auto;}#sk-container-id-5 input.sk-toggleable__control:checked~label.sk-toggleable__label-arrow:before {content: \"▾\";}#sk-container-id-5 div.sk-estimator input.sk-toggleable__control:checked~label.sk-toggleable__label {background-color: #d4ebff;}#sk-container-id-5 div.sk-label input.sk-toggleable__control:checked~label.sk-toggleable__label {background-color: #d4ebff;}#sk-container-id-5 input.sk-hidden--visually {border: 0;clip: rect(1px 1px 1px 1px);clip: rect(1px, 1px, 1px, 1px);height: 1px;margin: -1px;overflow: hidden;padding: 0;position: absolute;width: 1px;}#sk-container-id-5 div.sk-estimator {font-family: monospace;background-color: #f0f8ff;border: 1px dotted black;border-radius: 0.25em;box-sizing: border-box;margin-bottom: 0.5em;}#sk-container-id-5 div.sk-estimator:hover {background-color: #d4ebff;}#sk-container-id-5 div.sk-parallel-item::after {content: \"\";width: 100%;border-bottom: 1px solid gray;flex-grow: 1;}#sk-container-id-5 div.sk-label:hover label.sk-toggleable__label {background-color: #d4ebff;}#sk-container-id-5 div.sk-serial::before {content: \"\";position: absolute;border-left: 1px solid gray;box-sizing: border-box;top: 0;bottom: 0;left: 50%;z-index: 0;}#sk-container-id-5 div.sk-serial {display: flex;flex-direction: column;align-items: center;background-color: white;padding-right: 0.2em;padding-left: 0.2em;position: relative;}#sk-container-id-5 div.sk-item {position: relative;z-index: 1;}#sk-container-id-5 div.sk-parallel {display: flex;align-items: stretch;justify-content: center;background-color: white;position: relative;}#sk-container-id-5 div.sk-item::before, #sk-container-id-5 div.sk-parallel-item::before {content: \"\";position: absolute;border-left: 1px solid gray;box-sizing: border-box;top: 0;bottom: 0;left: 50%;z-index: -1;}#sk-container-id-5 div.sk-parallel-item {display: flex;flex-direction: column;z-index: 1;position: relative;background-color: white;}#sk-container-id-5 div.sk-parallel-item:first-child::after {align-self: flex-end;width: 50%;}#sk-container-id-5 div.sk-parallel-item:last-child::after {align-self: flex-start;width: 50%;}#sk-container-id-5 div.sk-parallel-item:only-child::after {width: 0;}#sk-container-id-5 div.sk-dashed-wrapped {border: 1px dashed gray;margin: 0 0.4em 0.5em 0.4em;box-sizing: border-box;padding-bottom: 0.4em;background-color: white;}#sk-container-id-5 div.sk-label label {font-family: monospace;font-weight: bold;display: inline-block;line-height: 1.2em;}#sk-container-id-5 div.sk-label-container {text-align: center;}#sk-container-id-5 div.sk-container {/* jupyter's `normalize.less` sets `[hidden] { display: none; }` but bootstrap.min.css set `[hidden] { display: none !important; }` so we also need the `!important` here to be able to override the default hidden behavior on the sphinx rendered scikit-learn.org. See: https://github.com/scikit-learn/scikit-learn/issues/21755 */display: inline-block !important;position: relative;}#sk-container-id-5 div.sk-text-repr-fallback {display: none;}</style><div id=\"sk-container-id-5\" class=\"sk-top-container\"><div class=\"sk-text-repr-fallback\"><pre>DecisionTreeClassifier()</pre><b>In a Jupyter environment, please rerun this cell to show the HTML representation or trust the notebook. <br />On GitHub, the HTML representation is unable to render, please try loading this page with nbviewer.org.</b></div><div class=\"sk-container\" hidden><div class=\"sk-item\"><div class=\"sk-estimator sk-toggleable\"><input class=\"sk-toggleable__control sk-hidden--visually\" id=\"sk-estimator-id-5\" type=\"checkbox\" checked><label for=\"sk-estimator-id-5\" class=\"sk-toggleable__label sk-toggleable__label-arrow\">DecisionTreeClassifier</label><div class=\"sk-toggleable__content\"><pre>DecisionTreeClassifier()</pre></div></div></div></div></div>"
      ],
      "text/plain": [
       "DecisionTreeClassifier()"
      ]
     },
     "execution_count": 98,
     "metadata": {},
     "output_type": "execute_result"
    }
   ],
   "source": [
    "dtc_model = DecisionTreeClassifier()\n",
    "dtc_model.fit(X_train, y_train)\n"
   ]
  },
  {
   "cell_type": "markdown",
   "metadata": {},
   "source": [
    "Validação (tunning de hyperparâmetros)"
   ]
  },
  {
   "cell_type": "code",
   "execution_count": 99,
   "metadata": {},
   "outputs": [
    {
     "name": "stdout",
     "output_type": "stream",
     "text": [
      "F1 Score: 70.31%\n",
      "Accuracy Score: 70.65%\n",
      "Precision Score: 67.0%\n",
      "Recall Score: 81.38%\n"
     ]
    },
    {
     "name": "stderr",
     "output_type": "stream",
     "text": [
      "/home/felipe/dev/predicao-falha-entrega-logistica/venv/lib/python3.8/site-packages/sklearn/utils/deprecation.py:87: FutureWarning: Function plot_confusion_matrix is deprecated; Function `plot_confusion_matrix` is deprecated in 1.0 and will be removed in 1.2. Use one of the class methods: ConfusionMatrixDisplay.from_predictions or ConfusionMatrixDisplay.from_estimator.\n",
      "  warnings.warn(msg, category=FutureWarning)\n"
     ]
    },
    {
     "data": {
      "image/png": "[encoded data removed]",
      "text/plain": [
       "<Figure size 432x288 with 2 Axes>"
      ]
     },
     "metadata": {
      "needs_background": "light"
     },
     "output_type": "display_data"
    }
   ],
   "source": [
    "predict_DTC = dtc_model.predict(X_val)\n",
    "\n",
    "f1 = round(f1_score(y_val, predict_DTC, average='macro')*100, 2)\n",
    "accuracy = round(accuracy_score(y_val, predict_DTC)*100, 2)\n",
    "precision = round(precision_score(y_val, predict_DTC)*100, 2)\n",
    "recall = round(recall_score(y_val, predict_DTC)*100, 2)\n",
    "\n",
    "print(f\"F1 Score: {f1}%\")\n",
    "print(f\"Accuracy Score: {accuracy}%\")\n",
    "print(f\"Precision Score: {precision}%\")\n",
    "print(f\"Recall Score: {recall}%\")\n",
    "\n",
    "plot_confusion_matrix(dtc_model, X_val, y_val, display_labels=[\n",
    "                      \"normal\", \"churn\"], values_format=\"d\")\n",
    "plt.grid(False)\n",
    "plt.show()\n"
   ]
  },
  {
   "cell_type": "markdown",
   "metadata": {},
   "source": [
    "Teste"
   ]
  },
  {
   "cell_type": "code",
   "execution_count": 100,
   "metadata": {},
   "outputs": [
    {
     "name": "stdout",
     "output_type": "stream",
     "text": [
      "F1 Score: 70.31%\n",
      "Accuracy Score: 70.65%\n",
      "Precision Score: 67.0%\n",
      "Recall Score: 81.38%\n"
     ]
    },
    {
     "name": "stderr",
     "output_type": "stream",
     "text": [
      "/home/felipe/dev/predicao-falha-entrega-logistica/venv/lib/python3.8/site-packages/sklearn/utils/deprecation.py:87: FutureWarning: Function plot_confusion_matrix is deprecated; Function `plot_confusion_matrix` is deprecated in 1.0 and will be removed in 1.2. Use one of the class methods: ConfusionMatrixDisplay.from_predictions or ConfusionMatrixDisplay.from_estimator.\n",
      "  warnings.warn(msg, category=FutureWarning)\n"
     ]
    },
    {
     "data": {
      "image/png": "[encoded data removed]",
      "text/plain": [
       "<Figure size 432x288 with 2 Axes>"
      ]
     },
     "metadata": {
      "needs_background": "light"
     },
     "output_type": "display_data"
    }
   ],
   "source": [
    "predict_DTC = dtc_model.predict(X_val)\n",
    "\n",
    "f1 = round(f1_score(y_val, predict_DTC, average='macro')*100, 2)\n",
    "accuracy = round(accuracy_score(y_val, predict_DTC)*100, 2)\n",
    "precision = round(precision_score(y_val, predict_DTC)*100, 2)\n",
    "recall = round(recall_score(y_val, predict_DTC)*100, 2)\n",
    "\n",
    "print(f\"F1 Score: {f1}%\")\n",
    "print(f\"Accuracy Score: {accuracy}%\")\n",
    "print(f\"Precision Score: {precision}%\")\n",
    "print(f\"Recall Score: {recall}%\")\n",
    "\n",
    "plot_confusion_matrix(dtc_model, X_val, y_val, display_labels=[\n",
    "                      \"normal\", \"churn\"], values_format=\"d\")\n",
    "plt.grid(False)\n",
    "plt.show()\n"
   ]
  },
  {
   "cell_type": "markdown",
   "metadata": {},
   "source": [
    "### KNN"
   ]
  },
  {
   "cell_type": "markdown",
   "metadata": {},
   "source": [
    "Treino"
   ]
  },
  {
   "cell_type": "code",
   "execution_count": 101,
   "metadata": {},
   "outputs": [
    {
     "data": {
      "text/html": [
       "<style>#sk-container-id-6 {color: black;background-color: white;}#sk-container-id-6 pre{padding: 0;}#sk-container-id-6 div.sk-toggleable {background-color: white;}#sk-container-id-6 label.sk-toggleable__label {cursor: pointer;display: block;width: 100%;margin-bottom: 0;padding: 0.3em;box-sizing: border-box;text-align: center;}#sk-container-id-6 label.sk-toggleable__label-arrow:before {content: \"▸\";float: left;margin-right: 0.25em;color: #696969;}#sk-container-id-6 label.sk-toggleable__label-arrow:hover:before {color: black;}#sk-container-id-6 div.sk-estimator:hover label.sk-toggleable__label-arrow:before {color: black;}#sk-container-id-6 div.sk-toggleable__content {max-height: 0;max-width: 0;overflow: hidden;text-align: left;background-color: #f0f8ff;}#sk-container-id-6 div.sk-toggleable__content pre {margin: 0.2em;color: black;border-radius: 0.25em;background-color: #f0f8ff;}#sk-container-id-6 input.sk-toggleable__control:checked~div.sk-toggleable__content {max-height: 200px;max-width: 100%;overflow: auto;}#sk-container-id-6 input.sk-toggleable__control:checked~label.sk-toggleable__label-arrow:before {content: \"▾\";}#sk-container-id-6 div.sk-estimator input.sk-toggleable__control:checked~label.sk-toggleable__label {background-color: #d4ebff;}#sk-container-id-6 div.sk-label input.sk-toggleable__control:checked~label.sk-toggleable__label {background-color: #d4ebff;}#sk-container-id-6 input.sk-hidden--visually {border: 0;clip: rect(1px 1px 1px 1px);clip: rect(1px, 1px, 1px, 1px);height: 1px;margin: -1px;overflow: hidden;padding: 0;position: absolute;width: 1px;}#sk-container-id-6 div.sk-estimator {font-family: monospace;background-color: #f0f8ff;border: 1px dotted black;border-radius: 0.25em;box-sizing: border-box;margin-bottom: 0.5em;}#sk-container-id-6 div.sk-estimator:hover {background-color: #d4ebff;}#sk-container-id-6 div.sk-parallel-item::after {content: \"\";width: 100%;border-bottom: 1px solid gray;flex-grow: 1;}#sk-container-id-6 div.sk-label:hover label.sk-toggleable__label {background-color: #d4ebff;}#sk-container-id-6 div.sk-serial::before {content: \"\";position: absolute;border-left: 1px solid gray;box-sizing: border-box;top: 0;bottom: 0;left: 50%;z-index: 0;}#sk-container-id-6 div.sk-serial {display: flex;flex-direction: column;align-items: center;background-color: white;padding-right: 0.2em;padding-left: 0.2em;position: relative;}#sk-container-id-6 div.sk-item {position: relative;z-index: 1;}#sk-container-id-6 div.sk-parallel {display: flex;align-items: stretch;justify-content: center;background-color: white;position: relative;}#sk-container-id-6 div.sk-item::before, #sk-container-id-6 div.sk-parallel-item::before {content: \"\";position: absolute;border-left: 1px solid gray;box-sizing: border-box;top: 0;bottom: 0;left: 50%;z-index: -1;}#sk-container-id-6 div.sk-parallel-item {display: flex;flex-direction: column;z-index: 1;position: relative;background-color: white;}#sk-container-id-6 div.sk-parallel-item:first-child::after {align-self: flex-end;width: 50%;}#sk-container-id-6 div.sk-parallel-item:last-child::after {align-self: flex-start;width: 50%;}#sk-container-id-6 div.sk-parallel-item:only-child::after {width: 0;}#sk-container-id-6 div.sk-dashed-wrapped {border: 1px dashed gray;margin: 0 0.4em 0.5em 0.4em;box-sizing: border-box;padding-bottom: 0.4em;background-color: white;}#sk-container-id-6 div.sk-label label {font-family: monospace;font-weight: bold;display: inline-block;line-height: 1.2em;}#sk-container-id-6 div.sk-label-container {text-align: center;}#sk-container-id-6 div.sk-container {/* jupyter's `normalize.less` sets `[hidden] { display: none; }` but bootstrap.min.css set `[hidden] { display: none !important; }` so we also need the `!important` here to be able to override the default hidden behavior on the sphinx rendered scikit-learn.org. See: https://github.com/scikit-learn/scikit-learn/issues/21755 */display: inline-block !important;position: relative;}#sk-container-id-6 div.sk-text-repr-fallback {display: none;}</style><div id=\"sk-container-id-6\" class=\"sk-top-container\"><div class=\"sk-text-repr-fallback\"><pre>KNeighborsRegressor(n_neighbors=3)</pre><b>In a Jupyter environment, please rerun this cell to show the HTML representation or trust the notebook. <br />On GitHub, the HTML representation is unable to render, please try loading this page with nbviewer.org.</b></div><div class=\"sk-container\" hidden><div class=\"sk-item\"><div class=\"sk-estimator sk-toggleable\"><input class=\"sk-toggleable__control sk-hidden--visually\" id=\"sk-estimator-id-6\" type=\"checkbox\" checked><label for=\"sk-estimator-id-6\" class=\"sk-toggleable__label sk-toggleable__label-arrow\">KNeighborsRegressor</label><div class=\"sk-toggleable__content\"><pre>KNeighborsRegressor(n_neighbors=3)</pre></div></div></div></div></div>"
      ],
      "text/plain": [
       "KNeighborsRegressor(n_neighbors=3)"
      ]
     },
     "execution_count": 101,
     "metadata": {},
     "output_type": "execute_result"
    }
   ],
   "source": [
    "knn_model = KNeighborsRegressor(3)\n",
    "knn_model.fit(X_train, y_train)\n"
   ]
  },
  {
   "cell_type": "markdown",
   "metadata": {},
   "source": [
    "Validação (tunning de hyperparâmetros)"
   ]
  },
  {
   "cell_type": "code",
   "execution_count": 102,
   "metadata": {},
   "outputs": [
    {
     "data": {
      "text/plain": [
       "0.3959420796711825"
      ]
     },
     "execution_count": 102,
     "metadata": {},
     "output_type": "execute_result"
    }
   ],
   "source": [
    "predict_KNN = knn_model.predict(X_val)\n",
    "\n",
    "mse = mean_squared_error(y_val, predict_KNN)\n",
    "rmse = sqrt(mse)\n",
    "rmse\n"
   ]
  },
  {
   "cell_type": "markdown",
   "metadata": {},
   "source": [
    "Teste"
   ]
  },
  {
   "cell_type": "code",
   "execution_count": 103,
   "metadata": {},
   "outputs": [
    {
     "data": {
      "text/plain": [
       "0.3960250600579121"
      ]
     },
     "execution_count": 103,
     "metadata": {},
     "output_type": "execute_result"
    }
   ],
   "source": [
    "predict_KNN = knn_model.predict(X_test)\n",
    "\n",
    "mse = mean_squared_error(y_test, predict_KNN)\n",
    "rmse = sqrt(mse)\n",
    "rmse\n"
   ]
  },
  {
   "cell_type": "markdown",
   "metadata": {},
   "source": [
    "### Multilayer Perceptron"
   ]
  },
  {
   "cell_type": "markdown",
   "metadata": {},
   "source": [
    "Treino"
   ]
  },
  {
   "cell_type": "code",
   "execution_count": 104,
   "metadata": {},
   "outputs": [
    {
     "name": "stdout",
     "output_type": "stream",
     "text": [
      "Iteration 1, loss = 0.76328932\n",
      "Iteration 2, loss = 0.68759241\n",
      "Iteration 3, loss = 0.62817993\n",
      "Iteration 4, loss = 0.56776720\n",
      "Iteration 5, loss = 0.50208409\n",
      "Iteration 6, loss = 0.43691446\n",
      "Iteration 7, loss = 0.37873297\n",
      "Iteration 8, loss = 0.33324212\n",
      "Iteration 9, loss = 0.29702362\n",
      "Iteration 10, loss = 0.27274753\n",
      "Iteration 11, loss = 0.24133239\n",
      "Iteration 12, loss = 0.23052286\n",
      "Iteration 13, loss = 0.21978470\n",
      "Iteration 14, loss = 0.20312601\n",
      "Iteration 15, loss = 0.20090891\n",
      "Iteration 16, loss = 0.18956340\n",
      "Iteration 17, loss = 0.17968180\n",
      "Iteration 18, loss = 0.17498068\n",
      "Iteration 19, loss = 0.16221677\n",
      "Iteration 20, loss = 0.16314386\n",
      "Iteration 21, loss = 0.15989178\n",
      "Iteration 22, loss = 0.15408499\n",
      "Iteration 23, loss = 0.14902530\n",
      "Iteration 24, loss = 0.14580099\n",
      "Iteration 25, loss = 0.14569730\n",
      "Iteration 26, loss = 0.14752963\n",
      "Iteration 27, loss = 0.14321453\n",
      "Iteration 28, loss = 0.13985072\n",
      "Iteration 29, loss = 0.13687594\n",
      "Iteration 30, loss = 0.13507463\n",
      "Iteration 31, loss = 0.13469569\n",
      "Iteration 32, loss = 0.13470366\n",
      "Iteration 33, loss = 0.13244634\n",
      "Iteration 34, loss = 0.13207224\n",
      "Iteration 35, loss = 0.12928793\n",
      "Iteration 36, loss = 0.13473482\n",
      "Iteration 37, loss = 0.13346481\n",
      "Iteration 38, loss = 0.13285161\n",
      "Iteration 39, loss = 0.12801221\n",
      "Iteration 40, loss = 0.12869484\n",
      "Iteration 41, loss = 0.12723479\n",
      "Iteration 42, loss = 0.12409649\n",
      "Iteration 43, loss = 0.12585051\n",
      "Iteration 44, loss = 0.12196470\n",
      "Iteration 45, loss = 0.11930916\n",
      "Iteration 46, loss = 0.12159421\n",
      "Iteration 47, loss = 0.12093730\n",
      "Iteration 48, loss = 0.12348835\n",
      "Iteration 49, loss = 0.12322354\n",
      "Iteration 50, loss = 0.11838054\n",
      "Iteration 51, loss = 0.12384499\n",
      "Iteration 52, loss = 0.12054810\n",
      "Iteration 53, loss = 0.11679754\n",
      "Iteration 54, loss = 0.11917783\n",
      "Iteration 55, loss = 0.11797472\n",
      "Iteration 56, loss = 0.11867003\n",
      "Iteration 57, loss = 0.11719965\n",
      "Iteration 58, loss = 0.11652437\n",
      "Iteration 59, loss = 0.11776085\n",
      "Iteration 60, loss = 0.11928689\n",
      "Iteration 61, loss = 0.11880805\n",
      "Iteration 62, loss = 0.11879358\n",
      "Iteration 63, loss = 0.11916229\n",
      "Iteration 64, loss = 0.11693139\n",
      "Iteration 65, loss = 0.12151342\n",
      "Iteration 66, loss = 0.11208170\n",
      "Iteration 67, loss = 0.11535130\n",
      "Iteration 68, loss = 0.11281793\n",
      "Iteration 69, loss = 0.11891857\n",
      "Iteration 70, loss = 0.12135399\n",
      "Iteration 71, loss = 0.13929017\n",
      "Iteration 72, loss = 0.12522887\n",
      "Iteration 73, loss = 0.11309577\n",
      "Iteration 74, loss = 0.11460007\n",
      "Iteration 75, loss = 0.11478715\n",
      "Iteration 76, loss = 0.11512202\n",
      "Iteration 77, loss = 0.11185844\n",
      "Iteration 78, loss = 0.10924130\n",
      "Iteration 79, loss = 0.10988765\n",
      "Iteration 80, loss = 0.10955150\n",
      "Iteration 81, loss = 0.11383739\n",
      "Iteration 82, loss = 0.11058054\n",
      "Iteration 83, loss = 0.10958602\n",
      "Iteration 84, loss = 0.10785020\n",
      "Iteration 85, loss = 0.10729619\n",
      "Iteration 86, loss = 0.10857100\n",
      "Iteration 87, loss = 0.10696934\n",
      "Iteration 88, loss = 0.10297298\n",
      "Iteration 89, loss = 0.10609887\n",
      "Iteration 90, loss = 0.10186257\n",
      "Iteration 91, loss = 0.10381004\n",
      "Iteration 92, loss = 0.10412266\n",
      "Iteration 93, loss = 0.10591500\n",
      "Iteration 94, loss = 0.10485879\n",
      "Iteration 95, loss = 0.10245934\n",
      "Iteration 96, loss = 0.10356224\n",
      "Iteration 97, loss = 0.10042706\n",
      "Iteration 98, loss = 0.10434973\n",
      "Iteration 99, loss = 0.10535172\n",
      "Iteration 100, loss = 0.10338797\n",
      "Iteration 101, loss = 0.10538354\n",
      "Iteration 102, loss = 0.10245861\n",
      "Iteration 103, loss = 0.10368225\n",
      "Iteration 104, loss = 0.11046486\n",
      "Iteration 105, loss = 0.10734857\n",
      "Iteration 106, loss = 0.10295252\n",
      "Iteration 107, loss = 0.10408933\n",
      "Iteration 108, loss = 0.09957991\n",
      "Iteration 109, loss = 0.09930799\n",
      "Iteration 110, loss = 0.09901843\n",
      "Iteration 111, loss = 0.09943747\n",
      "Iteration 112, loss = 0.09561892\n",
      "Iteration 113, loss = 0.09551947\n",
      "Iteration 114, loss = 0.09534382\n",
      "Iteration 115, loss = 0.09904587\n",
      "Iteration 116, loss = 0.09376398\n",
      "Iteration 117, loss = 0.09620555\n",
      "Iteration 118, loss = 0.09572371\n",
      "Iteration 119, loss = 0.09977883\n",
      "Iteration 120, loss = 0.09545034\n",
      "Iteration 121, loss = 0.09472667\n",
      "Iteration 122, loss = 0.09312979\n",
      "Iteration 123, loss = 0.09222550\n",
      "Iteration 124, loss = 0.09216217\n",
      "Iteration 125, loss = 0.09047510\n",
      "Iteration 126, loss = 0.09096937\n",
      "Iteration 127, loss = 0.08863577\n",
      "Iteration 128, loss = 0.09053117\n",
      "Iteration 129, loss = 0.09190469\n",
      "Iteration 130, loss = 0.09721144\n",
      "Iteration 131, loss = 0.12419600\n",
      "Iteration 132, loss = 0.09987078\n",
      "Iteration 133, loss = 0.09659209\n",
      "Iteration 134, loss = 0.09835630\n",
      "Iteration 135, loss = 0.09795448\n",
      "Iteration 136, loss = 0.09624073\n",
      "Iteration 137, loss = 0.09116045\n",
      "Iteration 138, loss = 0.09482118\n",
      "Training loss did not improve more than tol=0.000100 for 10 consecutive epochs. Stopping.\n"
     ]
    },
    {
     "data": {
      "text/html": [
       "<style>#sk-container-id-7 {color: black;background-color: white;}#sk-container-id-7 pre{padding: 0;}#sk-container-id-7 div.sk-toggleable {background-color: white;}#sk-container-id-7 label.sk-toggleable__label {cursor: pointer;display: block;width: 100%;margin-bottom: 0;padding: 0.3em;box-sizing: border-box;text-align: center;}#sk-container-id-7 label.sk-toggleable__label-arrow:before {content: \"▸\";float: left;margin-right: 0.25em;color: #696969;}#sk-container-id-7 label.sk-toggleable__label-arrow:hover:before {color: black;}#sk-container-id-7 div.sk-estimator:hover label.sk-toggleable__label-arrow:before {color: black;}#sk-container-id-7 div.sk-toggleable__content {max-height: 0;max-width: 0;overflow: hidden;text-align: left;background-color: #f0f8ff;}#sk-container-id-7 div.sk-toggleable__content pre {margin: 0.2em;color: black;border-radius: 0.25em;background-color: #f0f8ff;}#sk-container-id-7 input.sk-toggleable__control:checked~div.sk-toggleable__content {max-height: 200px;max-width: 100%;overflow: auto;}#sk-container-id-7 input.sk-toggleable__control:checked~label.sk-toggleable__label-arrow:before {content: \"▾\";}#sk-container-id-7 div.sk-estimator input.sk-toggleable__control:checked~label.sk-toggleable__label {background-color: #d4ebff;}#sk-container-id-7 div.sk-label input.sk-toggleable__control:checked~label.sk-toggleable__label {background-color: #d4ebff;}#sk-container-id-7 input.sk-hidden--visually {border: 0;clip: rect(1px 1px 1px 1px);clip: rect(1px, 1px, 1px, 1px);height: 1px;margin: -1px;overflow: hidden;padding: 0;position: absolute;width: 1px;}#sk-container-id-7 div.sk-estimator {font-family: monospace;background-color: #f0f8ff;border: 1px dotted black;border-radius: 0.25em;box-sizing: border-box;margin-bottom: 0.5em;}#sk-container-id-7 div.sk-estimator:hover {background-color: #d4ebff;}#sk-container-id-7 div.sk-parallel-item::after {content: \"\";width: 100%;border-bottom: 1px solid gray;flex-grow: 1;}#sk-container-id-7 div.sk-label:hover label.sk-toggleable__label {background-color: #d4ebff;}#sk-container-id-7 div.sk-serial::before {content: \"\";position: absolute;border-left: 1px solid gray;box-sizing: border-box;top: 0;bottom: 0;left: 50%;z-index: 0;}#sk-container-id-7 div.sk-serial {display: flex;flex-direction: column;align-items: center;background-color: white;padding-right: 0.2em;padding-left: 0.2em;position: relative;}#sk-container-id-7 div.sk-item {position: relative;z-index: 1;}#sk-container-id-7 div.sk-parallel {display: flex;align-items: stretch;justify-content: center;background-color: white;position: relative;}#sk-container-id-7 div.sk-item::before, #sk-container-id-7 div.sk-parallel-item::before {content: \"\";position: absolute;border-left: 1px solid gray;box-sizing: border-box;top: 0;bottom: 0;left: 50%;z-index: -1;}#sk-container-id-7 div.sk-parallel-item {display: flex;flex-direction: column;z-index: 1;position: relative;background-color: white;}#sk-container-id-7 div.sk-parallel-item:first-child::after {align-self: flex-end;width: 50%;}#sk-container-id-7 div.sk-parallel-item:last-child::after {align-self: flex-start;width: 50%;}#sk-container-id-7 div.sk-parallel-item:only-child::after {width: 0;}#sk-container-id-7 div.sk-dashed-wrapped {border: 1px dashed gray;margin: 0 0.4em 0.5em 0.4em;box-sizing: border-box;padding-bottom: 0.4em;background-color: white;}#sk-container-id-7 div.sk-label label {font-family: monospace;font-weight: bold;display: inline-block;line-height: 1.2em;}#sk-container-id-7 div.sk-label-container {text-align: center;}#sk-container-id-7 div.sk-container {/* jupyter's `normalize.less` sets `[hidden] { display: none; }` but bootstrap.min.css set `[hidden] { display: none !important; }` so we also need the `!important` here to be able to override the default hidden behavior on the sphinx rendered scikit-learn.org. See: https://github.com/scikit-learn/scikit-learn/issues/21755 */display: inline-block !important;position: relative;}#sk-container-id-7 div.sk-text-repr-fallback {display: none;}</style><div id=\"sk-container-id-7\" class=\"sk-top-container\"><div class=\"sk-text-repr-fallback\"><pre>MLPClassifier(hidden_layer_sizes=(6, 5), learning_rate_init=0.01,\n",
       "              random_state=5, verbose=True)</pre><b>In a Jupyter environment, please rerun this cell to show the HTML representation or trust the notebook. <br />On GitHub, the HTML representation is unable to render, please try loading this page with nbviewer.org.</b></div><div class=\"sk-container\" hidden><div class=\"sk-item\"><div class=\"sk-estimator sk-toggleable\"><input class=\"sk-toggleable__control sk-hidden--visually\" id=\"sk-estimator-id-7\" type=\"checkbox\" checked><label for=\"sk-estimator-id-7\" class=\"sk-toggleable__label sk-toggleable__label-arrow\">MLPClassifier</label><div class=\"sk-toggleable__content\"><pre>MLPClassifier(hidden_layer_sizes=(6, 5), learning_rate_init=0.01,\n",
       "              random_state=5, verbose=True)</pre></div></div></div></div></div>"
      ],
      "text/plain": [
       "MLPClassifier(hidden_layer_sizes=(6, 5), learning_rate_init=0.01,\n",
       "              random_state=5, verbose=True)"
      ]
     },
     "execution_count": 104,
     "metadata": {},
     "output_type": "execute_result"
    }
   ],
   "source": [
    "mlp_model = MLPClassifier(hidden_layer_sizes=(6, 5),\n",
    "                          random_state=5,\n",
    "                          verbose=True,\n",
    "                          learning_rate_init=0.01)\n",
    "mlp_model.fit(X_train, y_train)\n"
   ]
  },
  {
   "cell_type": "markdown",
   "metadata": {},
   "source": [
    "Validação (tunning de hyperparâmetros)"
   ]
  },
  {
   "cell_type": "code",
   "execution_count": 105,
   "metadata": {},
   "outputs": [
    {
     "name": "stdout",
     "output_type": "stream",
     "text": [
      "F1 Score: 90.27%\n",
      "Accuracy Score: 90.28%\n",
      "Precision Score: 87.55%\n",
      "Recall Score: 93.93%\n"
     ]
    },
    {
     "name": "stderr",
     "output_type": "stream",
     "text": [
      "/home/felipe/dev/predicao-falha-entrega-logistica/venv/lib/python3.8/site-packages/sklearn/utils/deprecation.py:87: FutureWarning: Function plot_confusion_matrix is deprecated; Function `plot_confusion_matrix` is deprecated in 1.0 and will be removed in 1.2. Use one of the class methods: ConfusionMatrixDisplay.from_predictions or ConfusionMatrixDisplay.from_estimator.\n",
      "  warnings.warn(msg, category=FutureWarning)\n"
     ]
    },
    {
     "data": {
      "image/png": "[encoded data removed]",
      "text/plain": [
       "<Figure size 432x288 with 2 Axes>"
      ]
     },
     "metadata": {
      "needs_background": "light"
     },
     "output_type": "display_data"
    }
   ],
   "source": [
    "predict_MLP = mlp_model.predict(X_val)\n",
    "\n",
    "f1 = round(f1_score(y_val, predict_MLP, average='macro')*100, 2)\n",
    "accuracy = round(accuracy_score(y_val, predict_MLP)*100, 2)\n",
    "precision = round(precision_score(y_val, predict_MLP)*100, 2)\n",
    "recall = round(recall_score(y_val, predict_MLP)*100, 2)\n",
    "\n",
    "print(f\"F1 Score: {f1}%\")\n",
    "print(f\"Accuracy Score: {accuracy}%\")\n",
    "print(f\"Precision Score: {precision}%\")\n",
    "print(f\"Recall Score: {recall}%\")\n",
    "\n",
    "plot_confusion_matrix(mlp_model, X_val, y_val, display_labels=[\n",
    "                      \"normal\", \"churn\"], values_format=\"d\")\n",
    "plt.grid(False)\n",
    "plt.show()"
   ]
  },
  {
   "cell_type": "markdown",
   "metadata": {},
   "source": [
    "Teste"
   ]
  },
  {
   "cell_type": "code",
   "execution_count": 106,
   "metadata": {},
   "outputs": [
    {
     "name": "stdout",
     "output_type": "stream",
     "text": [
      "F1 Score: 91.77%\n",
      "Accuracy Score: 91.77%\n",
      "Precision Score: 92.12%\n",
      "Recall Score: 91.36%\n"
     ]
    },
    {
     "name": "stderr",
     "output_type": "stream",
     "text": [
      "/home/felipe/dev/predicao-falha-entrega-logistica/venv/lib/python3.8/site-packages/sklearn/utils/deprecation.py:87: FutureWarning: Function plot_confusion_matrix is deprecated; Function `plot_confusion_matrix` is deprecated in 1.0 and will be removed in 1.2. Use one of the class methods: ConfusionMatrixDisplay.from_predictions or ConfusionMatrixDisplay.from_estimator.\n",
      "  warnings.warn(msg, category=FutureWarning)\n"
     ]
    },
    {
     "data": {
      "image/png": "[encoded data removed]",
      "text/plain": [
       "<Figure size 432x288 with 2 Axes>"
      ]
     },
     "metadata": {
      "needs_background": "light"
     },
     "output_type": "display_data"
    }
   ],
   "source": [
    "predict_MLP = mlp_model.predict(X_test)\n",
    "\n",
    "f1 = round(f1_score(y_test, predict_MLP, average='macro')*100, 2)\n",
    "accuracy = round(accuracy_score(y_test, predict_MLP)*100, 2)\n",
    "precision = round(precision_score(y_test, predict_MLP)*100, 2)\n",
    "recall = round(recall_score(y_test, predict_MLP)*100, 2)\n",
    "\n",
    "print(f\"F1 Score: {f1}%\")\n",
    "print(f\"Accuracy Score: {accuracy}%\")\n",
    "print(f\"Precision Score: {precision}%\")\n",
    "print(f\"Recall Score: {recall}%\")\n",
    "\n",
    "plot_confusion_matrix(mlp_model, X_test, y_test, display_labels=[\n",
    "                      \"normal\", \"churn\"], values_format=\"d\")\n",
    "plt.grid(False)\n",
    "plt.show()\n"
   ]
  }
 ],
 "metadata": {
  "interpreter": {
   "hash": "df22b620659d0851eab3fae92e5b56650244b7340b5544c73c38c255df529449"
  },
  "kernelspec": {
   "display_name": "Python 3.8.10 ('venv': venv)",
   "language": "python",
   "name": "python3"
  },
  "language_info": {
   "codemirror_mode": {
    "name": "ipython",
    "version": 3
   },
   "file_extension": ".py",
   "mimetype": "text/x-python",
   "name": "python",
   "nbconvert_exporter": "python",
   "pygments_lexer": "ipython3",
   "version": "3.8.10"
  },
  "orig_nbformat": 4
 },
 "nbformat": 4,
 "nbformat_minor": 2
}
