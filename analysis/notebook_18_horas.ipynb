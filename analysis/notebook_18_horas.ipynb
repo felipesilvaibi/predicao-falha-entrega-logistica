{
 "cells": [
  {
   "cell_type": "code",
   "execution_count": 2,
   "metadata": {},
   "outputs": [],
   "source": [
    "from datetime import datetime\n",
    "import time\n",
    "\n",
    "import pandas as pd\n",
    "from sklearn.model_selection import train_test_split\n",
    "\n",
    "from sklearn.preprocessing import RobustScaler\n",
    "\n",
    "from statsmodels.stats.outliers_influence import variance_inflation_factor\n",
    "from imblearn.over_sampling import SMOTE\n",
    "\n",
    "import autosklearn.classification\n",
    "\n",
    "from sklearn.neural_network import MLPClassifier\n",
    "from sklearn.tree import DecisionTreeClassifier\n",
    "from sklearn.neighbors import KNeighborsRegressor\n",
    "\n",
    "from sklearn.metrics import plot_confusion_matrix, f1_score, accuracy_score, precision_score, recall_score\n",
    "from sklearn.metrics import mean_squared_error\n",
    "from math import sqrt\n",
    "\n",
    "import matplotlib.pyplot as plt\n",
    "import seaborn as sns\n"
   ]
  },
  {
   "cell_type": "markdown",
   "metadata": {},
   "source": [
    "## EDA"
   ]
  },
  {
   "cell_type": "code",
   "execution_count": 3,
   "metadata": {},
   "outputs": [],
   "source": [
    "df = pd.read_csv('../data/ordens_case_dnc_.csv', index_col='id')\n"
   ]
  },
  {
   "cell_type": "code",
   "execution_count": 4,
   "metadata": {},
   "outputs": [
    {
     "data": {
      "text/html": [
       "<div>\n",
       "<style scoped>\n",
       "    .dataframe tbody tr th:only-of-type {\n",
       "        vertical-align: middle;\n",
       "    }\n",
       "\n",
       "    .dataframe tbody tr th {\n",
       "        vertical-align: top;\n",
       "    }\n",
       "\n",
       "    .dataframe thead th {\n",
       "        text-align: right;\n",
       "    }\n",
       "</style>\n",
       "<table border=\"1\" class=\"dataframe\">\n",
       "  <thead>\n",
       "    <tr style=\"text-align: right;\">\n",
       "      <th></th>\n",
       "      <th>price</th>\n",
       "      <th>order_date</th>\n",
       "      <th>due_date</th>\n",
       "      <th>opt_date</th>\n",
       "      <th>delivery_date</th>\n",
       "      <th>cidade_origem_id</th>\n",
       "      <th>regiao_origem_id</th>\n",
       "      <th>cidade_destino_id</th>\n",
       "      <th>regiao_destino_id</th>\n",
       "      <th>peso</th>\n",
       "    </tr>\n",
       "    <tr>\n",
       "      <th>id</th>\n",
       "      <th></th>\n",
       "      <th></th>\n",
       "      <th></th>\n",
       "      <th></th>\n",
       "      <th></th>\n",
       "      <th></th>\n",
       "      <th></th>\n",
       "      <th></th>\n",
       "      <th></th>\n",
       "      <th></th>\n",
       "    </tr>\n",
       "  </thead>\n",
       "  <tbody>\n",
       "    <tr>\n",
       "      <th>0</th>\n",
       "      <td>107.78</td>\n",
       "      <td>2022-02-25 20:46:25+00:00</td>\n",
       "      <td>2022-03-02 00:00:00</td>\n",
       "      <td>2022-02-28 20:35:20</td>\n",
       "      <td>2022-03-02 18:03:33</td>\n",
       "      <td>2</td>\n",
       "      <td>1</td>\n",
       "      <td>25</td>\n",
       "      <td>1</td>\n",
       "      <td>23.8</td>\n",
       "    </tr>\n",
       "    <tr>\n",
       "      <th>1</th>\n",
       "      <td>7.47</td>\n",
       "      <td>2022-02-23 20:34:59+00:00</td>\n",
       "      <td>2022-02-24 00:00:00</td>\n",
       "      <td>2022-02-24 09:56:23</td>\n",
       "      <td>2022-02-24 15:52:40</td>\n",
       "      <td>2</td>\n",
       "      <td>1</td>\n",
       "      <td>16</td>\n",
       "      <td>4</td>\n",
       "      <td>536.0</td>\n",
       "    </tr>\n",
       "  </tbody>\n",
       "</table>\n",
       "</div>"
      ],
      "text/plain": [
       "     price                 order_date             due_date  \\\n",
       "id                                                           \n",
       "0   107.78  2022-02-25 20:46:25+00:00  2022-03-02 00:00:00   \n",
       "1     7.47  2022-02-23 20:34:59+00:00  2022-02-24 00:00:00   \n",
       "\n",
       "               opt_date        delivery_date  cidade_origem_id  \\\n",
       "id                                                               \n",
       "0   2022-02-28 20:35:20  2022-03-02 18:03:33                 2   \n",
       "1   2022-02-24 09:56:23  2022-02-24 15:52:40                 2   \n",
       "\n",
       "    regiao_origem_id  cidade_destino_id  regiao_destino_id   peso  \n",
       "id                                                                 \n",
       "0                  1                 25                  1   23.8  \n",
       "1                  1                 16                  4  536.0  "
      ]
     },
     "execution_count": 4,
     "metadata": {},
     "output_type": "execute_result"
    }
   ],
   "source": [
    "df.head(2)"
   ]
  },
  {
   "cell_type": "markdown",
   "metadata": {},
   "source": [
    "Correção da data do campo \"order_date\""
   ]
  },
  {
   "cell_type": "code",
   "execution_count": 5,
   "metadata": {},
   "outputs": [],
   "source": [
    "df['order_date'] = df['order_date'].str[:-6]"
   ]
  },
  {
   "cell_type": "code",
   "execution_count": 6,
   "metadata": {},
   "outputs": [
    {
     "data": {
      "text/html": [
       "<div>\n",
       "<style scoped>\n",
       "    .dataframe tbody tr th:only-of-type {\n",
       "        vertical-align: middle;\n",
       "    }\n",
       "\n",
       "    .dataframe tbody tr th {\n",
       "        vertical-align: top;\n",
       "    }\n",
       "\n",
       "    .dataframe thead th {\n",
       "        text-align: right;\n",
       "    }\n",
       "</style>\n",
       "<table border=\"1\" class=\"dataframe\">\n",
       "  <thead>\n",
       "    <tr style=\"text-align: right;\">\n",
       "      <th></th>\n",
       "      <th>price</th>\n",
       "      <th>order_date</th>\n",
       "      <th>due_date</th>\n",
       "      <th>opt_date</th>\n",
       "      <th>delivery_date</th>\n",
       "      <th>cidade_origem_id</th>\n",
       "      <th>regiao_origem_id</th>\n",
       "      <th>cidade_destino_id</th>\n",
       "      <th>regiao_destino_id</th>\n",
       "      <th>peso</th>\n",
       "    </tr>\n",
       "    <tr>\n",
       "      <th>id</th>\n",
       "      <th></th>\n",
       "      <th></th>\n",
       "      <th></th>\n",
       "      <th></th>\n",
       "      <th></th>\n",
       "      <th></th>\n",
       "      <th></th>\n",
       "      <th></th>\n",
       "      <th></th>\n",
       "      <th></th>\n",
       "    </tr>\n",
       "  </thead>\n",
       "  <tbody>\n",
       "    <tr>\n",
       "      <th>0</th>\n",
       "      <td>107.78</td>\n",
       "      <td>2022-02-25 20:46:25</td>\n",
       "      <td>2022-03-02 00:00:00</td>\n",
       "      <td>2022-02-28 20:35:20</td>\n",
       "      <td>2022-03-02 18:03:33</td>\n",
       "      <td>2</td>\n",
       "      <td>1</td>\n",
       "      <td>25</td>\n",
       "      <td>1</td>\n",
       "      <td>23.8</td>\n",
       "    </tr>\n",
       "    <tr>\n",
       "      <th>1</th>\n",
       "      <td>7.47</td>\n",
       "      <td>2022-02-23 20:34:59</td>\n",
       "      <td>2022-02-24 00:00:00</td>\n",
       "      <td>2022-02-24 09:56:23</td>\n",
       "      <td>2022-02-24 15:52:40</td>\n",
       "      <td>2</td>\n",
       "      <td>1</td>\n",
       "      <td>16</td>\n",
       "      <td>4</td>\n",
       "      <td>536.0</td>\n",
       "    </tr>\n",
       "  </tbody>\n",
       "</table>\n",
       "</div>"
      ],
      "text/plain": [
       "     price           order_date             due_date             opt_date  \\\n",
       "id                                                                          \n",
       "0   107.78  2022-02-25 20:46:25  2022-03-02 00:00:00  2022-02-28 20:35:20   \n",
       "1     7.47  2022-02-23 20:34:59  2022-02-24 00:00:00  2022-02-24 09:56:23   \n",
       "\n",
       "          delivery_date  cidade_origem_id  regiao_origem_id  \\\n",
       "id                                                            \n",
       "0   2022-03-02 18:03:33                 2                 1   \n",
       "1   2022-02-24 15:52:40                 2                 1   \n",
       "\n",
       "    cidade_destino_id  regiao_destino_id   peso  \n",
       "id                                               \n",
       "0                  25                  1   23.8  \n",
       "1                  16                  4  536.0  "
      ]
     },
     "execution_count": 6,
     "metadata": {},
     "output_type": "execute_result"
    }
   ],
   "source": [
    "df.head(2)\n"
   ]
  },
  {
   "cell_type": "markdown",
   "metadata": {},
   "source": [
    "Transformação de todas as datas para segundos"
   ]
  },
  {
   "cell_type": "code",
   "execution_count": 7,
   "metadata": {},
   "outputs": [],
   "source": [
    "def getTimeSeconds(x):\n",
    "    d = datetime.strptime(x, \"%Y-%m-%d %H:%M:%S\")\n",
    "    return int(time.mktime(d.timetuple()))\n",
    "\n",
    "df['order_date'] = df['order_date'].apply(getTimeSeconds)\n",
    "df['due_date'] = df['due_date'].apply(getTimeSeconds)\n",
    "df['opt_date'] = df['opt_date'].apply(getTimeSeconds)\n",
    "df['delivery_date'] = df['delivery_date'].apply(getTimeSeconds)\n"
   ]
  },
  {
   "cell_type": "code",
   "execution_count": 8,
   "metadata": {},
   "outputs": [
    {
     "data": {
      "text/plain": [
       "24"
      ]
     },
     "execution_count": 8,
     "metadata": {},
     "output_type": "execute_result"
    }
   ],
   "source": [
    "len(df[df['opt_date'] < df['order_date']])\n"
   ]
  },
  {
   "cell_type": "markdown",
   "metadata": {},
   "source": [
    "Remoção dos valores cujo a data de postagem é menor do que a data de compra"
   ]
  },
  {
   "cell_type": "code",
   "execution_count": 9,
   "metadata": {},
   "outputs": [],
   "source": [
    "df = df[df['opt_date'] >= df['order_date']]\n"
   ]
  },
  {
   "cell_type": "code",
   "execution_count": 10,
   "metadata": {},
   "outputs": [
    {
     "data": {
      "text/plain": [
       "0"
      ]
     },
     "execution_count": 10,
     "metadata": {},
     "output_type": "execute_result"
    }
   ],
   "source": [
    "len(df[df['opt_date'] < df['order_date']])\n"
   ]
  },
  {
   "cell_type": "markdown",
   "metadata": {},
   "source": [
    "Alteração de todas as horas das datas de entrega estimadas para as 18:00 do dia anterior a entrega. due_date - 21600 segundos (equivalente a 6 horas)"
   ]
  },
  {
   "cell_type": "code",
   "execution_count": 11,
   "metadata": {},
   "outputs": [],
   "source": [
    "df['due_date'] = df['due_date'] - 21600\n"
   ]
  },
  {
   "cell_type": "markdown",
   "metadata": {},
   "source": [
    "Criação das colunas \"post_time\" (tempo de postagem) e \"elapsed_time\" (tempo de entrega)"
   ]
  },
  {
   "cell_type": "code",
   "execution_count": 12,
   "metadata": {},
   "outputs": [],
   "source": [
    "df['post_time'] = df['opt_date'] - df['order_date']\n",
    "df['elapsed_time'] = df['delivery_date'] - df['opt_date']\n"
   ]
  },
  {
   "cell_type": "code",
   "execution_count": 13,
   "metadata": {},
   "outputs": [
    {
     "data": {
      "text/html": [
       "<div>\n",
       "<style scoped>\n",
       "    .dataframe tbody tr th:only-of-type {\n",
       "        vertical-align: middle;\n",
       "    }\n",
       "\n",
       "    .dataframe tbody tr th {\n",
       "        vertical-align: top;\n",
       "    }\n",
       "\n",
       "    .dataframe thead th {\n",
       "        text-align: right;\n",
       "    }\n",
       "</style>\n",
       "<table border=\"1\" class=\"dataframe\">\n",
       "  <thead>\n",
       "    <tr style=\"text-align: right;\">\n",
       "      <th></th>\n",
       "      <th>price</th>\n",
       "      <th>order_date</th>\n",
       "      <th>due_date</th>\n",
       "      <th>opt_date</th>\n",
       "      <th>delivery_date</th>\n",
       "      <th>cidade_origem_id</th>\n",
       "      <th>regiao_origem_id</th>\n",
       "      <th>cidade_destino_id</th>\n",
       "      <th>regiao_destino_id</th>\n",
       "      <th>peso</th>\n",
       "      <th>post_time</th>\n",
       "      <th>elapsed_time</th>\n",
       "    </tr>\n",
       "    <tr>\n",
       "      <th>id</th>\n",
       "      <th></th>\n",
       "      <th></th>\n",
       "      <th></th>\n",
       "      <th></th>\n",
       "      <th></th>\n",
       "      <th></th>\n",
       "      <th></th>\n",
       "      <th></th>\n",
       "      <th></th>\n",
       "      <th></th>\n",
       "      <th></th>\n",
       "      <th></th>\n",
       "    </tr>\n",
       "  </thead>\n",
       "  <tbody>\n",
       "    <tr>\n",
       "      <th>0</th>\n",
       "      <td>107.78</td>\n",
       "      <td>1645832785</td>\n",
       "      <td>1646168400</td>\n",
       "      <td>1646091320</td>\n",
       "      <td>1646255013</td>\n",
       "      <td>2</td>\n",
       "      <td>1</td>\n",
       "      <td>25</td>\n",
       "      <td>1</td>\n",
       "      <td>23.8</td>\n",
       "      <td>258535</td>\n",
       "      <td>163693</td>\n",
       "    </tr>\n",
       "    <tr>\n",
       "      <th>1</th>\n",
       "      <td>7.47</td>\n",
       "      <td>1645659299</td>\n",
       "      <td>1645650000</td>\n",
       "      <td>1645707383</td>\n",
       "      <td>1645728760</td>\n",
       "      <td>2</td>\n",
       "      <td>1</td>\n",
       "      <td>16</td>\n",
       "      <td>4</td>\n",
       "      <td>536.0</td>\n",
       "      <td>48084</td>\n",
       "      <td>21377</td>\n",
       "    </tr>\n",
       "    <tr>\n",
       "      <th>3</th>\n",
       "      <td>5.98</td>\n",
       "      <td>1644514477</td>\n",
       "      <td>1645045200</td>\n",
       "      <td>1645094869</td>\n",
       "      <td>1645118592</td>\n",
       "      <td>2</td>\n",
       "      <td>1</td>\n",
       "      <td>21</td>\n",
       "      <td>1</td>\n",
       "      <td>441.0</td>\n",
       "      <td>580392</td>\n",
       "      <td>23723</td>\n",
       "    </tr>\n",
       "  </tbody>\n",
       "</table>\n",
       "</div>"
      ],
      "text/plain": [
       "     price  order_date    due_date    opt_date  delivery_date  \\\n",
       "id                                                              \n",
       "0   107.78  1645832785  1646168400  1646091320     1646255013   \n",
       "1     7.47  1645659299  1645650000  1645707383     1645728760   \n",
       "3     5.98  1644514477  1645045200  1645094869     1645118592   \n",
       "\n",
       "    cidade_origem_id  regiao_origem_id  cidade_destino_id  regiao_destino_id  \\\n",
       "id                                                                             \n",
       "0                  2                 1                 25                  1   \n",
       "1                  2                 1                 16                  4   \n",
       "3                  2                 1                 21                  1   \n",
       "\n",
       "     peso  post_time  elapsed_time  \n",
       "id                                  \n",
       "0    23.8     258535        163693  \n",
       "1   536.0      48084         21377  \n",
       "3   441.0     580392         23723  "
      ]
     },
     "execution_count": 13,
     "metadata": {},
     "output_type": "execute_result"
    }
   ],
   "source": [
    "df.head(3)\n"
   ]
  },
  {
   "cell_type": "markdown",
   "metadata": {},
   "source": [
    "Criação da coluna \"outcome\" (resultado da entrega. 1 = correta, 0 = atraso)"
   ]
  },
  {
   "cell_type": "code",
   "execution_count": 14,
   "metadata": {},
   "outputs": [
    {
     "name": "stderr",
     "output_type": "stream",
     "text": [
      "/tmp/ipykernel_22743/1026693437.py:2: SettingWithCopyWarning: \n",
      "A value is trying to be set on a copy of a slice from a DataFrame\n",
      "\n",
      "See the caveats in the documentation: https://pandas.pydata.org/pandas-docs/stable/user_guide/indexing.html#returning-a-view-versus-a-copy\n",
      "  df['outcome'].iloc[df['due_date'] <= df['delivery_date']] = 1\n"
     ]
    }
   ],
   "source": [
    "df['outcome'] = 0\n",
    "df['outcome'].iloc[df['due_date'] <= df['delivery_date']] = 1\n"
   ]
  },
  {
   "cell_type": "code",
   "execution_count": 15,
   "metadata": {},
   "outputs": [
    {
     "data": {
      "text/plain": [
       "1    1289\n",
       "0     482\n",
       "Name: outcome, dtype: int64"
      ]
     },
     "execution_count": 15,
     "metadata": {},
     "output_type": "execute_result"
    }
   ],
   "source": [
    "df['outcome'].value_counts()"
   ]
  },
  {
   "cell_type": "code",
   "execution_count": 16,
   "metadata": {},
   "outputs": [
    {
     "data": {
      "text/html": [
       "<div>\n",
       "<style scoped>\n",
       "    .dataframe tbody tr th:only-of-type {\n",
       "        vertical-align: middle;\n",
       "    }\n",
       "\n",
       "    .dataframe tbody tr th {\n",
       "        vertical-align: top;\n",
       "    }\n",
       "\n",
       "    .dataframe thead th {\n",
       "        text-align: right;\n",
       "    }\n",
       "</style>\n",
       "<table border=\"1\" class=\"dataframe\">\n",
       "  <thead>\n",
       "    <tr style=\"text-align: right;\">\n",
       "      <th></th>\n",
       "      <th>price</th>\n",
       "      <th>order_date</th>\n",
       "      <th>due_date</th>\n",
       "      <th>opt_date</th>\n",
       "      <th>delivery_date</th>\n",
       "      <th>cidade_origem_id</th>\n",
       "      <th>regiao_origem_id</th>\n",
       "      <th>cidade_destino_id</th>\n",
       "      <th>regiao_destino_id</th>\n",
       "      <th>peso</th>\n",
       "      <th>post_time</th>\n",
       "      <th>elapsed_time</th>\n",
       "      <th>outcome</th>\n",
       "    </tr>\n",
       "    <tr>\n",
       "      <th>id</th>\n",
       "      <th></th>\n",
       "      <th></th>\n",
       "      <th></th>\n",
       "      <th></th>\n",
       "      <th></th>\n",
       "      <th></th>\n",
       "      <th></th>\n",
       "      <th></th>\n",
       "      <th></th>\n",
       "      <th></th>\n",
       "      <th></th>\n",
       "      <th></th>\n",
       "      <th></th>\n",
       "    </tr>\n",
       "  </thead>\n",
       "  <tbody>\n",
       "    <tr>\n",
       "      <th>0</th>\n",
       "      <td>107.78</td>\n",
       "      <td>1645832785</td>\n",
       "      <td>1646168400</td>\n",
       "      <td>1646091320</td>\n",
       "      <td>1646255013</td>\n",
       "      <td>2</td>\n",
       "      <td>1</td>\n",
       "      <td>25</td>\n",
       "      <td>1</td>\n",
       "      <td>23.8</td>\n",
       "      <td>258535</td>\n",
       "      <td>163693</td>\n",
       "      <td>1</td>\n",
       "    </tr>\n",
       "    <tr>\n",
       "      <th>1</th>\n",
       "      <td>7.47</td>\n",
       "      <td>1645659299</td>\n",
       "      <td>1645650000</td>\n",
       "      <td>1645707383</td>\n",
       "      <td>1645728760</td>\n",
       "      <td>2</td>\n",
       "      <td>1</td>\n",
       "      <td>16</td>\n",
       "      <td>4</td>\n",
       "      <td>536.0</td>\n",
       "      <td>48084</td>\n",
       "      <td>21377</td>\n",
       "      <td>1</td>\n",
       "    </tr>\n",
       "    <tr>\n",
       "      <th>3</th>\n",
       "      <td>5.98</td>\n",
       "      <td>1644514477</td>\n",
       "      <td>1645045200</td>\n",
       "      <td>1645094869</td>\n",
       "      <td>1645118592</td>\n",
       "      <td>2</td>\n",
       "      <td>1</td>\n",
       "      <td>21</td>\n",
       "      <td>1</td>\n",
       "      <td>441.0</td>\n",
       "      <td>580392</td>\n",
       "      <td>23723</td>\n",
       "      <td>1</td>\n",
       "    </tr>\n",
       "  </tbody>\n",
       "</table>\n",
       "</div>"
      ],
      "text/plain": [
       "     price  order_date    due_date    opt_date  delivery_date  \\\n",
       "id                                                              \n",
       "0   107.78  1645832785  1646168400  1646091320     1646255013   \n",
       "1     7.47  1645659299  1645650000  1645707383     1645728760   \n",
       "3     5.98  1644514477  1645045200  1645094869     1645118592   \n",
       "\n",
       "    cidade_origem_id  regiao_origem_id  cidade_destino_id  regiao_destino_id  \\\n",
       "id                                                                             \n",
       "0                  2                 1                 25                  1   \n",
       "1                  2                 1                 16                  4   \n",
       "3                  2                 1                 21                  1   \n",
       "\n",
       "     peso  post_time  elapsed_time  outcome  \n",
       "id                                           \n",
       "0    23.8     258535        163693        1  \n",
       "1   536.0      48084         21377        1  \n",
       "3   441.0     580392         23723        1  "
      ]
     },
     "execution_count": 16,
     "metadata": {},
     "output_type": "execute_result"
    }
   ],
   "source": [
    "df.head(3)"
   ]
  },
  {
   "cell_type": "markdown",
   "metadata": {},
   "source": [
    "Conversão da tipagem de todas as variáveis categóricas para o tipo \"category\""
   ]
  },
  {
   "cell_type": "code",
   "execution_count": 17,
   "metadata": {},
   "outputs": [],
   "source": [
    "df[\"cidade_origem_id\"] = df[\"cidade_origem_id\"].astype(\"category\")\n",
    "df[\"regiao_origem_id\"] = df[\"regiao_origem_id\"].astype(\"category\")\n",
    "df[\"cidade_destino_id\"] = df[\"cidade_destino_id\"].astype(\"category\")\n",
    "df[\"regiao_destino_id\"] = df[\"regiao_destino_id\"].astype(\"category\")\n"
   ]
  },
  {
   "cell_type": "code",
   "execution_count": 18,
   "metadata": {},
   "outputs": [
    {
     "data": {
      "text/plain": [
       "price                 float64\n",
       "order_date              int64\n",
       "due_date                int64\n",
       "opt_date                int64\n",
       "delivery_date           int64\n",
       "cidade_origem_id     category\n",
       "regiao_origem_id     category\n",
       "cidade_destino_id    category\n",
       "regiao_destino_id    category\n",
       "peso                  float64\n",
       "post_time               int64\n",
       "elapsed_time            int64\n",
       "outcome                 int64\n",
       "dtype: object"
      ]
     },
     "execution_count": 18,
     "metadata": {},
     "output_type": "execute_result"
    }
   ],
   "source": [
    "df.dtypes"
   ]
  },
  {
   "cell_type": "markdown",
   "metadata": {},
   "source": [
    "Plot de frequência de entregues atrasados ou não (indica que os dados precisam ser balanceados)"
   ]
  },
  {
   "cell_type": "code",
   "execution_count": 19,
   "metadata": {},
   "outputs": [
    {
     "data": {
      "text/plain": [
       "<AxesSubplot:ylabel='Frequency'>"
      ]
     },
     "execution_count": 19,
     "metadata": {},
     "output_type": "execute_result"
    },
    {
     "data": {
      "image/png": "[encoded data removed]",
      "text/plain": [
       "<Figure size 432x288 with 1 Axes>"
      ]
     },
     "metadata": {
      "needs_background": "light"
     },
     "output_type": "display_data"
    }
   ],
   "source": [
    "df['outcome'].plot.hist(bins=2)\n"
   ]
  },
  {
   "cell_type": "markdown",
   "metadata": {},
   "source": [
    "Plot do gráfico de correlação entre variáveis preditoras (indica que algumas variáveis são extremamente correlacionadas)"
   ]
  },
  {
   "cell_type": "code",
   "execution_count": 20,
   "metadata": {},
   "outputs": [
    {
     "data": {
      "text/plain": [
       "<AxesSubplot:>"
      ]
     },
     "execution_count": 20,
     "metadata": {},
     "output_type": "execute_result"
    },
    {
     "data": {
      "image/png": "[encoded data removed]",
      "text/plain": [
       "<Figure size 432x360 with 2 Axes>"
      ]
     },
     "metadata": {
      "needs_background": "light"
     },
     "output_type": "display_data"
    }
   ],
   "source": [
    "corr = df.corr()\n",
    "\n",
    "plt.subplots(figsize=(6, 5))\n",
    "sns.heatmap(corr, cmap='YlGnBu', annot=True, fmt=\".1f\",\n",
    "            linecolor=\"black\", linewidths=\"0.1\", )\n"
   ]
  },
  {
   "cell_type": "markdown",
   "metadata": {},
   "source": [
    "VIF (Verifica a significancia estatística das colunas. Maior ou igual a 5 indica menor significância)"
   ]
  },
  {
   "cell_type": "code",
   "execution_count": 21,
   "metadata": {},
   "outputs": [
    {
     "name": "stderr",
     "output_type": "stream",
     "text": [
      "/home/felipe/dev/predicao-falha-entrega-logistica/venv/lib/python3.8/site-packages/statsmodels/stats/outliers_influence.py:195: RuntimeWarning: divide by zero encountered in double_scalars\n",
      "  vif = 1. / (1. - r_squared_i)\n"
     ]
    },
    {
     "data": {
      "text/html": [
       "<div>\n",
       "<style scoped>\n",
       "    .dataframe tbody tr th:only-of-type {\n",
       "        vertical-align: middle;\n",
       "    }\n",
       "\n",
       "    .dataframe tbody tr th {\n",
       "        vertical-align: top;\n",
       "    }\n",
       "\n",
       "    .dataframe thead th {\n",
       "        text-align: right;\n",
       "    }\n",
       "</style>\n",
       "<table border=\"1\" class=\"dataframe\">\n",
       "  <thead>\n",
       "    <tr style=\"text-align: right;\">\n",
       "      <th></th>\n",
       "      <th>feature</th>\n",
       "      <th>VIF</th>\n",
       "    </tr>\n",
       "  </thead>\n",
       "  <tbody>\n",
       "    <tr>\n",
       "      <th>0</th>\n",
       "      <td>price</td>\n",
       "      <td>1.138052</td>\n",
       "    </tr>\n",
       "    <tr>\n",
       "      <th>1</th>\n",
       "      <td>order_date</td>\n",
       "      <td>inf</td>\n",
       "    </tr>\n",
       "    <tr>\n",
       "      <th>2</th>\n",
       "      <td>due_date</td>\n",
       "      <td>21.882778</td>\n",
       "    </tr>\n",
       "    <tr>\n",
       "      <th>3</th>\n",
       "      <td>opt_date</td>\n",
       "      <td>inf</td>\n",
       "    </tr>\n",
       "    <tr>\n",
       "      <th>4</th>\n",
       "      <td>delivery_date</td>\n",
       "      <td>inf</td>\n",
       "    </tr>\n",
       "    <tr>\n",
       "      <th>5</th>\n",
       "      <td>cidade_origem_id</td>\n",
       "      <td>9.559544</td>\n",
       "    </tr>\n",
       "    <tr>\n",
       "      <th>6</th>\n",
       "      <td>regiao_origem_id</td>\n",
       "      <td>11.650471</td>\n",
       "    </tr>\n",
       "    <tr>\n",
       "      <th>7</th>\n",
       "      <td>cidade_destino_id</td>\n",
       "      <td>1.179918</td>\n",
       "    </tr>\n",
       "    <tr>\n",
       "      <th>8</th>\n",
       "      <td>regiao_destino_id</td>\n",
       "      <td>1.133480</td>\n",
       "    </tr>\n",
       "    <tr>\n",
       "      <th>9</th>\n",
       "      <td>peso</td>\n",
       "      <td>1.054842</td>\n",
       "    </tr>\n",
       "    <tr>\n",
       "      <th>10</th>\n",
       "      <td>post_time</td>\n",
       "      <td>inf</td>\n",
       "    </tr>\n",
       "    <tr>\n",
       "      <th>11</th>\n",
       "      <td>elapsed_time</td>\n",
       "      <td>inf</td>\n",
       "    </tr>\n",
       "    <tr>\n",
       "      <th>12</th>\n",
       "      <td>outcome</td>\n",
       "      <td>1.714656</td>\n",
       "    </tr>\n",
       "  </tbody>\n",
       "</table>\n",
       "</div>"
      ],
      "text/plain": [
       "              feature        VIF\n",
       "0               price   1.138052\n",
       "1          order_date        inf\n",
       "2            due_date  21.882778\n",
       "3            opt_date        inf\n",
       "4       delivery_date        inf\n",
       "5    cidade_origem_id   9.559544\n",
       "6    regiao_origem_id  11.650471\n",
       "7   cidade_destino_id   1.179918\n",
       "8   regiao_destino_id   1.133480\n",
       "9                peso   1.054842\n",
       "10          post_time        inf\n",
       "11       elapsed_time        inf\n",
       "12            outcome   1.714656"
      ]
     },
     "execution_count": 21,
     "metadata": {},
     "output_type": "execute_result"
    }
   ],
   "source": [
    "vif_data = pd.DataFrame()\n",
    "vif_data[\"feature\"] = df.columns\n",
    "\n",
    "# calculating VIF for each feature\n",
    "vif_data[\"VIF\"] = [variance_inflation_factor(df.values, i)\n",
    "                   for i in range(len(df.columns))]\n",
    "\n",
    "vif_data"
   ]
  },
  {
   "cell_type": "markdown",
   "metadata": {},
   "source": [
    "Eliminação de variáveis altamente correlacionadas"
   ]
  },
  {
   "cell_type": "code",
   "execution_count": 22,
   "metadata": {},
   "outputs": [],
   "source": [
    "df.drop(columns=['order_date', 'due_date', 'opt_date', 'delivery_date', 'regiao_origem_id',\n",
    "        'regiao_destino_id'], inplace=True)\n"
   ]
  },
  {
   "cell_type": "code",
   "execution_count": 23,
   "metadata": {},
   "outputs": [
    {
     "data": {
      "text/plain": [
       "<AxesSubplot:>"
      ]
     },
     "execution_count": 23,
     "metadata": {},
     "output_type": "execute_result"
    },
    {
     "data": {
      "image/png": "[encoded data removed]",
      "text/plain": [
       "<Figure size 432x360 with 2 Axes>"
      ]
     },
     "metadata": {
      "needs_background": "light"
     },
     "output_type": "display_data"
    }
   ],
   "source": [
    "corr = df.corr()\n",
    "\n",
    "plt.subplots(figsize=(6, 5))\n",
    "sns.heatmap(corr, cmap='YlGnBu', annot=True, fmt=\".1f\",\n",
    "            linecolor=\"black\", linewidths=\"0.1\", )\n"
   ]
  },
  {
   "cell_type": "markdown",
   "metadata": {},
   "source": [
    "Significância estatistica do modelo revisada e corrigida"
   ]
  },
  {
   "cell_type": "code",
   "execution_count": 24,
   "metadata": {},
   "outputs": [
    {
     "data": {
      "text/html": [
       "<div>\n",
       "<style scoped>\n",
       "    .dataframe tbody tr th:only-of-type {\n",
       "        vertical-align: middle;\n",
       "    }\n",
       "\n",
       "    .dataframe tbody tr th {\n",
       "        vertical-align: top;\n",
       "    }\n",
       "\n",
       "    .dataframe thead th {\n",
       "        text-align: right;\n",
       "    }\n",
       "</style>\n",
       "<table border=\"1\" class=\"dataframe\">\n",
       "  <thead>\n",
       "    <tr style=\"text-align: right;\">\n",
       "      <th></th>\n",
       "      <th>feature</th>\n",
       "      <th>VIF</th>\n",
       "    </tr>\n",
       "  </thead>\n",
       "  <tbody>\n",
       "    <tr>\n",
       "      <th>0</th>\n",
       "      <td>price</td>\n",
       "      <td>1.450139</td>\n",
       "    </tr>\n",
       "    <tr>\n",
       "      <th>1</th>\n",
       "      <td>cidade_origem_id</td>\n",
       "      <td>3.316187</td>\n",
       "    </tr>\n",
       "    <tr>\n",
       "      <th>2</th>\n",
       "      <td>cidade_destino_id</td>\n",
       "      <td>2.073115</td>\n",
       "    </tr>\n",
       "    <tr>\n",
       "      <th>3</th>\n",
       "      <td>peso</td>\n",
       "      <td>1.092959</td>\n",
       "    </tr>\n",
       "    <tr>\n",
       "      <th>4</th>\n",
       "      <td>post_time</td>\n",
       "      <td>2.210673</td>\n",
       "    </tr>\n",
       "    <tr>\n",
       "      <th>5</th>\n",
       "      <td>elapsed_time</td>\n",
       "      <td>1.390803</td>\n",
       "    </tr>\n",
       "    <tr>\n",
       "      <th>6</th>\n",
       "      <td>outcome</td>\n",
       "      <td>3.157553</td>\n",
       "    </tr>\n",
       "  </tbody>\n",
       "</table>\n",
       "</div>"
      ],
      "text/plain": [
       "             feature       VIF\n",
       "0              price  1.450139\n",
       "1   cidade_origem_id  3.316187\n",
       "2  cidade_destino_id  2.073115\n",
       "3               peso  1.092959\n",
       "4          post_time  2.210673\n",
       "5       elapsed_time  1.390803\n",
       "6            outcome  3.157553"
      ]
     },
     "execution_count": 24,
     "metadata": {},
     "output_type": "execute_result"
    }
   ],
   "source": [
    "vif_data = pd.DataFrame()\n",
    "vif_data[\"feature\"] = df.columns\n",
    "\n",
    "# calculating VIF for each feature\n",
    "vif_data[\"VIF\"] = [variance_inflation_factor(df.values, i)\n",
    "                   for i in range(len(df.columns))]\n",
    "\n",
    "vif_data\n"
   ]
  },
  {
   "cell_type": "markdown",
   "metadata": {},
   "source": [
    "## Preprocessor"
   ]
  },
  {
   "cell_type": "markdown",
   "metadata": {},
   "source": [
    "Dummyficação de variáveis categóricas"
   ]
  },
  {
   "cell_type": "code",
   "execution_count": 25,
   "metadata": {},
   "outputs": [],
   "source": [
    "dummy_df = pd.get_dummies(df[['cidade_origem_id',\n",
    "                          'cidade_destino_id']], drop_first=True)\n",
    "df = df.join(dummy_df)\n",
    "df.drop(columns=['cidade_origem_id', 'cidade_destino_id'], inplace=True)\n"
   ]
  },
  {
   "cell_type": "code",
   "execution_count": 26,
   "metadata": {},
   "outputs": [
    {
     "data": {
      "text/html": [
       "<div>\n",
       "<style scoped>\n",
       "    .dataframe tbody tr th:only-of-type {\n",
       "        vertical-align: middle;\n",
       "    }\n",
       "\n",
       "    .dataframe tbody tr th {\n",
       "        vertical-align: top;\n",
       "    }\n",
       "\n",
       "    .dataframe thead th {\n",
       "        text-align: right;\n",
       "    }\n",
       "</style>\n",
       "<table border=\"1\" class=\"dataframe\">\n",
       "  <thead>\n",
       "    <tr style=\"text-align: right;\">\n",
       "      <th></th>\n",
       "      <th>price</th>\n",
       "      <th>peso</th>\n",
       "      <th>post_time</th>\n",
       "      <th>elapsed_time</th>\n",
       "      <th>outcome</th>\n",
       "      <th>cidade_origem_id_2</th>\n",
       "      <th>cidade_origem_id_3</th>\n",
       "      <th>cidade_origem_id_4</th>\n",
       "      <th>cidade_origem_id_5</th>\n",
       "      <th>cidade_destino_id_2</th>\n",
       "      <th>...</th>\n",
       "      <th>cidade_destino_id_118</th>\n",
       "      <th>cidade_destino_id_119</th>\n",
       "      <th>cidade_destino_id_120</th>\n",
       "      <th>cidade_destino_id_121</th>\n",
       "      <th>cidade_destino_id_122</th>\n",
       "      <th>cidade_destino_id_123</th>\n",
       "      <th>cidade_destino_id_124</th>\n",
       "      <th>cidade_destino_id_125</th>\n",
       "      <th>cidade_destino_id_126</th>\n",
       "      <th>cidade_destino_id_127</th>\n",
       "    </tr>\n",
       "    <tr>\n",
       "      <th>id</th>\n",
       "      <th></th>\n",
       "      <th></th>\n",
       "      <th></th>\n",
       "      <th></th>\n",
       "      <th></th>\n",
       "      <th></th>\n",
       "      <th></th>\n",
       "      <th></th>\n",
       "      <th></th>\n",
       "      <th></th>\n",
       "      <th></th>\n",
       "      <th></th>\n",
       "      <th></th>\n",
       "      <th></th>\n",
       "      <th></th>\n",
       "      <th></th>\n",
       "      <th></th>\n",
       "      <th></th>\n",
       "      <th></th>\n",
       "      <th></th>\n",
       "      <th></th>\n",
       "    </tr>\n",
       "  </thead>\n",
       "  <tbody>\n",
       "    <tr>\n",
       "      <th>0</th>\n",
       "      <td>107.78</td>\n",
       "      <td>23.80</td>\n",
       "      <td>258535</td>\n",
       "      <td>163693</td>\n",
       "      <td>1</td>\n",
       "      <td>1</td>\n",
       "      <td>0</td>\n",
       "      <td>0</td>\n",
       "      <td>0</td>\n",
       "      <td>0</td>\n",
       "      <td>...</td>\n",
       "      <td>0</td>\n",
       "      <td>0</td>\n",
       "      <td>0</td>\n",
       "      <td>0</td>\n",
       "      <td>0</td>\n",
       "      <td>0</td>\n",
       "      <td>0</td>\n",
       "      <td>0</td>\n",
       "      <td>0</td>\n",
       "      <td>0</td>\n",
       "    </tr>\n",
       "    <tr>\n",
       "      <th>1</th>\n",
       "      <td>7.47</td>\n",
       "      <td>536.00</td>\n",
       "      <td>48084</td>\n",
       "      <td>21377</td>\n",
       "      <td>1</td>\n",
       "      <td>1</td>\n",
       "      <td>0</td>\n",
       "      <td>0</td>\n",
       "      <td>0</td>\n",
       "      <td>0</td>\n",
       "      <td>...</td>\n",
       "      <td>0</td>\n",
       "      <td>0</td>\n",
       "      <td>0</td>\n",
       "      <td>0</td>\n",
       "      <td>0</td>\n",
       "      <td>0</td>\n",
       "      <td>0</td>\n",
       "      <td>0</td>\n",
       "      <td>0</td>\n",
       "      <td>0</td>\n",
       "    </tr>\n",
       "    <tr>\n",
       "      <th>3</th>\n",
       "      <td>5.98</td>\n",
       "      <td>441.00</td>\n",
       "      <td>580392</td>\n",
       "      <td>23723</td>\n",
       "      <td>1</td>\n",
       "      <td>1</td>\n",
       "      <td>0</td>\n",
       "      <td>0</td>\n",
       "      <td>0</td>\n",
       "      <td>0</td>\n",
       "      <td>...</td>\n",
       "      <td>0</td>\n",
       "      <td>0</td>\n",
       "      <td>0</td>\n",
       "      <td>0</td>\n",
       "      <td>0</td>\n",
       "      <td>0</td>\n",
       "      <td>0</td>\n",
       "      <td>0</td>\n",
       "      <td>0</td>\n",
       "      <td>0</td>\n",
       "    </tr>\n",
       "    <tr>\n",
       "      <th>5</th>\n",
       "      <td>5.37</td>\n",
       "      <td>0.73</td>\n",
       "      <td>39753</td>\n",
       "      <td>21553</td>\n",
       "      <td>0</td>\n",
       "      <td>1</td>\n",
       "      <td>0</td>\n",
       "      <td>0</td>\n",
       "      <td>0</td>\n",
       "      <td>0</td>\n",
       "      <td>...</td>\n",
       "      <td>0</td>\n",
       "      <td>0</td>\n",
       "      <td>0</td>\n",
       "      <td>0</td>\n",
       "      <td>0</td>\n",
       "      <td>0</td>\n",
       "      <td>0</td>\n",
       "      <td>0</td>\n",
       "      <td>0</td>\n",
       "      <td>0</td>\n",
       "    </tr>\n",
       "    <tr>\n",
       "      <th>6</th>\n",
       "      <td>7.47</td>\n",
       "      <td>875.00</td>\n",
       "      <td>45465</td>\n",
       "      <td>26751</td>\n",
       "      <td>1</td>\n",
       "      <td>1</td>\n",
       "      <td>0</td>\n",
       "      <td>0</td>\n",
       "      <td>0</td>\n",
       "      <td>0</td>\n",
       "      <td>...</td>\n",
       "      <td>0</td>\n",
       "      <td>0</td>\n",
       "      <td>0</td>\n",
       "      <td>0</td>\n",
       "      <td>0</td>\n",
       "      <td>0</td>\n",
       "      <td>0</td>\n",
       "      <td>0</td>\n",
       "      <td>0</td>\n",
       "      <td>0</td>\n",
       "    </tr>\n",
       "  </tbody>\n",
       "</table>\n",
       "<p>5 rows × 132 columns</p>\n",
       "</div>"
      ],
      "text/plain": [
       "     price    peso  post_time  elapsed_time  outcome  cidade_origem_id_2  \\\n",
       "id                                                                         \n",
       "0   107.78   23.80     258535        163693        1                   1   \n",
       "1     7.47  536.00      48084         21377        1                   1   \n",
       "3     5.98  441.00     580392         23723        1                   1   \n",
       "5     5.37    0.73      39753         21553        0                   1   \n",
       "6     7.47  875.00      45465         26751        1                   1   \n",
       "\n",
       "    cidade_origem_id_3  cidade_origem_id_4  cidade_origem_id_5  \\\n",
       "id                                                               \n",
       "0                    0                   0                   0   \n",
       "1                    0                   0                   0   \n",
       "3                    0                   0                   0   \n",
       "5                    0                   0                   0   \n",
       "6                    0                   0                   0   \n",
       "\n",
       "    cidade_destino_id_2  ...  cidade_destino_id_118  cidade_destino_id_119  \\\n",
       "id                       ...                                                 \n",
       "0                     0  ...                      0                      0   \n",
       "1                     0  ...                      0                      0   \n",
       "3                     0  ...                      0                      0   \n",
       "5                     0  ...                      0                      0   \n",
       "6                     0  ...                      0                      0   \n",
       "\n",
       "    cidade_destino_id_120  cidade_destino_id_121  cidade_destino_id_122  \\\n",
       "id                                                                        \n",
       "0                       0                      0                      0   \n",
       "1                       0                      0                      0   \n",
       "3                       0                      0                      0   \n",
       "5                       0                      0                      0   \n",
       "6                       0                      0                      0   \n",
       "\n",
       "    cidade_destino_id_123  cidade_destino_id_124  cidade_destino_id_125  \\\n",
       "id                                                                        \n",
       "0                       0                      0                      0   \n",
       "1                       0                      0                      0   \n",
       "3                       0                      0                      0   \n",
       "5                       0                      0                      0   \n",
       "6                       0                      0                      0   \n",
       "\n",
       "    cidade_destino_id_126  cidade_destino_id_127  \n",
       "id                                                \n",
       "0                       0                      0  \n",
       "1                       0                      0  \n",
       "3                       0                      0  \n",
       "5                       0                      0  \n",
       "6                       0                      0  \n",
       "\n",
       "[5 rows x 132 columns]"
      ]
     },
     "execution_count": 26,
     "metadata": {},
     "output_type": "execute_result"
    }
   ],
   "source": [
    "df.head()"
   ]
  },
  {
   "cell_type": "markdown",
   "metadata": {},
   "source": [
    "Divisão do dataset em treino, validação e teste"
   ]
  },
  {
   "cell_type": "code",
   "execution_count": 27,
   "metadata": {},
   "outputs": [],
   "source": [
    "X = df.drop(['outcome'], axis=1)\n",
    "y = df['outcome']\n",
    "\n",
    "X_train, X_test, y_train, y_test = train_test_split(\n",
    "    X, y, test_size=0.2, random_state=42)\n",
    "\n",
    "X_train = pd.DataFrame(X_train, columns=X_train.columns)\n",
    "y_train = pd.Series(y_train)\n",
    "\n",
    "X_train, X_val, y_train, y_val = train_test_split(\n",
    "    X_train, y_train, test_size=0.25, random_state=42)  # 0.25 x\n"
   ]
  },
  {
   "cell_type": "markdown",
   "metadata": {},
   "source": [
    "Tratamento dos dados por dataset dividido (eliminação da possibilidade de vazamento de dados). Tratamentos:\n",
    "\n",
    "1. Balanceamento de dados\n",
    "2. Normalização de dados"
   ]
  },
  {
   "cell_type": "code",
   "execution_count": 28,
   "metadata": {},
   "outputs": [],
   "source": [
    "def trataDados(df_dados, target):\n",
    "    # Balanceamento dos dados\n",
    "    sm = SMOTE(sampling_strategy='minority', random_state=7)\n",
    "    df_dados, target = sm.fit_resample(df_dados, target)\n",
    "\n",
    "    # Normalização dos dados\n",
    "    df_dados[['price', 'peso', 'post_time', 'elapsed_time']] = RobustScaler(\n",
    "    ).fit_transform(df_dados[['price', 'peso', 'post_time', 'elapsed_time']]).copy()\n",
    "\n",
    "    return df_dados, target\n",
    "\n",
    "\n",
    "X_train, y_train = trataDados(X_train, y_train)\n",
    "X_val, y_val = trataDados(X_val, y_val)\n",
    "X_test, y_test = trataDados(X_test, y_test)\n"
   ]
  },
  {
   "cell_type": "code",
   "execution_count": 29,
   "metadata": {},
   "outputs": [
    {
     "data": {
      "text/html": [
       "<div>\n",
       "<style scoped>\n",
       "    .dataframe tbody tr th:only-of-type {\n",
       "        vertical-align: middle;\n",
       "    }\n",
       "\n",
       "    .dataframe tbody tr th {\n",
       "        vertical-align: top;\n",
       "    }\n",
       "\n",
       "    .dataframe thead th {\n",
       "        text-align: right;\n",
       "    }\n",
       "</style>\n",
       "<table border=\"1\" class=\"dataframe\">\n",
       "  <thead>\n",
       "    <tr style=\"text-align: right;\">\n",
       "      <th></th>\n",
       "      <th>price</th>\n",
       "      <th>peso</th>\n",
       "      <th>post_time</th>\n",
       "      <th>elapsed_time</th>\n",
       "      <th>cidade_origem_id_2</th>\n",
       "      <th>cidade_origem_id_3</th>\n",
       "      <th>cidade_origem_id_4</th>\n",
       "      <th>cidade_origem_id_5</th>\n",
       "      <th>cidade_destino_id_2</th>\n",
       "      <th>cidade_destino_id_3</th>\n",
       "      <th>...</th>\n",
       "      <th>cidade_destino_id_118</th>\n",
       "      <th>cidade_destino_id_119</th>\n",
       "      <th>cidade_destino_id_120</th>\n",
       "      <th>cidade_destino_id_121</th>\n",
       "      <th>cidade_destino_id_122</th>\n",
       "      <th>cidade_destino_id_123</th>\n",
       "      <th>cidade_destino_id_124</th>\n",
       "      <th>cidade_destino_id_125</th>\n",
       "      <th>cidade_destino_id_126</th>\n",
       "      <th>cidade_destino_id_127</th>\n",
       "    </tr>\n",
       "  </thead>\n",
       "  <tbody>\n",
       "    <tr>\n",
       "      <th>0</th>\n",
       "      <td>-0.569863</td>\n",
       "      <td>0.782973</td>\n",
       "      <td>-0.342289</td>\n",
       "      <td>0.461180</td>\n",
       "      <td>0</td>\n",
       "      <td>0</td>\n",
       "      <td>1</td>\n",
       "      <td>0</td>\n",
       "      <td>0</td>\n",
       "      <td>0</td>\n",
       "      <td>...</td>\n",
       "      <td>0</td>\n",
       "      <td>0</td>\n",
       "      <td>0</td>\n",
       "      <td>0</td>\n",
       "      <td>0</td>\n",
       "      <td>0</td>\n",
       "      <td>0</td>\n",
       "      <td>0</td>\n",
       "      <td>0</td>\n",
       "      <td>0</td>\n",
       "    </tr>\n",
       "    <tr>\n",
       "      <th>1</th>\n",
       "      <td>-0.328252</td>\n",
       "      <td>-0.034274</td>\n",
       "      <td>-0.019289</td>\n",
       "      <td>-2.166061</td>\n",
       "      <td>0</td>\n",
       "      <td>0</td>\n",
       "      <td>1</td>\n",
       "      <td>0</td>\n",
       "      <td>0</td>\n",
       "      <td>0</td>\n",
       "      <td>...</td>\n",
       "      <td>0</td>\n",
       "      <td>0</td>\n",
       "      <td>0</td>\n",
       "      <td>0</td>\n",
       "      <td>0</td>\n",
       "      <td>0</td>\n",
       "      <td>0</td>\n",
       "      <td>0</td>\n",
       "      <td>0</td>\n",
       "      <td>0</td>\n",
       "    </tr>\n",
       "    <tr>\n",
       "      <th>2</th>\n",
       "      <td>-0.328252</td>\n",
       "      <td>0.714604</td>\n",
       "      <td>-0.072544</td>\n",
       "      <td>-1.696779</td>\n",
       "      <td>0</td>\n",
       "      <td>0</td>\n",
       "      <td>1</td>\n",
       "      <td>0</td>\n",
       "      <td>0</td>\n",
       "      <td>0</td>\n",
       "      <td>...</td>\n",
       "      <td>0</td>\n",
       "      <td>0</td>\n",
       "      <td>0</td>\n",
       "      <td>0</td>\n",
       "      <td>0</td>\n",
       "      <td>0</td>\n",
       "      <td>0</td>\n",
       "      <td>0</td>\n",
       "      <td>0</td>\n",
       "      <td>0</td>\n",
       "    </tr>\n",
       "    <tr>\n",
       "      <th>3</th>\n",
       "      <td>-0.569863</td>\n",
       "      <td>0.806754</td>\n",
       "      <td>0.304329</td>\n",
       "      <td>-0.294888</td>\n",
       "      <td>0</td>\n",
       "      <td>0</td>\n",
       "      <td>1</td>\n",
       "      <td>0</td>\n",
       "      <td>1</td>\n",
       "      <td>0</td>\n",
       "      <td>...</td>\n",
       "      <td>0</td>\n",
       "      <td>0</td>\n",
       "      <td>0</td>\n",
       "      <td>0</td>\n",
       "      <td>0</td>\n",
       "      <td>0</td>\n",
       "      <td>0</td>\n",
       "      <td>0</td>\n",
       "      <td>0</td>\n",
       "      <td>0</td>\n",
       "    </tr>\n",
       "    <tr>\n",
       "      <th>4</th>\n",
       "      <td>-0.328252</td>\n",
       "      <td>-0.033798</td>\n",
       "      <td>2.204596</td>\n",
       "      <td>-1.321676</td>\n",
       "      <td>0</td>\n",
       "      <td>0</td>\n",
       "      <td>1</td>\n",
       "      <td>0</td>\n",
       "      <td>0</td>\n",
       "      <td>0</td>\n",
       "      <td>...</td>\n",
       "      <td>0</td>\n",
       "      <td>0</td>\n",
       "      <td>0</td>\n",
       "      <td>0</td>\n",
       "      <td>0</td>\n",
       "      <td>0</td>\n",
       "      <td>0</td>\n",
       "      <td>0</td>\n",
       "      <td>0</td>\n",
       "      <td>0</td>\n",
       "    </tr>\n",
       "  </tbody>\n",
       "</table>\n",
       "<p>5 rows × 131 columns</p>\n",
       "</div>"
      ],
      "text/plain": [
       "      price      peso  post_time  elapsed_time  cidade_origem_id_2  \\\n",
       "0 -0.569863  0.782973  -0.342289      0.461180                   0   \n",
       "1 -0.328252 -0.034274  -0.019289     -2.166061                   0   \n",
       "2 -0.328252  0.714604  -0.072544     -1.696779                   0   \n",
       "3 -0.569863  0.806754   0.304329     -0.294888                   0   \n",
       "4 -0.328252 -0.033798   2.204596     -1.321676                   0   \n",
       "\n",
       "   cidade_origem_id_3  cidade_origem_id_4  cidade_origem_id_5  \\\n",
       "0                   0                   1                   0   \n",
       "1                   0                   1                   0   \n",
       "2                   0                   1                   0   \n",
       "3                   0                   1                   0   \n",
       "4                   0                   1                   0   \n",
       "\n",
       "   cidade_destino_id_2  cidade_destino_id_3  ...  cidade_destino_id_118  \\\n",
       "0                    0                    0  ...                      0   \n",
       "1                    0                    0  ...                      0   \n",
       "2                    0                    0  ...                      0   \n",
       "3                    1                    0  ...                      0   \n",
       "4                    0                    0  ...                      0   \n",
       "\n",
       "   cidade_destino_id_119  cidade_destino_id_120  cidade_destino_id_121  \\\n",
       "0                      0                      0                      0   \n",
       "1                      0                      0                      0   \n",
       "2                      0                      0                      0   \n",
       "3                      0                      0                      0   \n",
       "4                      0                      0                      0   \n",
       "\n",
       "   cidade_destino_id_122  cidade_destino_id_123  cidade_destino_id_124  \\\n",
       "0                      0                      0                      0   \n",
       "1                      0                      0                      0   \n",
       "2                      0                      0                      0   \n",
       "3                      0                      0                      0   \n",
       "4                      0                      0                      0   \n",
       "\n",
       "   cidade_destino_id_125  cidade_destino_id_126  cidade_destino_id_127  \n",
       "0                      0                      0                      0  \n",
       "1                      0                      0                      0  \n",
       "2                      0                      0                      0  \n",
       "3                      0                      0                      0  \n",
       "4                      0                      0                      0  \n",
       "\n",
       "[5 rows x 131 columns]"
      ]
     },
     "execution_count": 29,
     "metadata": {},
     "output_type": "execute_result"
    }
   ],
   "source": [
    "X_train.head()\n"
   ]
  },
  {
   "cell_type": "markdown",
   "metadata": {},
   "source": [
    "## AutoML (testes)"
   ]
  },
  {
   "cell_type": "code",
   "execution_count": 30,
   "metadata": {},
   "outputs": [],
   "source": [
    "automl = autosklearn.classification.AutoSklearnClassifier(\n",
    "    time_left_for_this_task=100,\n",
    "    per_run_time_limit=20)\n"
   ]
  },
  {
   "cell_type": "code",
   "execution_count": 31,
   "metadata": {},
   "outputs": [
    {
     "name": "stderr",
     "output_type": "stream",
     "text": [
      "/home/felipe/dev/predicao-falha-entrega-logistica/venv/lib/python3.8/site-packages/autosklearn/metalearning/metalearning/meta_base.py:68: FutureWarning: The frame.append method is deprecated and will be removed from pandas in a future version. Use pandas.concat instead.\n",
      "  self.metafeatures = self.metafeatures.append(metafeatures)\n",
      "/home/felipe/dev/predicao-falha-entrega-logistica/venv/lib/python3.8/site-packages/autosklearn/metalearning/metalearning/meta_base.py:72: FutureWarning: The frame.append method is deprecated and will be removed from pandas in a future version. Use pandas.concat instead.\n",
      "  self.algorithm_runs[metric].append(runs)\n"
     ]
    },
    {
     "data": {
      "text/html": [
       "<style>#sk-container-id-1 {color: black;background-color: white;}#sk-container-id-1 pre{padding: 0;}#sk-container-id-1 div.sk-toggleable {background-color: white;}#sk-container-id-1 label.sk-toggleable__label {cursor: pointer;display: block;width: 100%;margin-bottom: 0;padding: 0.3em;box-sizing: border-box;text-align: center;}#sk-container-id-1 label.sk-toggleable__label-arrow:before {content: \"▸\";float: left;margin-right: 0.25em;color: #696969;}#sk-container-id-1 label.sk-toggleable__label-arrow:hover:before {color: black;}#sk-container-id-1 div.sk-estimator:hover label.sk-toggleable__label-arrow:before {color: black;}#sk-container-id-1 div.sk-toggleable__content {max-height: 0;max-width: 0;overflow: hidden;text-align: left;background-color: #f0f8ff;}#sk-container-id-1 div.sk-toggleable__content pre {margin: 0.2em;color: black;border-radius: 0.25em;background-color: #f0f8ff;}#sk-container-id-1 input.sk-toggleable__control:checked~div.sk-toggleable__content {max-height: 200px;max-width: 100%;overflow: auto;}#sk-container-id-1 input.sk-toggleable__control:checked~label.sk-toggleable__label-arrow:before {content: \"▾\";}#sk-container-id-1 div.sk-estimator input.sk-toggleable__control:checked~label.sk-toggleable__label {background-color: #d4ebff;}#sk-container-id-1 div.sk-label input.sk-toggleable__control:checked~label.sk-toggleable__label {background-color: #d4ebff;}#sk-container-id-1 input.sk-hidden--visually {border: 0;clip: rect(1px 1px 1px 1px);clip: rect(1px, 1px, 1px, 1px);height: 1px;margin: -1px;overflow: hidden;padding: 0;position: absolute;width: 1px;}#sk-container-id-1 div.sk-estimator {font-family: monospace;background-color: #f0f8ff;border: 1px dotted black;border-radius: 0.25em;box-sizing: border-box;margin-bottom: 0.5em;}#sk-container-id-1 div.sk-estimator:hover {background-color: #d4ebff;}#sk-container-id-1 div.sk-parallel-item::after {content: \"\";width: 100%;border-bottom: 1px solid gray;flex-grow: 1;}#sk-container-id-1 div.sk-label:hover label.sk-toggleable__label {background-color: #d4ebff;}#sk-container-id-1 div.sk-serial::before {content: \"\";position: absolute;border-left: 1px solid gray;box-sizing: border-box;top: 0;bottom: 0;left: 50%;z-index: 0;}#sk-container-id-1 div.sk-serial {display: flex;flex-direction: column;align-items: center;background-color: white;padding-right: 0.2em;padding-left: 0.2em;position: relative;}#sk-container-id-1 div.sk-item {position: relative;z-index: 1;}#sk-container-id-1 div.sk-parallel {display: flex;align-items: stretch;justify-content: center;background-color: white;position: relative;}#sk-container-id-1 div.sk-item::before, #sk-container-id-1 div.sk-parallel-item::before {content: \"\";position: absolute;border-left: 1px solid gray;box-sizing: border-box;top: 0;bottom: 0;left: 50%;z-index: -1;}#sk-container-id-1 div.sk-parallel-item {display: flex;flex-direction: column;z-index: 1;position: relative;background-color: white;}#sk-container-id-1 div.sk-parallel-item:first-child::after {align-self: flex-end;width: 50%;}#sk-container-id-1 div.sk-parallel-item:last-child::after {align-self: flex-start;width: 50%;}#sk-container-id-1 div.sk-parallel-item:only-child::after {width: 0;}#sk-container-id-1 div.sk-dashed-wrapped {border: 1px dashed gray;margin: 0 0.4em 0.5em 0.4em;box-sizing: border-box;padding-bottom: 0.4em;background-color: white;}#sk-container-id-1 div.sk-label label {font-family: monospace;font-weight: bold;display: inline-block;line-height: 1.2em;}#sk-container-id-1 div.sk-label-container {text-align: center;}#sk-container-id-1 div.sk-container {/* jupyter's `normalize.less` sets `[hidden] { display: none; }` but bootstrap.min.css set `[hidden] { display: none !important; }` so we also need the `!important` here to be able to override the default hidden behavior on the sphinx rendered scikit-learn.org. See: https://github.com/scikit-learn/scikit-learn/issues/21755 */display: inline-block !important;position: relative;}#sk-container-id-1 div.sk-text-repr-fallback {display: none;}</style><div id=\"sk-container-id-1\" class=\"sk-top-container\"><div class=\"sk-text-repr-fallback\"><pre>AutoSklearnClassifier(per_run_time_limit=20, time_left_for_this_task=100)</pre><b>In a Jupyter environment, please rerun this cell to show the HTML representation or trust the notebook. <br />On GitHub, the HTML representation is unable to render, please try loading this page with nbviewer.org.</b></div><div class=\"sk-container\" hidden><div class=\"sk-item\"><div class=\"sk-estimator sk-toggleable\"><input class=\"sk-toggleable__control sk-hidden--visually\" id=\"sk-estimator-id-1\" type=\"checkbox\" checked><label for=\"sk-estimator-id-1\" class=\"sk-toggleable__label sk-toggleable__label-arrow\">AutoSklearnClassifier</label><div class=\"sk-toggleable__content\"><pre>AutoSklearnClassifier(per_run_time_limit=20, time_left_for_this_task=100)</pre></div></div></div></div></div>"
      ],
      "text/plain": [
       "AutoSklearnClassifier(per_run_time_limit=20, time_left_for_this_task=100)"
      ]
     },
     "execution_count": 31,
     "metadata": {},
     "output_type": "execute_result"
    }
   ],
   "source": [
    "automl.fit(X_train, y_train)\n"
   ]
  },
  {
   "cell_type": "code",
   "execution_count": 32,
   "metadata": {},
   "outputs": [
    {
     "name": "stdout",
     "output_type": "stream",
     "text": [
      "F1 Score: 88.2%\n",
      "Accuracy Score: 88.22%\n",
      "Precision Score: 84.86%\n",
      "Recall Score: 93.05%\n"
     ]
    },
    {
     "name": "stderr",
     "output_type": "stream",
     "text": [
      "/home/felipe/dev/predicao-falha-entrega-logistica/venv/lib/python3.8/site-packages/sklearn/utils/deprecation.py:87: FutureWarning: Function plot_confusion_matrix is deprecated; Function `plot_confusion_matrix` is deprecated in 1.0 and will be removed in 1.2. Use one of the class methods: ConfusionMatrixDisplay.from_predictions or ConfusionMatrixDisplay.from_estimator.\n",
      "  warnings.warn(msg, category=FutureWarning)\n"
     ]
    },
    {
     "data": {
      "image/png": "[encoded data removed]",
      "text/plain": [
       "<Figure size 432x288 with 2 Axes>"
      ]
     },
     "metadata": {
      "needs_background": "light"
     },
     "output_type": "display_data"
    }
   ],
   "source": [
    "predictAutoML = automl.predict(X_val)\n",
    "\n",
    "f1 = round(f1_score(y_val, predictAutoML, average='macro')*100, 2)\n",
    "accuracy = round(accuracy_score(y_val, predictAutoML)*100, 2)\n",
    "precision = round(precision_score(y_val, predictAutoML)*100, 2)\n",
    "recall = round(recall_score(y_val, predictAutoML)*100, 2)\n",
    "\n",
    "print(f\"F1 Score: {f1}%\")\n",
    "print(f\"Accuracy Score: {accuracy}%\")\n",
    "print(f\"Precision Score: {precision}%\")\n",
    "print(f\"Recall Score: {recall}%\")\n",
    "\n",
    "plot_confusion_matrix(automl, X_val, y_val, display_labels=[\n",
    "                      \"positive\", \"negative\"], values_format=\"d\")\n",
    "plt.grid(False)\n",
    "plt.show()\n"
   ]
  },
  {
   "cell_type": "code",
   "execution_count": 33,
   "metadata": {},
   "outputs": [
    {
     "name": "stdout",
     "output_type": "stream",
     "text": [
      "F1 Score: 89.66%\n",
      "Accuracy Score: 89.68%\n",
      "Precision Score: 86.5%\n",
      "Recall Score: 94.05%\n"
     ]
    },
    {
     "name": "stderr",
     "output_type": "stream",
     "text": [
      "/home/felipe/dev/predicao-falha-entrega-logistica/venv/lib/python3.8/site-packages/sklearn/utils/deprecation.py:87: FutureWarning: Function plot_confusion_matrix is deprecated; Function `plot_confusion_matrix` is deprecated in 1.0 and will be removed in 1.2. Use one of the class methods: ConfusionMatrixDisplay.from_predictions or ConfusionMatrixDisplay.from_estimator.\n",
      "  warnings.warn(msg, category=FutureWarning)\n"
     ]
    },
    {
     "data": {
      "image/png": "[encoded data removed]",
      "text/plain": [
       "<Figure size 432x288 with 2 Axes>"
      ]
     },
     "metadata": {
      "needs_background": "light"
     },
     "output_type": "display_data"
    }
   ],
   "source": [
    "predictAutoML = automl.predict(X_test)\n",
    "\n",
    "f1 = round(f1_score(y_test, predictAutoML, average='macro')*100, 2)\n",
    "accuracy = round(accuracy_score(y_test, predictAutoML)*100, 2)\n",
    "precision = round(precision_score(y_test, predictAutoML)*100, 2)\n",
    "recall = round(recall_score(y_test, predictAutoML)*100, 2)\n",
    "\n",
    "print(f\"F1 Score: {f1}%\")\n",
    "print(f\"Accuracy Score: {accuracy}%\")\n",
    "print(f\"Precision Score: {precision}%\")\n",
    "print(f\"Recall Score: {recall}%\")\n",
    "\n",
    "plot_confusion_matrix(automl, X_test, y_test, display_labels=[\n",
    "                      \"positive\", \"negative\"], values_format=\"d\")\n",
    "plt.grid(False)\n",
    "plt.show()\n",
    "\n",
    "plt.show()\n"
   ]
  },
  {
   "cell_type": "code",
   "execution_count": 34,
   "metadata": {},
   "outputs": [
    {
     "data": {
      "text/html": [
       "<div>\n",
       "<style scoped>\n",
       "    .dataframe tbody tr th:only-of-type {\n",
       "        vertical-align: middle;\n",
       "    }\n",
       "\n",
       "    .dataframe tbody tr th {\n",
       "        vertical-align: top;\n",
       "    }\n",
       "\n",
       "    .dataframe thead th {\n",
       "        text-align: right;\n",
       "    }\n",
       "</style>\n",
       "<table border=\"1\" class=\"dataframe\">\n",
       "  <thead>\n",
       "    <tr style=\"text-align: right;\">\n",
       "      <th></th>\n",
       "      <th>model_id</th>\n",
       "      <th>rank</th>\n",
       "      <th>cost</th>\n",
       "      <th>ensemble_weight</th>\n",
       "      <th>data_preprocessor</th>\n",
       "      <th>balancing</th>\n",
       "      <th>feature_preprocessor</th>\n",
       "      <th>classifier</th>\n",
       "      <th>sklearn_classifier</th>\n",
       "    </tr>\n",
       "  </thead>\n",
       "  <tbody>\n",
       "    <tr>\n",
       "      <th>17</th>\n",
       "      <td>17</td>\n",
       "      <td>1</td>\n",
       "      <td>0.095331</td>\n",
       "      <td>0.08</td>\n",
       "      <td>&lt;autosklearn.pipeline.components.data_preproce...</td>\n",
       "      <td>autosklearn.pipeline Balancing Imbalanced Clas...</td>\n",
       "      <td>&lt;autosklearn.pipeline.components.feature_prepr...</td>\n",
       "      <td>&lt;autosklearn.pipeline.components.classificatio...</td>\n",
       "      <td>HistGradientBoostingClassifier(early_stopping=...</td>\n",
       "    </tr>\n",
       "    <tr>\n",
       "      <th>16</th>\n",
       "      <td>16</td>\n",
       "      <td>2</td>\n",
       "      <td>0.099222</td>\n",
       "      <td>0.18</td>\n",
       "      <td>&lt;autosklearn.pipeline.components.data_preproce...</td>\n",
       "      <td>autosklearn.pipeline Balancing Imbalanced Clas...</td>\n",
       "      <td>&lt;autosklearn.pipeline.components.feature_prepr...</td>\n",
       "      <td>&lt;autosklearn.pipeline.components.classificatio...</td>\n",
       "      <td>(ExtraTreeClassifier(max_features=9, min_sampl...</td>\n",
       "    </tr>\n",
       "    <tr>\n",
       "      <th>14</th>\n",
       "      <td>14</td>\n",
       "      <td>3</td>\n",
       "      <td>0.101167</td>\n",
       "      <td>0.04</td>\n",
       "      <td>&lt;autosklearn.pipeline.components.data_preproce...</td>\n",
       "      <td>autosklearn.pipeline Balancing Imbalanced Clas...</td>\n",
       "      <td>&lt;autosklearn.pipeline.components.feature_prepr...</td>\n",
       "      <td>&lt;autosklearn.pipeline.components.classificatio...</td>\n",
       "      <td>HistGradientBoostingClassifier(early_stopping=...</td>\n",
       "    </tr>\n",
       "    <tr>\n",
       "      <th>2</th>\n",
       "      <td>2</td>\n",
       "      <td>4</td>\n",
       "      <td>0.108949</td>\n",
       "      <td>0.08</td>\n",
       "      <td>&lt;autosklearn.pipeline.components.data_preproce...</td>\n",
       "      <td>autosklearn.pipeline Balancing Imbalanced Clas...</td>\n",
       "      <td>&lt;autosklearn.pipeline.components.feature_prepr...</td>\n",
       "      <td>&lt;autosklearn.pipeline.components.classificatio...</td>\n",
       "      <td>(DecisionTreeClassifier(max_features=10, rando...</td>\n",
       "    </tr>\n",
       "    <tr>\n",
       "      <th>11</th>\n",
       "      <td>11</td>\n",
       "      <td>5</td>\n",
       "      <td>0.108949</td>\n",
       "      <td>0.12</td>\n",
       "      <td>&lt;autosklearn.pipeline.components.data_preproce...</td>\n",
       "      <td>autosklearn.pipeline Balancing Imbalanced Clas...</td>\n",
       "      <td>&lt;autosklearn.pipeline.components.feature_prepr...</td>\n",
       "      <td>&lt;autosklearn.pipeline.components.classificatio...</td>\n",
       "      <td>(DecisionTreeClassifier(max_features=2, random...</td>\n",
       "    </tr>\n",
       "    <tr>\n",
       "      <th>3</th>\n",
       "      <td>3</td>\n",
       "      <td>6</td>\n",
       "      <td>0.118677</td>\n",
       "      <td>0.04</td>\n",
       "      <td>&lt;autosklearn.pipeline.components.data_preproce...</td>\n",
       "      <td>autosklearn.pipeline Balancing Imbalanced Clas...</td>\n",
       "      <td>&lt;autosklearn.pipeline.components.feature_prepr...</td>\n",
       "      <td>&lt;autosklearn.pipeline.components.classificatio...</td>\n",
       "      <td>(DecisionTreeClassifier(criterion='entropy', m...</td>\n",
       "    </tr>\n",
       "    <tr>\n",
       "      <th>4</th>\n",
       "      <td>4</td>\n",
       "      <td>7</td>\n",
       "      <td>0.120623</td>\n",
       "      <td>0.06</td>\n",
       "      <td>&lt;autosklearn.pipeline.components.data_preproce...</td>\n",
       "      <td>autosklearn.pipeline Balancing Imbalanced Clas...</td>\n",
       "      <td>&lt;autosklearn.pipeline.components.feature_prepr...</td>\n",
       "      <td>&lt;autosklearn.pipeline.components.classificatio...</td>\n",
       "      <td>KNeighborsClassifier(n_neighbors=6, p=1, weigh...</td>\n",
       "    </tr>\n",
       "    <tr>\n",
       "      <th>13</th>\n",
       "      <td>13</td>\n",
       "      <td>8</td>\n",
       "      <td>0.126459</td>\n",
       "      <td>0.12</td>\n",
       "      <td>&lt;autosklearn.pipeline.components.data_preproce...</td>\n",
       "      <td>autosklearn.pipeline Balancing Imbalanced Clas...</td>\n",
       "      <td>&lt;autosklearn.pipeline.components.feature_prepr...</td>\n",
       "      <td>&lt;autosklearn.pipeline.components.classificatio...</td>\n",
       "      <td>(DecisionTreeClassifier(max_features=2, min_sa...</td>\n",
       "    </tr>\n",
       "    <tr>\n",
       "      <th>15</th>\n",
       "      <td>15</td>\n",
       "      <td>9</td>\n",
       "      <td>0.126459</td>\n",
       "      <td>0.04</td>\n",
       "      <td>&lt;autosklearn.pipeline.components.data_preproce...</td>\n",
       "      <td>autosklearn.pipeline Balancing Imbalanced Clas...</td>\n",
       "      <td>&lt;autosklearn.pipeline.components.feature_prepr...</td>\n",
       "      <td>&lt;autosklearn.pipeline.components.classificatio...</td>\n",
       "      <td>HistGradientBoostingClassifier(early_stopping=...</td>\n",
       "    </tr>\n",
       "    <tr>\n",
       "      <th>6</th>\n",
       "      <td>6</td>\n",
       "      <td>10</td>\n",
       "      <td>0.167315</td>\n",
       "      <td>0.24</td>\n",
       "      <td>&lt;autosklearn.pipeline.components.data_preproce...</td>\n",
       "      <td>autosklearn.pipeline Balancing Imbalanced Clas...</td>\n",
       "      <td>&lt;autosklearn.pipeline.components.feature_prepr...</td>\n",
       "      <td>&lt;autosklearn.pipeline.components.classificatio...</td>\n",
       "      <td>(DecisionTreeClassifier(max_depth=2, random_st...</td>\n",
       "    </tr>\n",
       "  </tbody>\n",
       "</table>\n",
       "</div>"
      ],
      "text/plain": [
       "   model_id rank      cost ensemble_weight  \\\n",
       "17       17    1  0.095331            0.08   \n",
       "16       16    2  0.099222            0.18   \n",
       "14       14    3  0.101167            0.04   \n",
       "2         2    4  0.108949            0.08   \n",
       "11       11    5  0.108949            0.12   \n",
       "3         3    6  0.118677            0.04   \n",
       "4         4    7  0.120623            0.06   \n",
       "13       13    8  0.126459            0.12   \n",
       "15       15    9  0.126459            0.04   \n",
       "6         6   10  0.167315            0.24   \n",
       "\n",
       "                                    data_preprocessor  \\\n",
       "17  <autosklearn.pipeline.components.data_preproce...   \n",
       "16  <autosklearn.pipeline.components.data_preproce...   \n",
       "14  <autosklearn.pipeline.components.data_preproce...   \n",
       "2   <autosklearn.pipeline.components.data_preproce...   \n",
       "11  <autosklearn.pipeline.components.data_preproce...   \n",
       "3   <autosklearn.pipeline.components.data_preproce...   \n",
       "4   <autosklearn.pipeline.components.data_preproce...   \n",
       "13  <autosklearn.pipeline.components.data_preproce...   \n",
       "15  <autosklearn.pipeline.components.data_preproce...   \n",
       "6   <autosklearn.pipeline.components.data_preproce...   \n",
       "\n",
       "                                            balancing  \\\n",
       "17  autosklearn.pipeline Balancing Imbalanced Clas...   \n",
       "16  autosklearn.pipeline Balancing Imbalanced Clas...   \n",
       "14  autosklearn.pipeline Balancing Imbalanced Clas...   \n",
       "2   autosklearn.pipeline Balancing Imbalanced Clas...   \n",
       "11  autosklearn.pipeline Balancing Imbalanced Clas...   \n",
       "3   autosklearn.pipeline Balancing Imbalanced Clas...   \n",
       "4   autosklearn.pipeline Balancing Imbalanced Clas...   \n",
       "13  autosklearn.pipeline Balancing Imbalanced Clas...   \n",
       "15  autosklearn.pipeline Balancing Imbalanced Clas...   \n",
       "6   autosklearn.pipeline Balancing Imbalanced Clas...   \n",
       "\n",
       "                                 feature_preprocessor  \\\n",
       "17  <autosklearn.pipeline.components.feature_prepr...   \n",
       "16  <autosklearn.pipeline.components.feature_prepr...   \n",
       "14  <autosklearn.pipeline.components.feature_prepr...   \n",
       "2   <autosklearn.pipeline.components.feature_prepr...   \n",
       "11  <autosklearn.pipeline.components.feature_prepr...   \n",
       "3   <autosklearn.pipeline.components.feature_prepr...   \n",
       "4   <autosklearn.pipeline.components.feature_prepr...   \n",
       "13  <autosklearn.pipeline.components.feature_prepr...   \n",
       "15  <autosklearn.pipeline.components.feature_prepr...   \n",
       "6   <autosklearn.pipeline.components.feature_prepr...   \n",
       "\n",
       "                                           classifier  \\\n",
       "17  <autosklearn.pipeline.components.classificatio...   \n",
       "16  <autosklearn.pipeline.components.classificatio...   \n",
       "14  <autosklearn.pipeline.components.classificatio...   \n",
       "2   <autosklearn.pipeline.components.classificatio...   \n",
       "11  <autosklearn.pipeline.components.classificatio...   \n",
       "3   <autosklearn.pipeline.components.classificatio...   \n",
       "4   <autosklearn.pipeline.components.classificatio...   \n",
       "13  <autosklearn.pipeline.components.classificatio...   \n",
       "15  <autosklearn.pipeline.components.classificatio...   \n",
       "6   <autosklearn.pipeline.components.classificatio...   \n",
       "\n",
       "                                   sklearn_classifier  \n",
       "17  HistGradientBoostingClassifier(early_stopping=...  \n",
       "16  (ExtraTreeClassifier(max_features=9, min_sampl...  \n",
       "14  HistGradientBoostingClassifier(early_stopping=...  \n",
       "2   (DecisionTreeClassifier(max_features=10, rando...  \n",
       "11  (DecisionTreeClassifier(max_features=2, random...  \n",
       "3   (DecisionTreeClassifier(criterion='entropy', m...  \n",
       "4   KNeighborsClassifier(n_neighbors=6, p=1, weigh...  \n",
       "13  (DecisionTreeClassifier(max_features=2, min_sa...  \n",
       "15  HistGradientBoostingClassifier(early_stopping=...  \n",
       "6   (DecisionTreeClassifier(max_depth=2, random_st...  "
      ]
     },
     "execution_count": 34,
     "metadata": {},
     "output_type": "execute_result"
    }
   ],
   "source": [
    "pd.DataFrame(automl.show_models()).transpose()\n"
   ]
  },
  {
   "cell_type": "markdown",
   "metadata": {},
   "source": [
    "## Modeling"
   ]
  },
  {
   "cell_type": "markdown",
   "metadata": {},
   "source": [
    "### Decision Tree"
   ]
  },
  {
   "cell_type": "markdown",
   "metadata": {},
   "source": [
    "Treino"
   ]
  },
  {
   "cell_type": "code",
   "execution_count": 35,
   "metadata": {},
   "outputs": [
    {
     "data": {
      "text/html": [
       "<style>#sk-container-id-2 {color: black;background-color: white;}#sk-container-id-2 pre{padding: 0;}#sk-container-id-2 div.sk-toggleable {background-color: white;}#sk-container-id-2 label.sk-toggleable__label {cursor: pointer;display: block;width: 100%;margin-bottom: 0;padding: 0.3em;box-sizing: border-box;text-align: center;}#sk-container-id-2 label.sk-toggleable__label-arrow:before {content: \"▸\";float: left;margin-right: 0.25em;color: #696969;}#sk-container-id-2 label.sk-toggleable__label-arrow:hover:before {color: black;}#sk-container-id-2 div.sk-estimator:hover label.sk-toggleable__label-arrow:before {color: black;}#sk-container-id-2 div.sk-toggleable__content {max-height: 0;max-width: 0;overflow: hidden;text-align: left;background-color: #f0f8ff;}#sk-container-id-2 div.sk-toggleable__content pre {margin: 0.2em;color: black;border-radius: 0.25em;background-color: #f0f8ff;}#sk-container-id-2 input.sk-toggleable__control:checked~div.sk-toggleable__content {max-height: 200px;max-width: 100%;overflow: auto;}#sk-container-id-2 input.sk-toggleable__control:checked~label.sk-toggleable__label-arrow:before {content: \"▾\";}#sk-container-id-2 div.sk-estimator input.sk-toggleable__control:checked~label.sk-toggleable__label {background-color: #d4ebff;}#sk-container-id-2 div.sk-label input.sk-toggleable__control:checked~label.sk-toggleable__label {background-color: #d4ebff;}#sk-container-id-2 input.sk-hidden--visually {border: 0;clip: rect(1px 1px 1px 1px);clip: rect(1px, 1px, 1px, 1px);height: 1px;margin: -1px;overflow: hidden;padding: 0;position: absolute;width: 1px;}#sk-container-id-2 div.sk-estimator {font-family: monospace;background-color: #f0f8ff;border: 1px dotted black;border-radius: 0.25em;box-sizing: border-box;margin-bottom: 0.5em;}#sk-container-id-2 div.sk-estimator:hover {background-color: #d4ebff;}#sk-container-id-2 div.sk-parallel-item::after {content: \"\";width: 100%;border-bottom: 1px solid gray;flex-grow: 1;}#sk-container-id-2 div.sk-label:hover label.sk-toggleable__label {background-color: #d4ebff;}#sk-container-id-2 div.sk-serial::before {content: \"\";position: absolute;border-left: 1px solid gray;box-sizing: border-box;top: 0;bottom: 0;left: 50%;z-index: 0;}#sk-container-id-2 div.sk-serial {display: flex;flex-direction: column;align-items: center;background-color: white;padding-right: 0.2em;padding-left: 0.2em;position: relative;}#sk-container-id-2 div.sk-item {position: relative;z-index: 1;}#sk-container-id-2 div.sk-parallel {display: flex;align-items: stretch;justify-content: center;background-color: white;position: relative;}#sk-container-id-2 div.sk-item::before, #sk-container-id-2 div.sk-parallel-item::before {content: \"\";position: absolute;border-left: 1px solid gray;box-sizing: border-box;top: 0;bottom: 0;left: 50%;z-index: -1;}#sk-container-id-2 div.sk-parallel-item {display: flex;flex-direction: column;z-index: 1;position: relative;background-color: white;}#sk-container-id-2 div.sk-parallel-item:first-child::after {align-self: flex-end;width: 50%;}#sk-container-id-2 div.sk-parallel-item:last-child::after {align-self: flex-start;width: 50%;}#sk-container-id-2 div.sk-parallel-item:only-child::after {width: 0;}#sk-container-id-2 div.sk-dashed-wrapped {border: 1px dashed gray;margin: 0 0.4em 0.5em 0.4em;box-sizing: border-box;padding-bottom: 0.4em;background-color: white;}#sk-container-id-2 div.sk-label label {font-family: monospace;font-weight: bold;display: inline-block;line-height: 1.2em;}#sk-container-id-2 div.sk-label-container {text-align: center;}#sk-container-id-2 div.sk-container {/* jupyter's `normalize.less` sets `[hidden] { display: none; }` but bootstrap.min.css set `[hidden] { display: none !important; }` so we also need the `!important` here to be able to override the default hidden behavior on the sphinx rendered scikit-learn.org. See: https://github.com/scikit-learn/scikit-learn/issues/21755 */display: inline-block !important;position: relative;}#sk-container-id-2 div.sk-text-repr-fallback {display: none;}</style><div id=\"sk-container-id-2\" class=\"sk-top-container\"><div class=\"sk-text-repr-fallback\"><pre>DecisionTreeClassifier()</pre><b>In a Jupyter environment, please rerun this cell to show the HTML representation or trust the notebook. <br />On GitHub, the HTML representation is unable to render, please try loading this page with nbviewer.org.</b></div><div class=\"sk-container\" hidden><div class=\"sk-item\"><div class=\"sk-estimator sk-toggleable\"><input class=\"sk-toggleable__control sk-hidden--visually\" id=\"sk-estimator-id-2\" type=\"checkbox\" checked><label for=\"sk-estimator-id-2\" class=\"sk-toggleable__label sk-toggleable__label-arrow\">DecisionTreeClassifier</label><div class=\"sk-toggleable__content\"><pre>DecisionTreeClassifier()</pre></div></div></div></div></div>"
      ],
      "text/plain": [
       "DecisionTreeClassifier()"
      ]
     },
     "execution_count": 35,
     "metadata": {},
     "output_type": "execute_result"
    }
   ],
   "source": [
    "dtc_model = DecisionTreeClassifier()\n",
    "dtc_model.fit(X_train, y_train)\n"
   ]
  },
  {
   "cell_type": "markdown",
   "metadata": {},
   "source": [
    "Validação (tunning de hyperparâmetros)"
   ]
  },
  {
   "cell_type": "code",
   "execution_count": 36,
   "metadata": {},
   "outputs": [
    {
     "name": "stdout",
     "output_type": "stream",
     "text": [
      "F1 Score: 72.97%\n",
      "Accuracy Score: 72.97%\n",
      "Precision Score: 72.45%\n",
      "Recall Score: 74.13%\n"
     ]
    },
    {
     "name": "stderr",
     "output_type": "stream",
     "text": [
      "/home/felipe/dev/predicao-falha-entrega-logistica/venv/lib/python3.8/site-packages/sklearn/utils/deprecation.py:87: FutureWarning: Function plot_confusion_matrix is deprecated; Function `plot_confusion_matrix` is deprecated in 1.0 and will be removed in 1.2. Use one of the class methods: ConfusionMatrixDisplay.from_predictions or ConfusionMatrixDisplay.from_estimator.\n",
      "  warnings.warn(msg, category=FutureWarning)\n"
     ]
    },
    {
     "data": {
      "image/png": "[encoded data removed]",
      "text/plain": [
       "<Figure size 432x288 with 2 Axes>"
      ]
     },
     "metadata": {
      "needs_background": "light"
     },
     "output_type": "display_data"
    }
   ],
   "source": [
    "predict_DTC = dtc_model.predict(X_val)\n",
    "\n",
    "f1 = round(f1_score(y_val, predict_DTC, average='macro')*100, 2)\n",
    "accuracy = round(accuracy_score(y_val, predict_DTC)*100, 2)\n",
    "precision = round(precision_score(y_val, predict_DTC)*100, 2)\n",
    "recall = round(recall_score(y_val, predict_DTC)*100, 2)\n",
    "\n",
    "print(f\"F1 Score: {f1}%\")\n",
    "print(f\"Accuracy Score: {accuracy}%\")\n",
    "print(f\"Precision Score: {precision}%\")\n",
    "print(f\"Recall Score: {recall}%\")\n",
    "\n",
    "plot_confusion_matrix(dtc_model, X_val, y_val, display_labels=[\n",
    "                      \"normal\", \"churn\"], values_format=\"d\")\n",
    "plt.grid(False)\n",
    "plt.show()\n"
   ]
  },
  {
   "cell_type": "markdown",
   "metadata": {},
   "source": [
    "Teste"
   ]
  },
  {
   "cell_type": "code",
   "execution_count": 37,
   "metadata": {},
   "outputs": [
    {
     "name": "stdout",
     "output_type": "stream",
     "text": [
      "F1 Score: 72.97%\n",
      "Accuracy Score: 72.97%\n",
      "Precision Score: 72.45%\n",
      "Recall Score: 74.13%\n"
     ]
    },
    {
     "name": "stderr",
     "output_type": "stream",
     "text": [
      "/home/felipe/dev/predicao-falha-entrega-logistica/venv/lib/python3.8/site-packages/sklearn/utils/deprecation.py:87: FutureWarning: Function plot_confusion_matrix is deprecated; Function `plot_confusion_matrix` is deprecated in 1.0 and will be removed in 1.2. Use one of the class methods: ConfusionMatrixDisplay.from_predictions or ConfusionMatrixDisplay.from_estimator.\n",
      "  warnings.warn(msg, category=FutureWarning)\n"
     ]
    },
    {
     "data": {
      "image/png": "[encoded data removed]",
      "text/plain": [
       "<Figure size 432x288 with 2 Axes>"
      ]
     },
     "metadata": {
      "needs_background": "light"
     },
     "output_type": "display_data"
    }
   ],
   "source": [
    "predict_DTC = dtc_model.predict(X_val)\n",
    "\n",
    "f1 = round(f1_score(y_val, predict_DTC, average='macro')*100, 2)\n",
    "accuracy = round(accuracy_score(y_val, predict_DTC)*100, 2)\n",
    "precision = round(precision_score(y_val, predict_DTC)*100, 2)\n",
    "recall = round(recall_score(y_val, predict_DTC)*100, 2)\n",
    "\n",
    "print(f\"F1 Score: {f1}%\")\n",
    "print(f\"Accuracy Score: {accuracy}%\")\n",
    "print(f\"Precision Score: {precision}%\")\n",
    "print(f\"Recall Score: {recall}%\")\n",
    "\n",
    "plot_confusion_matrix(dtc_model, X_val, y_val, display_labels=[\n",
    "                      \"normal\", \"churn\"], values_format=\"d\")\n",
    "plt.grid(False)\n",
    "plt.show()\n"
   ]
  },
  {
   "cell_type": "markdown",
   "metadata": {},
   "source": [
    "### KNN"
   ]
  },
  {
   "cell_type": "markdown",
   "metadata": {},
   "source": [
    "Treino"
   ]
  },
  {
   "cell_type": "code",
   "execution_count": 38,
   "metadata": {},
   "outputs": [
    {
     "data": {
      "text/html": [
       "<style>#sk-container-id-3 {color: black;background-color: white;}#sk-container-id-3 pre{padding: 0;}#sk-container-id-3 div.sk-toggleable {background-color: white;}#sk-container-id-3 label.sk-toggleable__label {cursor: pointer;display: block;width: 100%;margin-bottom: 0;padding: 0.3em;box-sizing: border-box;text-align: center;}#sk-container-id-3 label.sk-toggleable__label-arrow:before {content: \"▸\";float: left;margin-right: 0.25em;color: #696969;}#sk-container-id-3 label.sk-toggleable__label-arrow:hover:before {color: black;}#sk-container-id-3 div.sk-estimator:hover label.sk-toggleable__label-arrow:before {color: black;}#sk-container-id-3 div.sk-toggleable__content {max-height: 0;max-width: 0;overflow: hidden;text-align: left;background-color: #f0f8ff;}#sk-container-id-3 div.sk-toggleable__content pre {margin: 0.2em;color: black;border-radius: 0.25em;background-color: #f0f8ff;}#sk-container-id-3 input.sk-toggleable__control:checked~div.sk-toggleable__content {max-height: 200px;max-width: 100%;overflow: auto;}#sk-container-id-3 input.sk-toggleable__control:checked~label.sk-toggleable__label-arrow:before {content: \"▾\";}#sk-container-id-3 div.sk-estimator input.sk-toggleable__control:checked~label.sk-toggleable__label {background-color: #d4ebff;}#sk-container-id-3 div.sk-label input.sk-toggleable__control:checked~label.sk-toggleable__label {background-color: #d4ebff;}#sk-container-id-3 input.sk-hidden--visually {border: 0;clip: rect(1px 1px 1px 1px);clip: rect(1px, 1px, 1px, 1px);height: 1px;margin: -1px;overflow: hidden;padding: 0;position: absolute;width: 1px;}#sk-container-id-3 div.sk-estimator {font-family: monospace;background-color: #f0f8ff;border: 1px dotted black;border-radius: 0.25em;box-sizing: border-box;margin-bottom: 0.5em;}#sk-container-id-3 div.sk-estimator:hover {background-color: #d4ebff;}#sk-container-id-3 div.sk-parallel-item::after {content: \"\";width: 100%;border-bottom: 1px solid gray;flex-grow: 1;}#sk-container-id-3 div.sk-label:hover label.sk-toggleable__label {background-color: #d4ebff;}#sk-container-id-3 div.sk-serial::before {content: \"\";position: absolute;border-left: 1px solid gray;box-sizing: border-box;top: 0;bottom: 0;left: 50%;z-index: 0;}#sk-container-id-3 div.sk-serial {display: flex;flex-direction: column;align-items: center;background-color: white;padding-right: 0.2em;padding-left: 0.2em;position: relative;}#sk-container-id-3 div.sk-item {position: relative;z-index: 1;}#sk-container-id-3 div.sk-parallel {display: flex;align-items: stretch;justify-content: center;background-color: white;position: relative;}#sk-container-id-3 div.sk-item::before, #sk-container-id-3 div.sk-parallel-item::before {content: \"\";position: absolute;border-left: 1px solid gray;box-sizing: border-box;top: 0;bottom: 0;left: 50%;z-index: -1;}#sk-container-id-3 div.sk-parallel-item {display: flex;flex-direction: column;z-index: 1;position: relative;background-color: white;}#sk-container-id-3 div.sk-parallel-item:first-child::after {align-self: flex-end;width: 50%;}#sk-container-id-3 div.sk-parallel-item:last-child::after {align-self: flex-start;width: 50%;}#sk-container-id-3 div.sk-parallel-item:only-child::after {width: 0;}#sk-container-id-3 div.sk-dashed-wrapped {border: 1px dashed gray;margin: 0 0.4em 0.5em 0.4em;box-sizing: border-box;padding-bottom: 0.4em;background-color: white;}#sk-container-id-3 div.sk-label label {font-family: monospace;font-weight: bold;display: inline-block;line-height: 1.2em;}#sk-container-id-3 div.sk-label-container {text-align: center;}#sk-container-id-3 div.sk-container {/* jupyter's `normalize.less` sets `[hidden] { display: none; }` but bootstrap.min.css set `[hidden] { display: none !important; }` so we also need the `!important` here to be able to override the default hidden behavior on the sphinx rendered scikit-learn.org. See: https://github.com/scikit-learn/scikit-learn/issues/21755 */display: inline-block !important;position: relative;}#sk-container-id-3 div.sk-text-repr-fallback {display: none;}</style><div id=\"sk-container-id-3\" class=\"sk-top-container\"><div class=\"sk-text-repr-fallback\"><pre>KNeighborsRegressor(n_neighbors=3)</pre><b>In a Jupyter environment, please rerun this cell to show the HTML representation or trust the notebook. <br />On GitHub, the HTML representation is unable to render, please try loading this page with nbviewer.org.</b></div><div class=\"sk-container\" hidden><div class=\"sk-item\"><div class=\"sk-estimator sk-toggleable\"><input class=\"sk-toggleable__control sk-hidden--visually\" id=\"sk-estimator-id-3\" type=\"checkbox\" checked><label for=\"sk-estimator-id-3\" class=\"sk-toggleable__label sk-toggleable__label-arrow\">KNeighborsRegressor</label><div class=\"sk-toggleable__content\"><pre>KNeighborsRegressor(n_neighbors=3)</pre></div></div></div></div></div>"
      ],
      "text/plain": [
       "KNeighborsRegressor(n_neighbors=3)"
      ]
     },
     "execution_count": 38,
     "metadata": {},
     "output_type": "execute_result"
    }
   ],
   "source": [
    "knn_model = KNeighborsRegressor(3)\n",
    "knn_model.fit(X_train, y_train)\n"
   ]
  },
  {
   "cell_type": "markdown",
   "metadata": {},
   "source": [
    "Validação (tunning de hyperparâmetros)"
   ]
  },
  {
   "cell_type": "code",
   "execution_count": 39,
   "metadata": {},
   "outputs": [
    {
     "data": {
      "text/plain": [
       "0.39244254867579537"
      ]
     },
     "execution_count": 39,
     "metadata": {},
     "output_type": "execute_result"
    }
   ],
   "source": [
    "predict_KNN = knn_model.predict(X_val)\n",
    "\n",
    "mse = mean_squared_error(y_val, predict_KNN)\n",
    "rmse = sqrt(mse)\n",
    "rmse\n"
   ]
  },
  {
   "cell_type": "markdown",
   "metadata": {},
   "source": [
    "Teste"
   ]
  },
  {
   "cell_type": "code",
   "execution_count": 40,
   "metadata": {},
   "outputs": [
    {
     "data": {
      "text/plain": [
       "0.3782559998346817"
      ]
     },
     "execution_count": 40,
     "metadata": {},
     "output_type": "execute_result"
    }
   ],
   "source": [
    "predict_KNN = knn_model.predict(X_test)\n",
    "\n",
    "mse = mean_squared_error(y_test, predict_KNN)\n",
    "rmse = sqrt(mse)\n",
    "rmse\n"
   ]
  },
  {
   "cell_type": "markdown",
   "metadata": {},
   "source": [
    "### Multilayer Perceptron"
   ]
  },
  {
   "cell_type": "markdown",
   "metadata": {},
   "source": [
    "Treino"
   ]
  },
  {
   "cell_type": "code",
   "execution_count": 41,
   "metadata": {},
   "outputs": [
    {
     "name": "stdout",
     "output_type": "stream",
     "text": [
      "Iteration 1, loss = 0.75771269\n",
      "Iteration 2, loss = 0.67588543\n",
      "Iteration 3, loss = 0.60287458\n",
      "Iteration 4, loss = 0.53664665\n",
      "Iteration 5, loss = 0.47057948\n",
      "Iteration 6, loss = 0.40545076\n",
      "Iteration 7, loss = 0.35195863\n",
      "Iteration 8, loss = 0.30754393\n",
      "Iteration 9, loss = 0.28170686\n",
      "Iteration 10, loss = 0.25035579\n",
      "Iteration 11, loss = 0.24763504\n",
      "Iteration 12, loss = 0.22808614\n",
      "Iteration 13, loss = 0.21720737\n",
      "Iteration 14, loss = 0.20721826\n",
      "Iteration 15, loss = 0.21108323\n",
      "Iteration 16, loss = 0.20633333\n",
      "Iteration 17, loss = 0.18845556\n",
      "Iteration 18, loss = 0.17577592\n",
      "Iteration 19, loss = 0.17270838\n",
      "Iteration 20, loss = 0.16970795\n",
      "Iteration 21, loss = 0.16612093\n",
      "Iteration 22, loss = 0.15877663\n",
      "Iteration 23, loss = 0.16084029\n",
      "Iteration 24, loss = 0.15610471\n",
      "Iteration 25, loss = 0.15721441\n",
      "Iteration 26, loss = 0.15512610\n",
      "Iteration 27, loss = 0.14963125\n",
      "Iteration 28, loss = 0.14998582\n",
      "Iteration 29, loss = 0.15185115\n",
      "Iteration 30, loss = 0.15042941\n",
      "Iteration 31, loss = 0.14398790\n",
      "Iteration 32, loss = 0.14142867\n",
      "Iteration 33, loss = 0.13863923\n",
      "Iteration 34, loss = 0.13683606\n",
      "Iteration 35, loss = 0.13924047\n",
      "Iteration 36, loss = 0.13581247\n",
      "Iteration 37, loss = 0.13943724\n",
      "Iteration 38, loss = 0.13593373\n",
      "Iteration 39, loss = 0.16308046\n",
      "Iteration 40, loss = 0.15634295\n",
      "Iteration 41, loss = 0.16009653\n",
      "Iteration 42, loss = 0.15758089\n",
      "Iteration 43, loss = 0.15922423\n",
      "Iteration 44, loss = 0.14526257\n",
      "Iteration 45, loss = 0.14294282\n",
      "Iteration 46, loss = 0.13400771\n",
      "Iteration 47, loss = 0.13441416\n",
      "Iteration 48, loss = 0.13216651\n",
      "Iteration 49, loss = 0.13144719\n",
      "Iteration 50, loss = 0.13061452\n",
      "Iteration 51, loss = 0.13550133\n",
      "Iteration 52, loss = 0.12442781\n",
      "Iteration 53, loss = 0.13078429\n",
      "Iteration 54, loss = 0.13151276\n",
      "Iteration 55, loss = 0.12820432\n",
      "Iteration 56, loss = 0.12675104\n",
      "Iteration 57, loss = 0.12499604\n",
      "Iteration 58, loss = 0.12614080\n",
      "Iteration 59, loss = 0.12504044\n",
      "Iteration 60, loss = 0.12750387\n",
      "Iteration 61, loss = 0.12625546\n",
      "Iteration 62, loss = 0.12774462\n",
      "Iteration 63, loss = 0.12686046\n",
      "Training loss did not improve more than tol=0.000100 for 10 consecutive epochs. Stopping.\n"
     ]
    },
    {
     "data": {
      "text/html": [
       "<style>#sk-container-id-4 {color: black;background-color: white;}#sk-container-id-4 pre{padding: 0;}#sk-container-id-4 div.sk-toggleable {background-color: white;}#sk-container-id-4 label.sk-toggleable__label {cursor: pointer;display: block;width: 100%;margin-bottom: 0;padding: 0.3em;box-sizing: border-box;text-align: center;}#sk-container-id-4 label.sk-toggleable__label-arrow:before {content: \"▸\";float: left;margin-right: 0.25em;color: #696969;}#sk-container-id-4 label.sk-toggleable__label-arrow:hover:before {color: black;}#sk-container-id-4 div.sk-estimator:hover label.sk-toggleable__label-arrow:before {color: black;}#sk-container-id-4 div.sk-toggleable__content {max-height: 0;max-width: 0;overflow: hidden;text-align: left;background-color: #f0f8ff;}#sk-container-id-4 div.sk-toggleable__content pre {margin: 0.2em;color: black;border-radius: 0.25em;background-color: #f0f8ff;}#sk-container-id-4 input.sk-toggleable__control:checked~div.sk-toggleable__content {max-height: 200px;max-width: 100%;overflow: auto;}#sk-container-id-4 input.sk-toggleable__control:checked~label.sk-toggleable__label-arrow:before {content: \"▾\";}#sk-container-id-4 div.sk-estimator input.sk-toggleable__control:checked~label.sk-toggleable__label {background-color: #d4ebff;}#sk-container-id-4 div.sk-label input.sk-toggleable__control:checked~label.sk-toggleable__label {background-color: #d4ebff;}#sk-container-id-4 input.sk-hidden--visually {border: 0;clip: rect(1px 1px 1px 1px);clip: rect(1px, 1px, 1px, 1px);height: 1px;margin: -1px;overflow: hidden;padding: 0;position: absolute;width: 1px;}#sk-container-id-4 div.sk-estimator {font-family: monospace;background-color: #f0f8ff;border: 1px dotted black;border-radius: 0.25em;box-sizing: border-box;margin-bottom: 0.5em;}#sk-container-id-4 div.sk-estimator:hover {background-color: #d4ebff;}#sk-container-id-4 div.sk-parallel-item::after {content: \"\";width: 100%;border-bottom: 1px solid gray;flex-grow: 1;}#sk-container-id-4 div.sk-label:hover label.sk-toggleable__label {background-color: #d4ebff;}#sk-container-id-4 div.sk-serial::before {content: \"\";position: absolute;border-left: 1px solid gray;box-sizing: border-box;top: 0;bottom: 0;left: 50%;z-index: 0;}#sk-container-id-4 div.sk-serial {display: flex;flex-direction: column;align-items: center;background-color: white;padding-right: 0.2em;padding-left: 0.2em;position: relative;}#sk-container-id-4 div.sk-item {position: relative;z-index: 1;}#sk-container-id-4 div.sk-parallel {display: flex;align-items: stretch;justify-content: center;background-color: white;position: relative;}#sk-container-id-4 div.sk-item::before, #sk-container-id-4 div.sk-parallel-item::before {content: \"\";position: absolute;border-left: 1px solid gray;box-sizing: border-box;top: 0;bottom: 0;left: 50%;z-index: -1;}#sk-container-id-4 div.sk-parallel-item {display: flex;flex-direction: column;z-index: 1;position: relative;background-color: white;}#sk-container-id-4 div.sk-parallel-item:first-child::after {align-self: flex-end;width: 50%;}#sk-container-id-4 div.sk-parallel-item:last-child::after {align-self: flex-start;width: 50%;}#sk-container-id-4 div.sk-parallel-item:only-child::after {width: 0;}#sk-container-id-4 div.sk-dashed-wrapped {border: 1px dashed gray;margin: 0 0.4em 0.5em 0.4em;box-sizing: border-box;padding-bottom: 0.4em;background-color: white;}#sk-container-id-4 div.sk-label label {font-family: monospace;font-weight: bold;display: inline-block;line-height: 1.2em;}#sk-container-id-4 div.sk-label-container {text-align: center;}#sk-container-id-4 div.sk-container {/* jupyter's `normalize.less` sets `[hidden] { display: none; }` but bootstrap.min.css set `[hidden] { display: none !important; }` so we also need the `!important` here to be able to override the default hidden behavior on the sphinx rendered scikit-learn.org. See: https://github.com/scikit-learn/scikit-learn/issues/21755 */display: inline-block !important;position: relative;}#sk-container-id-4 div.sk-text-repr-fallback {display: none;}</style><div id=\"sk-container-id-4\" class=\"sk-top-container\"><div class=\"sk-text-repr-fallback\"><pre>MLPClassifier(hidden_layer_sizes=(6, 5), learning_rate_init=0.01,\n",
       "              random_state=5, verbose=True)</pre><b>In a Jupyter environment, please rerun this cell to show the HTML representation or trust the notebook. <br />On GitHub, the HTML representation is unable to render, please try loading this page with nbviewer.org.</b></div><div class=\"sk-container\" hidden><div class=\"sk-item\"><div class=\"sk-estimator sk-toggleable\"><input class=\"sk-toggleable__control sk-hidden--visually\" id=\"sk-estimator-id-4\" type=\"checkbox\" checked><label for=\"sk-estimator-id-4\" class=\"sk-toggleable__label sk-toggleable__label-arrow\">MLPClassifier</label><div class=\"sk-toggleable__content\"><pre>MLPClassifier(hidden_layer_sizes=(6, 5), learning_rate_init=0.01,\n",
       "              random_state=5, verbose=True)</pre></div></div></div></div></div>"
      ],
      "text/plain": [
       "MLPClassifier(hidden_layer_sizes=(6, 5), learning_rate_init=0.01,\n",
       "              random_state=5, verbose=True)"
      ]
     },
     "execution_count": 41,
     "metadata": {},
     "output_type": "execute_result"
    }
   ],
   "source": [
    "mlp_model = MLPClassifier(hidden_layer_sizes=(6, 5),\n",
    "                          random_state=5,\n",
    "                          verbose=True,\n",
    "                          learning_rate_init=0.01)\n",
    "mlp_model.fit(X_train, y_train)\n"
   ]
  },
  {
   "cell_type": "markdown",
   "metadata": {},
   "source": [
    "Validação (tunning de hyperparâmetros)"
   ]
  },
  {
   "cell_type": "code",
   "execution_count": 42,
   "metadata": {},
   "outputs": [
    {
     "name": "stdout",
     "output_type": "stream",
     "text": [
      "F1 Score: 93.63%\n",
      "Accuracy Score: 93.63%\n",
      "Precision Score: 92.16%\n",
      "Recall Score: 95.37%\n"
     ]
    },
    {
     "name": "stderr",
     "output_type": "stream",
     "text": [
      "/home/felipe/dev/predicao-falha-entrega-logistica/venv/lib/python3.8/site-packages/sklearn/utils/deprecation.py:87: FutureWarning: Function plot_confusion_matrix is deprecated; Function `plot_confusion_matrix` is deprecated in 1.0 and will be removed in 1.2. Use one of the class methods: ConfusionMatrixDisplay.from_predictions or ConfusionMatrixDisplay.from_estimator.\n",
      "  warnings.warn(msg, category=FutureWarning)\n"
     ]
    },
    {
     "data": {
      "image/png": "[encoded data removed]",
      "text/plain": [
       "<Figure size 432x288 with 2 Axes>"
      ]
     },
     "metadata": {
      "needs_background": "light"
     },
     "output_type": "display_data"
    }
   ],
   "source": [
    "predict_MLP = mlp_model.predict(X_val)\n",
    "\n",
    "f1 = round(f1_score(y_val, predict_MLP, average='macro')*100, 2)\n",
    "accuracy = round(accuracy_score(y_val, predict_MLP)*100, 2)\n",
    "precision = round(precision_score(y_val, predict_MLP)*100, 2)\n",
    "recall = round(recall_score(y_val, predict_MLP)*100, 2)\n",
    "\n",
    "print(f\"F1 Score: {f1}%\")\n",
    "print(f\"Accuracy Score: {accuracy}%\")\n",
    "print(f\"Precision Score: {precision}%\")\n",
    "print(f\"Recall Score: {recall}%\")\n",
    "\n",
    "plot_confusion_matrix(mlp_model, X_val, y_val, display_labels=[\n",
    "                      \"normal\", \"churn\"], values_format=\"d\")\n",
    "plt.grid(False)\n",
    "plt.show()"
   ]
  },
  {
   "cell_type": "markdown",
   "metadata": {},
   "source": [
    "Teste"
   ]
  },
  {
   "cell_type": "code",
   "execution_count": 43,
   "metadata": {},
   "outputs": [
    {
     "name": "stdout",
     "output_type": "stream",
     "text": [
      "F1 Score: 93.65%\n",
      "Accuracy Score: 93.65%\n",
      "Precision Score: 93.65%\n",
      "Recall Score: 93.65%\n"
     ]
    },
    {
     "name": "stderr",
     "output_type": "stream",
     "text": [
      "/home/felipe/dev/predicao-falha-entrega-logistica/venv/lib/python3.8/site-packages/sklearn/utils/deprecation.py:87: FutureWarning: Function plot_confusion_matrix is deprecated; Function `plot_confusion_matrix` is deprecated in 1.0 and will be removed in 1.2. Use one of the class methods: ConfusionMatrixDisplay.from_predictions or ConfusionMatrixDisplay.from_estimator.\n",
      "  warnings.warn(msg, category=FutureWarning)\n"
     ]
    },
    {
     "data": {
      "image/png": "[encoded data removed]",
      "text/plain": [
       "<Figure size 432x288 with 2 Axes>"
      ]
     },
     "metadata": {
      "needs_background": "light"
     },
     "output_type": "display_data"
    }
   ],
   "source": [
    "predict_MLP = mlp_model.predict(X_test)\n",
    "\n",
    "f1 = round(f1_score(y_test, predict_MLP, average='macro')*100, 2)\n",
    "accuracy = round(accuracy_score(y_test, predict_MLP)*100, 2)\n",
    "precision = round(precision_score(y_test, predict_MLP)*100, 2)\n",
    "recall = round(recall_score(y_test, predict_MLP)*100, 2)\n",
    "\n",
    "print(f\"F1 Score: {f1}%\")\n",
    "print(f\"Accuracy Score: {accuracy}%\")\n",
    "print(f\"Precision Score: {precision}%\")\n",
    "print(f\"Recall Score: {recall}%\")\n",
    "\n",
    "plot_confusion_matrix(mlp_model, X_test, y_test, display_labels=[\n",
    "                      \"normal\", \"churn\"], values_format=\"d\")\n",
    "plt.grid(False)\n",
    "plt.show()\n"
   ]
  }
 ],
 "metadata": {
  "interpreter": {
   "hash": "df22b620659d0851eab3fae92e5b56650244b7340b5544c73c38c255df529449"
  },
  "kernelspec": {
   "display_name": "Python 3.8.10 ('venv': venv)",
   "language": "python",
   "name": "python3"
  },
  "language_info": {
   "codemirror_mode": {
    "name": "ipython",
    "version": 3
   },
   "file_extension": ".py",
   "mimetype": "text/x-python",
   "name": "python",
   "nbconvert_exporter": "python",
   "pygments_lexer": "ipython3",
   "version": "3.8.10"
  },
  "orig_nbformat": 4
 },
 "nbformat": 4,
 "nbformat_minor": 2
}
