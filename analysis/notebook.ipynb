{
 "cells": [
  {
   "cell_type": "code",
   "execution_count": 5,
   "metadata": {},
   "outputs": [],
   "source": [
    "\n",
    "from datetime import datetime\n",
    "import time\n",
    "\n",
    "import pandas as pd\n",
    "from sklearn.model_selection import train_test_split\n",
    "from sklearn.metrics import plot_confusion_matrix, f1_score, accuracy_score, precision_score, recall_score\n",
    "from sklearn import metrics\n",
    "from sklearn.preprocessing import RobustScaler\n",
    "\n",
    "import autosklearn.classification\n",
    "\n",
    "import matplotlib.pyplot as plt\n"
   ]
  },
  {
   "cell_type": "code",
   "execution_count": 6,
   "metadata": {},
   "outputs": [],
   "source": [
    "df = pd.read_csv('../data/ordens_case_dnc_.csv', index_col='id')\n"
   ]
  },
  {
   "cell_type": "code",
   "execution_count": 7,
   "metadata": {},
   "outputs": [
    {
     "data": {
      "text/html": [
       "<div>\n",
       "<style scoped>\n",
       "    .dataframe tbody tr th:only-of-type {\n",
       "        vertical-align: middle;\n",
       "    }\n",
       "\n",
       "    .dataframe tbody tr th {\n",
       "        vertical-align: top;\n",
       "    }\n",
       "\n",
       "    .dataframe thead th {\n",
       "        text-align: right;\n",
       "    }\n",
       "</style>\n",
       "<table border=\"1\" class=\"dataframe\">\n",
       "  <thead>\n",
       "    <tr style=\"text-align: right;\">\n",
       "      <th></th>\n",
       "      <th>price</th>\n",
       "      <th>order_date</th>\n",
       "      <th>due_date</th>\n",
       "      <th>opt_date</th>\n",
       "      <th>delivery_date</th>\n",
       "      <th>cidade_origem_id</th>\n",
       "      <th>regiao_origem_id</th>\n",
       "      <th>cidade_destino_id</th>\n",
       "      <th>regiao_destino_id</th>\n",
       "      <th>peso</th>\n",
       "    </tr>\n",
       "    <tr>\n",
       "      <th>id</th>\n",
       "      <th></th>\n",
       "      <th></th>\n",
       "      <th></th>\n",
       "      <th></th>\n",
       "      <th></th>\n",
       "      <th></th>\n",
       "      <th></th>\n",
       "      <th></th>\n",
       "      <th></th>\n",
       "      <th></th>\n",
       "    </tr>\n",
       "  </thead>\n",
       "  <tbody>\n",
       "    <tr>\n",
       "      <th>0</th>\n",
       "      <td>107.78</td>\n",
       "      <td>2022-02-25 20:46:25+00:00</td>\n",
       "      <td>2022-03-02 00:00:00</td>\n",
       "      <td>2022-02-28 20:35:20</td>\n",
       "      <td>2022-03-02 18:03:33</td>\n",
       "      <td>2</td>\n",
       "      <td>1</td>\n",
       "      <td>25</td>\n",
       "      <td>1</td>\n",
       "      <td>23.8</td>\n",
       "    </tr>\n",
       "    <tr>\n",
       "      <th>1</th>\n",
       "      <td>7.47</td>\n",
       "      <td>2022-02-23 20:34:59+00:00</td>\n",
       "      <td>2022-02-24 00:00:00</td>\n",
       "      <td>2022-02-24 09:56:23</td>\n",
       "      <td>2022-02-24 15:52:40</td>\n",
       "      <td>2</td>\n",
       "      <td>1</td>\n",
       "      <td>16</td>\n",
       "      <td>4</td>\n",
       "      <td>536.0</td>\n",
       "    </tr>\n",
       "  </tbody>\n",
       "</table>\n",
       "</div>"
      ],
      "text/plain": [
       "     price                 order_date             due_date  \\\n",
       "id                                                           \n",
       "0   107.78  2022-02-25 20:46:25+00:00  2022-03-02 00:00:00   \n",
       "1     7.47  2022-02-23 20:34:59+00:00  2022-02-24 00:00:00   \n",
       "\n",
       "               opt_date        delivery_date  cidade_origem_id  \\\n",
       "id                                                               \n",
       "0   2022-02-28 20:35:20  2022-03-02 18:03:33                 2   \n",
       "1   2022-02-24 09:56:23  2022-02-24 15:52:40                 2   \n",
       "\n",
       "    regiao_origem_id  cidade_destino_id  regiao_destino_id   peso  \n",
       "id                                                                 \n",
       "0                  1                 25                  1   23.8  \n",
       "1                  1                 16                  4  536.0  "
      ]
     },
     "execution_count": 7,
     "metadata": {},
     "output_type": "execute_result"
    }
   ],
   "source": [
    "df.head(2)"
   ]
  },
  {
   "cell_type": "code",
   "execution_count": 8,
   "metadata": {},
   "outputs": [],
   "source": [
    "df['order_date'] = df['order_date'].str[:-6]"
   ]
  },
  {
   "cell_type": "code",
   "execution_count": 9,
   "metadata": {},
   "outputs": [
    {
     "data": {
      "text/html": [
       "<div>\n",
       "<style scoped>\n",
       "    .dataframe tbody tr th:only-of-type {\n",
       "        vertical-align: middle;\n",
       "    }\n",
       "\n",
       "    .dataframe tbody tr th {\n",
       "        vertical-align: top;\n",
       "    }\n",
       "\n",
       "    .dataframe thead th {\n",
       "        text-align: right;\n",
       "    }\n",
       "</style>\n",
       "<table border=\"1\" class=\"dataframe\">\n",
       "  <thead>\n",
       "    <tr style=\"text-align: right;\">\n",
       "      <th></th>\n",
       "      <th>price</th>\n",
       "      <th>order_date</th>\n",
       "      <th>due_date</th>\n",
       "      <th>opt_date</th>\n",
       "      <th>delivery_date</th>\n",
       "      <th>cidade_origem_id</th>\n",
       "      <th>regiao_origem_id</th>\n",
       "      <th>cidade_destino_id</th>\n",
       "      <th>regiao_destino_id</th>\n",
       "      <th>peso</th>\n",
       "    </tr>\n",
       "    <tr>\n",
       "      <th>id</th>\n",
       "      <th></th>\n",
       "      <th></th>\n",
       "      <th></th>\n",
       "      <th></th>\n",
       "      <th></th>\n",
       "      <th></th>\n",
       "      <th></th>\n",
       "      <th></th>\n",
       "      <th></th>\n",
       "      <th></th>\n",
       "    </tr>\n",
       "  </thead>\n",
       "  <tbody>\n",
       "    <tr>\n",
       "      <th>0</th>\n",
       "      <td>107.78</td>\n",
       "      <td>2022-02-25 20:46:25</td>\n",
       "      <td>2022-03-02 00:00:00</td>\n",
       "      <td>2022-02-28 20:35:20</td>\n",
       "      <td>2022-03-02 18:03:33</td>\n",
       "      <td>2</td>\n",
       "      <td>1</td>\n",
       "      <td>25</td>\n",
       "      <td>1</td>\n",
       "      <td>23.8</td>\n",
       "    </tr>\n",
       "    <tr>\n",
       "      <th>1</th>\n",
       "      <td>7.47</td>\n",
       "      <td>2022-02-23 20:34:59</td>\n",
       "      <td>2022-02-24 00:00:00</td>\n",
       "      <td>2022-02-24 09:56:23</td>\n",
       "      <td>2022-02-24 15:52:40</td>\n",
       "      <td>2</td>\n",
       "      <td>1</td>\n",
       "      <td>16</td>\n",
       "      <td>4</td>\n",
       "      <td>536.0</td>\n",
       "    </tr>\n",
       "  </tbody>\n",
       "</table>\n",
       "</div>"
      ],
      "text/plain": [
       "     price           order_date             due_date             opt_date  \\\n",
       "id                                                                          \n",
       "0   107.78  2022-02-25 20:46:25  2022-03-02 00:00:00  2022-02-28 20:35:20   \n",
       "1     7.47  2022-02-23 20:34:59  2022-02-24 00:00:00  2022-02-24 09:56:23   \n",
       "\n",
       "          delivery_date  cidade_origem_id  regiao_origem_id  \\\n",
       "id                                                            \n",
       "0   2022-03-02 18:03:33                 2                 1   \n",
       "1   2022-02-24 15:52:40                 2                 1   \n",
       "\n",
       "    cidade_destino_id  regiao_destino_id   peso  \n",
       "id                                               \n",
       "0                  25                  1   23.8  \n",
       "1                  16                  4  536.0  "
      ]
     },
     "execution_count": 9,
     "metadata": {},
     "output_type": "execute_result"
    }
   ],
   "source": [
    "df.head(2)\n"
   ]
  },
  {
   "cell_type": "code",
   "execution_count": 10,
   "metadata": {},
   "outputs": [],
   "source": [
    "def getTimeSeconds(x):\n",
    "    d = datetime.strptime(x, \"%Y-%m-%d %H:%M:%S\")\n",
    "    return int(time.mktime(d.timetuple()))\n",
    "\n",
    "\n",
    "df['order_date'] = df['order_date'].apply(getTimeSeconds)\n",
    "df['due_date'] = df['due_date'].apply(getTimeSeconds)\n",
    "df['opt_date'] = df['opt_date'].apply(getTimeSeconds)\n",
    "df['delivery_date'] = df['delivery_date'].apply(getTimeSeconds)\n"
   ]
  },
  {
   "cell_type": "code",
   "execution_count": 11,
   "metadata": {},
   "outputs": [],
   "source": [
    "df['elapsed_time'] = df['delivery_date'] - df['opt_date']\n"
   ]
  },
  {
   "cell_type": "code",
   "execution_count": 12,
   "metadata": {},
   "outputs": [
    {
     "data": {
      "text/html": [
       "<div>\n",
       "<style scoped>\n",
       "    .dataframe tbody tr th:only-of-type {\n",
       "        vertical-align: middle;\n",
       "    }\n",
       "\n",
       "    .dataframe tbody tr th {\n",
       "        vertical-align: top;\n",
       "    }\n",
       "\n",
       "    .dataframe thead th {\n",
       "        text-align: right;\n",
       "    }\n",
       "</style>\n",
       "<table border=\"1\" class=\"dataframe\">\n",
       "  <thead>\n",
       "    <tr style=\"text-align: right;\">\n",
       "      <th></th>\n",
       "      <th>price</th>\n",
       "      <th>order_date</th>\n",
       "      <th>due_date</th>\n",
       "      <th>opt_date</th>\n",
       "      <th>delivery_date</th>\n",
       "      <th>cidade_origem_id</th>\n",
       "      <th>regiao_origem_id</th>\n",
       "      <th>cidade_destino_id</th>\n",
       "      <th>regiao_destino_id</th>\n",
       "      <th>peso</th>\n",
       "      <th>elapsed_time</th>\n",
       "    </tr>\n",
       "    <tr>\n",
       "      <th>id</th>\n",
       "      <th></th>\n",
       "      <th></th>\n",
       "      <th></th>\n",
       "      <th></th>\n",
       "      <th></th>\n",
       "      <th></th>\n",
       "      <th></th>\n",
       "      <th></th>\n",
       "      <th></th>\n",
       "      <th></th>\n",
       "      <th></th>\n",
       "    </tr>\n",
       "  </thead>\n",
       "  <tbody>\n",
       "    <tr>\n",
       "      <th>0</th>\n",
       "      <td>107.78</td>\n",
       "      <td>1645832785</td>\n",
       "      <td>1646190000</td>\n",
       "      <td>1646091320</td>\n",
       "      <td>1646255013</td>\n",
       "      <td>2</td>\n",
       "      <td>1</td>\n",
       "      <td>25</td>\n",
       "      <td>1</td>\n",
       "      <td>23.8</td>\n",
       "      <td>163693</td>\n",
       "    </tr>\n",
       "    <tr>\n",
       "      <th>1</th>\n",
       "      <td>7.47</td>\n",
       "      <td>1645659299</td>\n",
       "      <td>1645671600</td>\n",
       "      <td>1645707383</td>\n",
       "      <td>1645728760</td>\n",
       "      <td>2</td>\n",
       "      <td>1</td>\n",
       "      <td>16</td>\n",
       "      <td>4</td>\n",
       "      <td>536.0</td>\n",
       "      <td>21377</td>\n",
       "    </tr>\n",
       "    <tr>\n",
       "      <th>2</th>\n",
       "      <td>5.98</td>\n",
       "      <td>1645659319</td>\n",
       "      <td>1645671600</td>\n",
       "      <td>1645658978</td>\n",
       "      <td>1645754138</td>\n",
       "      <td>2</td>\n",
       "      <td>1</td>\n",
       "      <td>88</td>\n",
       "      <td>1</td>\n",
       "      <td>202.0</td>\n",
       "      <td>95160</td>\n",
       "    </tr>\n",
       "  </tbody>\n",
       "</table>\n",
       "</div>"
      ],
      "text/plain": [
       "     price  order_date    due_date    opt_date  delivery_date  \\\n",
       "id                                                              \n",
       "0   107.78  1645832785  1646190000  1646091320     1646255013   \n",
       "1     7.47  1645659299  1645671600  1645707383     1645728760   \n",
       "2     5.98  1645659319  1645671600  1645658978     1645754138   \n",
       "\n",
       "    cidade_origem_id  regiao_origem_id  cidade_destino_id  regiao_destino_id  \\\n",
       "id                                                                             \n",
       "0                  2                 1                 25                  1   \n",
       "1                  2                 1                 16                  4   \n",
       "2                  2                 1                 88                  1   \n",
       "\n",
       "     peso  elapsed_time  \n",
       "id                       \n",
       "0    23.8        163693  \n",
       "1   536.0         21377  \n",
       "2   202.0         95160  "
      ]
     },
     "execution_count": 12,
     "metadata": {},
     "output_type": "execute_result"
    }
   ],
   "source": [
    "df.head(3)\n"
   ]
  },
  {
   "cell_type": "code",
   "execution_count": 13,
   "metadata": {},
   "outputs": [
    {
     "name": "stderr",
     "output_type": "stream",
     "text": [
      "/tmp/ipykernel_3272/1026693437.py:2: SettingWithCopyWarning: \n",
      "A value is trying to be set on a copy of a slice from a DataFrame\n",
      "\n",
      "See the caveats in the documentation: https://pandas.pydata.org/pandas-docs/stable/user_guide/indexing.html#returning-a-view-versus-a-copy\n",
      "  df['outcome'].iloc[df['due_date'] <= df['delivery_date']] = 1\n"
     ]
    }
   ],
   "source": [
    "df['outcome'] = 0\n",
    "df['outcome'].iloc[df['due_date'] <= df['delivery_date']] = 1\n"
   ]
  },
  {
   "cell_type": "code",
   "execution_count": 15,
   "metadata": {},
   "outputs": [
    {
     "data": {
      "text/plain": [
       "1    1244\n",
       "0     551\n",
       "Name: outcome, dtype: int64"
      ]
     },
     "execution_count": 15,
     "metadata": {},
     "output_type": "execute_result"
    }
   ],
   "source": [
    "df['outcome'].value_counts()"
   ]
  },
  {
   "cell_type": "code",
   "execution_count": 54,
   "metadata": {},
   "outputs": [
    {
     "data": {
      "text/html": [
       "<div>\n",
       "<style scoped>\n",
       "    .dataframe tbody tr th:only-of-type {\n",
       "        vertical-align: middle;\n",
       "    }\n",
       "\n",
       "    .dataframe tbody tr th {\n",
       "        vertical-align: top;\n",
       "    }\n",
       "\n",
       "    .dataframe thead th {\n",
       "        text-align: right;\n",
       "    }\n",
       "</style>\n",
       "<table border=\"1\" class=\"dataframe\">\n",
       "  <thead>\n",
       "    <tr style=\"text-align: right;\">\n",
       "      <th></th>\n",
       "      <th>price</th>\n",
       "      <th>order_date</th>\n",
       "      <th>due_date</th>\n",
       "      <th>opt_date</th>\n",
       "      <th>delivery_date</th>\n",
       "      <th>cidade_origem_id</th>\n",
       "      <th>regiao_origem_id</th>\n",
       "      <th>cidade_destino_id</th>\n",
       "      <th>regiao_destino_id</th>\n",
       "      <th>peso</th>\n",
       "      <th>elapsed_time</th>\n",
       "      <th>outcome</th>\n",
       "    </tr>\n",
       "    <tr>\n",
       "      <th>id</th>\n",
       "      <th></th>\n",
       "      <th></th>\n",
       "      <th></th>\n",
       "      <th></th>\n",
       "      <th></th>\n",
       "      <th></th>\n",
       "      <th></th>\n",
       "      <th></th>\n",
       "      <th></th>\n",
       "      <th></th>\n",
       "      <th></th>\n",
       "      <th></th>\n",
       "    </tr>\n",
       "  </thead>\n",
       "  <tbody>\n",
       "    <tr>\n",
       "      <th>0</th>\n",
       "      <td>107.78</td>\n",
       "      <td>1645832785</td>\n",
       "      <td>1646190000</td>\n",
       "      <td>1646091320</td>\n",
       "      <td>1646255013</td>\n",
       "      <td>2</td>\n",
       "      <td>1</td>\n",
       "      <td>25</td>\n",
       "      <td>1</td>\n",
       "      <td>23.8</td>\n",
       "      <td>163693</td>\n",
       "      <td>1</td>\n",
       "    </tr>\n",
       "    <tr>\n",
       "      <th>1</th>\n",
       "      <td>7.47</td>\n",
       "      <td>1645659299</td>\n",
       "      <td>1645671600</td>\n",
       "      <td>1645707383</td>\n",
       "      <td>1645728760</td>\n",
       "      <td>2</td>\n",
       "      <td>1</td>\n",
       "      <td>16</td>\n",
       "      <td>4</td>\n",
       "      <td>536.0</td>\n",
       "      <td>21377</td>\n",
       "      <td>1</td>\n",
       "    </tr>\n",
       "    <tr>\n",
       "      <th>2</th>\n",
       "      <td>5.98</td>\n",
       "      <td>1645659319</td>\n",
       "      <td>1645671600</td>\n",
       "      <td>1645658978</td>\n",
       "      <td>1645754138</td>\n",
       "      <td>2</td>\n",
       "      <td>1</td>\n",
       "      <td>88</td>\n",
       "      <td>1</td>\n",
       "      <td>202.0</td>\n",
       "      <td>95160</td>\n",
       "      <td>1</td>\n",
       "    </tr>\n",
       "  </tbody>\n",
       "</table>\n",
       "</div>"
      ],
      "text/plain": [
       "     price  order_date    due_date    opt_date  delivery_date  \\\n",
       "id                                                              \n",
       "0   107.78  1645832785  1646190000  1646091320     1646255013   \n",
       "1     7.47  1645659299  1645671600  1645707383     1645728760   \n",
       "2     5.98  1645659319  1645671600  1645658978     1645754138   \n",
       "\n",
       "    cidade_origem_id  regiao_origem_id  cidade_destino_id  regiao_destino_id  \\\n",
       "id                                                                             \n",
       "0                  2                 1                 25                  1   \n",
       "1                  2                 1                 16                  4   \n",
       "2                  2                 1                 88                  1   \n",
       "\n",
       "     peso  elapsed_time  outcome  \n",
       "id                                \n",
       "0    23.8        163693        1  \n",
       "1   536.0         21377        1  \n",
       "2   202.0         95160        1  "
      ]
     },
     "execution_count": 54,
     "metadata": {},
     "output_type": "execute_result"
    }
   ],
   "source": [
    "df.head(3)"
   ]
  },
  {
   "cell_type": "code",
   "execution_count": 55,
   "metadata": {},
   "outputs": [],
   "source": [
    "df[\"cidade_origem_id\"] = df[\"cidade_origem_id\"].astype(\"category\")\n",
    "df[\"regiao_origem_id\"] = df[\"regiao_origem_id\"].astype(\"category\")\n",
    "df[\"cidade_destino_id\"] = df[\"cidade_destino_id\"].astype(\"category\")\n",
    "df[\"regiao_destino_id\"] = df[\"regiao_destino_id\"].astype(\"category\")\n"
   ]
  },
  {
   "cell_type": "code",
   "execution_count": 56,
   "metadata": {},
   "outputs": [
    {
     "data": {
      "text/plain": [
       "price                 float64\n",
       "order_date              int64\n",
       "due_date                int64\n",
       "opt_date                int64\n",
       "delivery_date           int64\n",
       "cidade_origem_id     category\n",
       "regiao_origem_id     category\n",
       "cidade_destino_id    category\n",
       "regiao_destino_id    category\n",
       "peso                  float64\n",
       "elapsed_time            int64\n",
       "outcome                 int64\n",
       "dtype: object"
      ]
     },
     "execution_count": 56,
     "metadata": {},
     "output_type": "execute_result"
    }
   ],
   "source": [
    "df.dtypes"
   ]
  },
  {
   "cell_type": "code",
   "execution_count": 16,
   "metadata": {},
   "outputs": [
    {
     "data": {
      "text/plain": [
       "<AxesSubplot:ylabel='Frequency'>"
      ]
     },
     "execution_count": 16,
     "metadata": {},
     "output_type": "execute_result"
    },
    {
     "data": {
      "image/png": "[encoded data removed]",
      "text/plain": [
       "<Figure size 432x288 with 1 Axes>"
      ]
     },
     "metadata": {
      "needs_background": "light"
     },
     "output_type": "display_data"
    }
   ],
   "source": [
    "df['outcome'].plot.hist(bins=2)\n"
   ]
  },
  {
   "cell_type": "code",
   "execution_count": 17,
   "metadata": {},
   "outputs": [],
   "source": [
    "def trataDados(df_dados, target):\n",
    "    # Dummificação\n",
    "    dfCat = pd.get_dummies(df_dados.select_dtypes(include=['category']), columns=[\n",
    "        'cidade_origem_id', 'regiao_origem_id', 'cidade_destino_id', 'regiao_destino_id']).copy()\n",
    "\n",
    "    df_dados.drop(columns=['cidade_origem_id', 'regiao_origem_id', 'cidade_destino_id', 'regiao_destino_id'], inplace = True)\n",
    "    df_dados = df_dados.join(dfCat)\n",
    "\n",
    "    # Normalização dos dados (verificar com outros normalizadores)\n",
    "    dfNum = pd.DataFrame()\n",
    "    dfNum[['price', 'order_date', 'due_date', 'opt_date', 'delivery_date', 'peso', 'elapsed_time']] = RobustScaler(\n",
    "    ).fit_transform(df_dados[['price', 'order_date', 'due_date', 'opt_date', 'delivery_date', 'peso', 'elapsed_time']]).copy()\n",
    "\n",
    "    df_dados.drop(columns=['price', 'order_date', 'due_date', 'opt_date',\n",
    "                  'delivery_date', 'peso', 'elapsed_time'], inplace=True)\n",
    "    df_dados = df_dados.join(dfNum)\n",
    "\n",
    "    return df_dados, target\n"
   ]
  },
  {
   "cell_type": "code",
   "execution_count": 59,
   "metadata": {},
   "outputs": [],
   "source": [
    "X = df.drop(['outcome'], axis=1)\n",
    "y = df['outcome']\n",
    "\n",
    "X_train, X_test, y_train, y_test = train_test_split(\n",
    "    X, y, test_size=0.2, random_state=42)\n",
    "\n",
    "X_train = pd.DataFrame(X_train, columns=X_train.columns)\n",
    "y_train = pd.Series(y_train)\n",
    "\n",
    "X_train, X_val, y_train, y_val = train_test_split(\n",
    "    X_train, y_train, test_size=0.25, random_state=42)  # 0.25 x\n",
    "\n",
    "X_train, y_train = trataDados(X_train, y_train)\n",
    "X_val, y_val = trataDados(X_val, y_val)\n",
    "X_test, y_test = trataDados(X_test, y_test)\n"
   ]
  },
  {
   "cell_type": "code",
   "execution_count": 60,
   "metadata": {},
   "outputs": [],
   "source": [
    "automl = autosklearn.classification.AutoSklearnClassifier(\n",
    "    time_left_for_this_task=30,\n",
    "    per_run_time_limit=10)\n"
   ]
  },
  {
   "cell_type": "code",
   "execution_count": 61,
   "metadata": {},
   "outputs": [
    {
     "name": "stderr",
     "output_type": "stream",
     "text": [
      "/usr/local/lib/python3.8/dist-packages/autosklearn/metalearning/metalearning/meta_base.py:68: FutureWarning: The frame.append method is deprecated and will be removed from pandas in a future version. Use pandas.concat instead.\n",
      "  self.metafeatures = self.metafeatures.append(metafeatures)\n",
      "/usr/local/lib/python3.8/dist-packages/autosklearn/metalearning/metalearning/meta_base.py:72: FutureWarning: The frame.append method is deprecated and will be removed from pandas in a future version. Use pandas.concat instead.\n",
      "  self.algorithm_runs[metric].append(runs)\n"
     ]
    },
    {
     "data": {
      "text/plain": [
       "AutoSklearnClassifier(per_run_time_limit=10, time_left_for_this_task=30)"
      ]
     },
     "execution_count": 61,
     "metadata": {},
     "output_type": "execute_result"
    }
   ],
   "source": [
    "automl.fit(X_train, y_train)\n"
   ]
  },
  {
   "cell_type": "code",
   "execution_count": 62,
   "metadata": {},
   "outputs": [],
   "source": [
    "pred = automl.predict(X_test)\n"
   ]
  },
  {
   "cell_type": "code",
   "execution_count": 63,
   "metadata": {},
   "outputs": [
    {
     "name": "stdout",
     "output_type": "stream",
     "text": [
      "F1 Score: 64.67%\n",
      "Accuracy Score: 67.41%\n",
      "Precision Score: 80.28%\n",
      "Recall Score: 69.51%\n"
     ]
    },
    {
     "name": "stderr",
     "output_type": "stream",
     "text": [
      "/home/felipe/.local/lib/python3.8/site-packages/sklearn/utils/deprecation.py:87: FutureWarning: Function plot_confusion_matrix is deprecated; Function `plot_confusion_matrix` is deprecated in 1.0 and will be removed in 1.2. Use one of the class methods: ConfusionMatrixDisplay.from_predictions or ConfusionMatrixDisplay.from_estimator.\n",
      "  warnings.warn(msg, category=FutureWarning)\n"
     ]
    },
    {
     "data": {
      "image/png": "[encoded data removed]",
      "text/plain": [
       "<Figure size 432x288 with 2 Axes>"
      ]
     },
     "metadata": {
      "needs_background": "light"
     },
     "output_type": "display_data"
    },
    {
     "name": "stderr",
     "output_type": "stream",
     "text": [
      "/home/felipe/.local/lib/python3.8/site-packages/sklearn/utils/deprecation.py:87: FutureWarning: Function plot_roc_curve is deprecated; Function :func:`plot_roc_curve` is deprecated in 1.0 and will be removed in 1.2. Use one of the class methods: :meth:`sklearn.metric.RocCurveDisplay.from_predictions` or :meth:`sklearn.metric.RocCurveDisplay.from_estimator`.\n",
      "  warnings.warn(msg, category=FutureWarning)\n"
     ]
    },
    {
     "data": {
      "image/png": "[encoded data removed]",
      "text/plain": [
       "<Figure size 432x288 with 1 Axes>"
      ]
     },
     "metadata": {
      "needs_background": "light"
     },
     "output_type": "display_data"
    }
   ],
   "source": [
    "predictAutoML = automl.predict(X_val)\n",
    "\n",
    "f1 = round(f1_score(y_val, predictAutoML, average='macro')*100, 2)\n",
    "accuracy = round(accuracy_score(y_val, predictAutoML)*100, 2)\n",
    "precision = round(precision_score(y_val, predictAutoML)*100, 2)\n",
    "recall = round(recall_score(y_val, predictAutoML)*100, 2)\n",
    "\n",
    "print(f\"F1 Score: {f1}%\")\n",
    "print(f\"Accuracy Score: {accuracy}%\")\n",
    "print(f\"Precision Score: {precision}%\")\n",
    "print(f\"Recall Score: {recall}%\")\n",
    "\n",
    "plot_confusion_matrix(automl, X_val, y_val, display_labels=[\n",
    "                      \"positive\", \"negative\"], values_format=\"d\")\n",
    "plt.grid(False)\n",
    "plt.show()\n",
    "\n",
    "metrics.plot_roc_curve(automl, X_val, y_val)\n",
    "plt.show()\n"
   ]
  },
  {
   "cell_type": "code",
   "execution_count": 64,
   "metadata": {},
   "outputs": [
    {
     "data": {
      "text/html": [
       "<div>\n",
       "<style scoped>\n",
       "    .dataframe tbody tr th:only-of-type {\n",
       "        vertical-align: middle;\n",
       "    }\n",
       "\n",
       "    .dataframe tbody tr th {\n",
       "        vertical-align: top;\n",
       "    }\n",
       "\n",
       "    .dataframe thead th {\n",
       "        text-align: right;\n",
       "    }\n",
       "</style>\n",
       "<table border=\"1\" class=\"dataframe\">\n",
       "  <thead>\n",
       "    <tr style=\"text-align: right;\">\n",
       "      <th></th>\n",
       "      <th>model_id</th>\n",
       "      <th>rank</th>\n",
       "      <th>cost</th>\n",
       "      <th>ensemble_weight</th>\n",
       "      <th>data_preprocessor</th>\n",
       "      <th>balancing</th>\n",
       "      <th>feature_preprocessor</th>\n",
       "      <th>classifier</th>\n",
       "      <th>sklearn_classifier</th>\n",
       "    </tr>\n",
       "  </thead>\n",
       "  <tbody>\n",
       "    <tr>\n",
       "      <th>2</th>\n",
       "      <td>2</td>\n",
       "      <td>1</td>\n",
       "      <td>0.27809</td>\n",
       "      <td>0.14</td>\n",
       "      <td>&lt;autosklearn.pipeline.components.data_preproce...</td>\n",
       "      <td>autosklearn.pipeline Balancing Imbalanced Clas...</td>\n",
       "      <td>&lt;autosklearn.pipeline.components.feature_prepr...</td>\n",
       "      <td>&lt;autosklearn.pipeline.components.classificatio...</td>\n",
       "      <td>(DecisionTreeClassifier(max_features=6, random...</td>\n",
       "    </tr>\n",
       "    <tr>\n",
       "      <th>4</th>\n",
       "      <td>4</td>\n",
       "      <td>2</td>\n",
       "      <td>0.300562</td>\n",
       "      <td>0.14</td>\n",
       "      <td>&lt;autosklearn.pipeline.components.data_preproce...</td>\n",
       "      <td>autosklearn.pipeline Balancing Imbalanced Clas...</td>\n",
       "      <td>&lt;autosklearn.pipeline.components.feature_prepr...</td>\n",
       "      <td>&lt;autosklearn.pipeline.components.classificatio...</td>\n",
       "      <td>LinearSVC(C=17045.7732372673, dual=False, inte...</td>\n",
       "    </tr>\n",
       "    <tr>\n",
       "      <th>8</th>\n",
       "      <td>8</td>\n",
       "      <td>3</td>\n",
       "      <td>0.300562</td>\n",
       "      <td>0.32</td>\n",
       "      <td>&lt;autosklearn.pipeline.components.data_preproce...</td>\n",
       "      <td>autosklearn.pipeline Balancing Imbalanced Clas...</td>\n",
       "      <td>&lt;autosklearn.pipeline.components.feature_prepr...</td>\n",
       "      <td>&lt;autosklearn.pipeline.components.classificatio...</td>\n",
       "      <td>(DecisionTreeClassifier(max_depth=6, random_st...</td>\n",
       "    </tr>\n",
       "    <tr>\n",
       "      <th>6</th>\n",
       "      <td>6</td>\n",
       "      <td>4</td>\n",
       "      <td>0.303371</td>\n",
       "      <td>0.3</td>\n",
       "      <td>&lt;autosklearn.pipeline.components.data_preproce...</td>\n",
       "      <td>autosklearn.pipeline Balancing Imbalanced Clas...</td>\n",
       "      <td>&lt;autosklearn.pipeline.components.feature_prepr...</td>\n",
       "      <td>&lt;autosklearn.pipeline.components.classificatio...</td>\n",
       "      <td>LinearDiscriminantAnalysis(shrinkage=0.5, solv...</td>\n",
       "    </tr>\n",
       "    <tr>\n",
       "      <th>3</th>\n",
       "      <td>3</td>\n",
       "      <td>5</td>\n",
       "      <td>0.317416</td>\n",
       "      <td>0.1</td>\n",
       "      <td>&lt;autosklearn.pipeline.components.data_preproce...</td>\n",
       "      <td>autosklearn.pipeline Balancing Imbalanced Clas...</td>\n",
       "      <td>&lt;autosklearn.pipeline.components.feature_prepr...</td>\n",
       "      <td>&lt;autosklearn.pipeline.components.classificatio...</td>\n",
       "      <td>(DecisionTreeClassifier(criterion='entropy', m...</td>\n",
       "    </tr>\n",
       "  </tbody>\n",
       "</table>\n",
       "</div>"
      ],
      "text/plain": [
       "  model_id rank      cost ensemble_weight  \\\n",
       "2        2    1   0.27809            0.14   \n",
       "4        4    2  0.300562            0.14   \n",
       "8        8    3  0.300562            0.32   \n",
       "6        6    4  0.303371             0.3   \n",
       "3        3    5  0.317416             0.1   \n",
       "\n",
       "                                   data_preprocessor  \\\n",
       "2  <autosklearn.pipeline.components.data_preproce...   \n",
       "4  <autosklearn.pipeline.components.data_preproce...   \n",
       "8  <autosklearn.pipeline.components.data_preproce...   \n",
       "6  <autosklearn.pipeline.components.data_preproce...   \n",
       "3  <autosklearn.pipeline.components.data_preproce...   \n",
       "\n",
       "                                           balancing  \\\n",
       "2  autosklearn.pipeline Balancing Imbalanced Clas...   \n",
       "4  autosklearn.pipeline Balancing Imbalanced Clas...   \n",
       "8  autosklearn.pipeline Balancing Imbalanced Clas...   \n",
       "6  autosklearn.pipeline Balancing Imbalanced Clas...   \n",
       "3  autosklearn.pipeline Balancing Imbalanced Clas...   \n",
       "\n",
       "                                feature_preprocessor  \\\n",
       "2  <autosklearn.pipeline.components.feature_prepr...   \n",
       "4  <autosklearn.pipeline.components.feature_prepr...   \n",
       "8  <autosklearn.pipeline.components.feature_prepr...   \n",
       "6  <autosklearn.pipeline.components.feature_prepr...   \n",
       "3  <autosklearn.pipeline.components.feature_prepr...   \n",
       "\n",
       "                                          classifier  \\\n",
       "2  <autosklearn.pipeline.components.classificatio...   \n",
       "4  <autosklearn.pipeline.components.classificatio...   \n",
       "8  <autosklearn.pipeline.components.classificatio...   \n",
       "6  <autosklearn.pipeline.components.classificatio...   \n",
       "3  <autosklearn.pipeline.components.classificatio...   \n",
       "\n",
       "                                  sklearn_classifier  \n",
       "2  (DecisionTreeClassifier(max_features=6, random...  \n",
       "4  LinearSVC(C=17045.7732372673, dual=False, inte...  \n",
       "8  (DecisionTreeClassifier(max_depth=6, random_st...  \n",
       "6  LinearDiscriminantAnalysis(shrinkage=0.5, solv...  \n",
       "3  (DecisionTreeClassifier(criterion='entropy', m...  "
      ]
     },
     "execution_count": 64,
     "metadata": {},
     "output_type": "execute_result"
    }
   ],
   "source": [
    "pd.DataFrame(automl.show_models()).transpose()"
   ]
  }
 ],
 "metadata": {
  "interpreter": {
   "hash": "916dbcbb3f70747c44a77c7bcd40155683ae19c65e1c03b4aa3499c5328201f1"
  },
  "kernelspec": {
   "display_name": "Python 3.8.10 64-bit",
   "language": "python",
   "name": "python3"
  },
  "language_info": {
   "codemirror_mode": {
    "name": "ipython",
    "version": 3
   },
   "file_extension": ".py",
   "mimetype": "text/x-python",
   "name": "python",
   "nbconvert_exporter": "python",
   "pygments_lexer": "ipython3",
   "version": "3.8.10"
  },
  "orig_nbformat": 4
 },
 "nbformat": 4,
 "nbformat_minor": 2
}
